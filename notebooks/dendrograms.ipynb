{
 "cells": [
  {
   "cell_type": "code",
   "execution_count": 93,
   "metadata": {},
   "outputs": [],
   "source": [
    "from plotly.figure_factory import create_dendrogram\n",
    "import numpy as np\n",
    "import pandas as pd\n",
    "import sqlite3"
   ]
  },
  {
   "cell_type": "code",
   "execution_count": 94,
   "metadata": {},
   "outputs": [
    {
     "data": {
      "text/html": [
       "<div>\n",
       "<style scoped>\n",
       "    .dataframe tbody tr th:only-of-type {\n",
       "        vertical-align: middle;\n",
       "    }\n",
       "\n",
       "    .dataframe tbody tr th {\n",
       "        vertical-align: top;\n",
       "    }\n",
       "\n",
       "    .dataframe thead th {\n",
       "        text-align: right;\n",
       "    }\n",
       "</style>\n",
       "<table border=\"1\" class=\"dataframe\">\n",
       "  <thead>\n",
       "    <tr style=\"text-align: right;\">\n",
       "      <th></th>\n",
       "      <th>player</th>\n",
       "      <th>avg_distance</th>\n",
       "      <th>avg_shotX</th>\n",
       "      <th>accuracy</th>\n",
       "      <th>top_quarter</th>\n",
       "    </tr>\n",
       "  </thead>\n",
       "  <tbody>\n",
       "    <tr>\n",
       "      <th>0</th>\n",
       "      <td>Aaron Brooks</td>\n",
       "      <td>14.642857</td>\n",
       "      <td>22.911905</td>\n",
       "      <td>0.380952</td>\n",
       "      <td>4</td>\n",
       "    </tr>\n",
       "    <tr>\n",
       "      <th>1</th>\n",
       "      <td>Aaron Gordon</td>\n",
       "      <td>13.178495</td>\n",
       "      <td>22.318172</td>\n",
       "      <td>0.416129</td>\n",
       "      <td>1</td>\n",
       "    </tr>\n",
       "    <tr>\n",
       "      <th>2</th>\n",
       "      <td>Aaron Harrison</td>\n",
       "      <td>18.927536</td>\n",
       "      <td>22.669565</td>\n",
       "      <td>0.275362</td>\n",
       "      <td>2</td>\n",
       "    </tr>\n",
       "    <tr>\n",
       "      <th>3</th>\n",
       "      <td>Aaron Holiday</td>\n",
       "      <td>17.765766</td>\n",
       "      <td>26.841441</td>\n",
       "      <td>0.423423</td>\n",
       "      <td>4</td>\n",
       "    </tr>\n",
       "    <tr>\n",
       "      <th>4</th>\n",
       "      <td>Aaron Jackson</td>\n",
       "      <td>9.333333</td>\n",
       "      <td>18.433333</td>\n",
       "      <td>0.666667</td>\n",
       "      <td>4</td>\n",
       "    </tr>\n",
       "  </tbody>\n",
       "</table>\n",
       "</div>"
      ],
      "text/plain": [
       "           player  avg_distance  avg_shotX  accuracy  top_quarter\n",
       "0    Aaron Brooks     14.642857  22.911905  0.380952            4\n",
       "1    Aaron Gordon     13.178495  22.318172  0.416129            1\n",
       "2  Aaron Harrison     18.927536  22.669565  0.275362            2\n",
       "3   Aaron Holiday     17.765766  26.841441  0.423423            4\n",
       "4   Aaron Jackson      9.333333  18.433333  0.666667            4"
      ]
     },
     "execution_count": 94,
     "metadata": {},
     "output_type": "execute_result"
    }
   ],
   "source": [
    "conn = sqlite3.connect('../data_processing/data/nba_shots.db')\n",
    "df = pd.read_sql('select player, avg_distance, avg_shotX, accuracy, top_quarter from player_profiles_by_year where year = 2018', conn)\n",
    "df.head()"
   ]
  },
  {
   "cell_type": "code",
   "execution_count": 95,
   "metadata": {},
   "outputs": [
    {
     "data": {
      "application/vnd.plotly.v1+json": {
       "config": {
        "plotlyServerURL": "https://plot.ly"
       },
       "data": [
        {
         "hoverinfo": "text",
         "marker": {
          "color": "rgb(61,153,112)"
         },
         "mode": "lines",
         "type": "scatter",
         "x": [
          35,
          35,
          45,
          45
         ],
         "xaxis": "x",
         "y": [
          0,
          0.6512649240421244,
          0.6512649240421244,
          0
         ],
         "yaxis": "y"
        },
        {
         "hoverinfo": "text",
         "marker": {
          "color": "rgb(61,153,112)"
         },
         "mode": "lines",
         "type": "scatter",
         "x": [
          25,
          25,
          40,
          40
         ],
         "xaxis": "x",
         "y": [
          0,
          1.2584999889639357,
          1.2584999889639357,
          0.6512649240421244
         ],
         "yaxis": "y"
        },
        {
         "hoverinfo": "text",
         "marker": {
          "color": "rgb(61,153,112)"
         },
         "mode": "lines",
         "type": "scatter",
         "x": [
          15,
          15,
          32.5,
          32.5
         ],
         "xaxis": "x",
         "y": [
          0,
          3.427827300200522,
          3.427827300200522,
          1.2584999889639357
         ],
         "yaxis": "y"
        },
        {
         "hoverinfo": "text",
         "marker": {
          "color": "rgb(61,153,112)"
         },
         "mode": "lines",
         "type": "scatter",
         "x": [
          65,
          65,
          75,
          75
         ],
         "xaxis": "x",
         "y": [
          0,
          0.48785120469645016,
          0.48785120469645016,
          0
         ],
         "yaxis": "y"
        },
        {
         "hoverinfo": "text",
         "marker": {
          "color": "rgb(61,153,112)"
         },
         "mode": "lines",
         "type": "scatter",
         "x": [
          55,
          55,
          70,
          70
         ],
         "xaxis": "x",
         "y": [
          0,
          1.249092375805267,
          1.249092375805267,
          0.48785120469645016
         ],
         "yaxis": "y"
        },
        {
         "hoverinfo": "text",
         "marker": {
          "color": "rgb(61,153,112)"
         },
         "mode": "lines",
         "type": "scatter",
         "x": [
          85,
          85,
          95,
          95
         ],
         "xaxis": "x",
         "y": [
          0,
          1.2796744981866126,
          1.2796744981866126,
          0
         ],
         "yaxis": "y"
        },
        {
         "hoverinfo": "text",
         "marker": {
          "color": "rgb(61,153,112)"
         },
         "mode": "lines",
         "type": "scatter",
         "x": [
          62.5,
          62.5,
          90,
          90
         ],
         "xaxis": "x",
         "y": [
          1.249092375805267,
          2.3587636865791883,
          2.3587636865791883,
          1.2796744981866126
         ],
         "yaxis": "y"
        },
        {
         "hoverinfo": "text",
         "marker": {
          "color": "rgb(61,153,112)"
         },
         "mode": "lines",
         "type": "scatter",
         "x": [
          125,
          125,
          135,
          135
         ],
         "xaxis": "x",
         "y": [
          0,
          0.32294495127994194,
          0.32294495127994194,
          0
         ],
         "yaxis": "y"
        },
        {
         "hoverinfo": "text",
         "marker": {
          "color": "rgb(61,153,112)"
         },
         "mode": "lines",
         "type": "scatter",
         "x": [
          115,
          115,
          130,
          130
         ],
         "xaxis": "x",
         "y": [
          0,
          0.8711899090847315,
          0.8711899090847315,
          0.32294495127994194
         ],
         "yaxis": "y"
        },
        {
         "hoverinfo": "text",
         "marker": {
          "color": "rgb(61,153,112)"
         },
         "mode": "lines",
         "type": "scatter",
         "x": [
          105,
          105,
          122.5,
          122.5
         ],
         "xaxis": "x",
         "y": [
          0,
          1.7898255310453002,
          1.7898255310453002,
          0.8711899090847315
         ],
         "yaxis": "y"
        },
        {
         "hoverinfo": "text",
         "marker": {
          "color": "rgb(61,153,112)"
         },
         "mode": "lines",
         "type": "scatter",
         "x": [
          165,
          165,
          175,
          175
         ],
         "xaxis": "x",
         "y": [
          0,
          0.47159068931067555,
          0.47159068931067555,
          0
         ],
         "yaxis": "y"
        },
        {
         "hoverinfo": "text",
         "marker": {
          "color": "rgb(61,153,112)"
         },
         "mode": "lines",
         "type": "scatter",
         "x": [
          155,
          155,
          170,
          170
         ],
         "xaxis": "x",
         "y": [
          0,
          0.904042959620562,
          0.904042959620562,
          0.47159068931067555
         ],
         "yaxis": "y"
        },
        {
         "hoverinfo": "text",
         "marker": {
          "color": "rgb(61,153,112)"
         },
         "mode": "lines",
         "type": "scatter",
         "x": [
          145,
          145,
          162.5,
          162.5
         ],
         "xaxis": "x",
         "y": [
          0,
          1.3847906663118372,
          1.3847906663118372,
          0.904042959620562
         ],
         "yaxis": "y"
        },
        {
         "hoverinfo": "text",
         "marker": {
          "color": "rgb(61,153,112)"
         },
         "mode": "lines",
         "type": "scatter",
         "x": [
          205,
          205,
          215,
          215
         ],
         "xaxis": "x",
         "y": [
          0,
          0.3525654141793745,
          0.3525654141793745,
          0
         ],
         "yaxis": "y"
        },
        {
         "hoverinfo": "text",
         "marker": {
          "color": "rgb(61,153,112)"
         },
         "mode": "lines",
         "type": "scatter",
         "x": [
          195,
          195,
          210,
          210
         ],
         "xaxis": "x",
         "y": [
          0,
          1.262508092178414,
          1.262508092178414,
          0.3525654141793745
         ],
         "yaxis": "y"
        },
        {
         "hoverinfo": "text",
         "marker": {
          "color": "rgb(61,153,112)"
         },
         "mode": "lines",
         "type": "scatter",
         "x": [
          185,
          185,
          202.5,
          202.5
         ],
         "xaxis": "x",
         "y": [
          0,
          1.8064499834589878,
          1.8064499834589878,
          1.262508092178414
         ],
         "yaxis": "y"
        },
        {
         "hoverinfo": "text",
         "marker": {
          "color": "rgb(61,153,112)"
         },
         "mode": "lines",
         "type": "scatter",
         "x": [
          153.75,
          153.75,
          193.75,
          193.75
         ],
         "xaxis": "x",
         "y": [
          1.3847906663118372,
          2.2117513747699555,
          2.2117513747699555,
          1.8064499834589878
         ],
         "yaxis": "y"
        },
        {
         "hoverinfo": "text",
         "marker": {
          "color": "rgb(61,153,112)"
         },
         "mode": "lines",
         "type": "scatter",
         "x": [
          113.75,
          113.75,
          173.75,
          173.75
         ],
         "xaxis": "x",
         "y": [
          1.7898255310453002,
          3.505365668518639,
          3.505365668518639,
          2.2117513747699555
         ],
         "yaxis": "y"
        },
        {
         "hoverinfo": "text",
         "marker": {
          "color": "rgb(61,153,112)"
         },
         "mode": "lines",
         "type": "scatter",
         "x": [
          76.25,
          76.25,
          143.75,
          143.75
         ],
         "xaxis": "x",
         "y": [
          2.3587636865791883,
          3.9993860291459318,
          3.9993860291459318,
          3.505365668518639
         ],
         "yaxis": "y"
        },
        {
         "hoverinfo": "text",
         "marker": {
          "color": "rgb(61,153,112)"
         },
         "mode": "lines",
         "type": "scatter",
         "x": [
          23.75,
          23.75,
          110,
          110
         ],
         "xaxis": "x",
         "y": [
          3.427827300200522,
          6.814425874569332,
          6.814425874569332,
          3.9993860291459318
         ],
         "yaxis": "y"
        },
        {
         "hoverinfo": "text",
         "marker": {
          "color": "rgb(255,65,54)"
         },
         "mode": "lines",
         "type": "scatter",
         "x": [
          235,
          235,
          245,
          245
         ],
         "xaxis": "x",
         "y": [
          0,
          1.6321292935860454,
          1.6321292935860454,
          0
         ],
         "yaxis": "y"
        },
        {
         "hoverinfo": "text",
         "marker": {
          "color": "rgb(255,65,54)"
         },
         "mode": "lines",
         "type": "scatter",
         "x": [
          225,
          225,
          240,
          240
         ],
         "xaxis": "x",
         "y": [
          0,
          2.771468613580268,
          2.771468613580268,
          1.6321292935860454
         ],
         "yaxis": "y"
        },
        {
         "hoverinfo": "text",
         "marker": {
          "color": "rgb(255,65,54)"
         },
         "mode": "lines",
         "type": "scatter",
         "x": [
          265,
          265,
          275,
          275
         ],
         "xaxis": "x",
         "y": [
          0,
          1.3076132769984372,
          1.3076132769984372,
          0
         ],
         "yaxis": "y"
        },
        {
         "hoverinfo": "text",
         "marker": {
          "color": "rgb(255,65,54)"
         },
         "mode": "lines",
         "type": "scatter",
         "x": [
          285,
          285,
          295,
          295
         ],
         "xaxis": "x",
         "y": [
          0,
          1.832983570639553,
          1.832983570639553,
          0
         ],
         "yaxis": "y"
        },
        {
         "hoverinfo": "text",
         "marker": {
          "color": "rgb(255,65,54)"
         },
         "mode": "lines",
         "type": "scatter",
         "x": [
          270,
          270,
          290,
          290
         ],
         "xaxis": "x",
         "y": [
          1.3076132769984372,
          2.7509750728195654,
          2.7509750728195654,
          1.832983570639553
         ],
         "yaxis": "y"
        },
        {
         "hoverinfo": "text",
         "marker": {
          "color": "rgb(255,65,54)"
         },
         "mode": "lines",
         "type": "scatter",
         "x": [
          255,
          255,
          280,
          280
         ],
         "xaxis": "x",
         "y": [
          0,
          3.7289440989334404,
          3.7289440989334404,
          2.7509750728195654
         ],
         "yaxis": "y"
        },
        {
         "hoverinfo": "text",
         "marker": {
          "color": "rgb(255,65,54)"
         },
         "mode": "lines",
         "type": "scatter",
         "x": [
          232.5,
          232.5,
          267.5,
          267.5
         ],
         "xaxis": "x",
         "y": [
          2.771468613580268,
          5.466866602376356,
          5.466866602376356,
          3.7289440989334404
         ],
         "yaxis": "y"
        },
        {
         "hoverinfo": "text",
         "marker": {
          "color": "rgb(255,65,54)"
         },
         "mode": "lines",
         "type": "scatter",
         "x": [
          325,
          325,
          335,
          335
         ],
         "xaxis": "x",
         "y": [
          0,
          0.3526365015154975,
          0.3526365015154975,
          0
         ],
         "yaxis": "y"
        },
        {
         "hoverinfo": "text",
         "marker": {
          "color": "rgb(255,65,54)"
         },
         "mode": "lines",
         "type": "scatter",
         "x": [
          315,
          315,
          330,
          330
         ],
         "xaxis": "x",
         "y": [
          0,
          0.9653828533541119,
          0.9653828533541119,
          0.3526365015154975
         ],
         "yaxis": "y"
        },
        {
         "hoverinfo": "text",
         "marker": {
          "color": "rgb(255,65,54)"
         },
         "mode": "lines",
         "type": "scatter",
         "x": [
          305,
          305,
          322.5,
          322.5
         ],
         "xaxis": "x",
         "y": [
          0,
          2.5544835328824513,
          2.5544835328824513,
          0.9653828533541119
         ],
         "yaxis": "y"
        },
        {
         "hoverinfo": "text",
         "marker": {
          "color": "rgb(255,65,54)"
         },
         "mode": "lines",
         "type": "scatter",
         "x": [
          345,
          345,
          355,
          355
         ],
         "xaxis": "x",
         "y": [
          0,
          0.27887763756273054,
          0.27887763756273054,
          0
         ],
         "yaxis": "y"
        },
        {
         "hoverinfo": "text",
         "marker": {
          "color": "rgb(255,65,54)"
         },
         "mode": "lines",
         "type": "scatter",
         "x": [
          365,
          365,
          375,
          375
         ],
         "xaxis": "x",
         "y": [
          0,
          0.45480375337139894,
          0.45480375337139894,
          0
         ],
         "yaxis": "y"
        },
        {
         "hoverinfo": "text",
         "marker": {
          "color": "rgb(255,65,54)"
         },
         "mode": "lines",
         "type": "scatter",
         "x": [
          350,
          350,
          370,
          370
         ],
         "xaxis": "x",
         "y": [
          0.27887763756273054,
          0.8350001599132675,
          0.8350001599132675,
          0.45480375337139894
         ],
         "yaxis": "y"
        },
        {
         "hoverinfo": "text",
         "marker": {
          "color": "rgb(255,65,54)"
         },
         "mode": "lines",
         "type": "scatter",
         "x": [
          395,
          395,
          405,
          405
         ],
         "xaxis": "x",
         "y": [
          0,
          0.3235147556887668,
          0.3235147556887668,
          0
         ],
         "yaxis": "y"
        },
        {
         "hoverinfo": "text",
         "marker": {
          "color": "rgb(255,65,54)"
         },
         "mode": "lines",
         "type": "scatter",
         "x": [
          385,
          385,
          400,
          400
         ],
         "xaxis": "x",
         "y": [
          0,
          0.9467372094849424,
          0.9467372094849424,
          0.3235147556887668
         ],
         "yaxis": "y"
        },
        {
         "hoverinfo": "text",
         "marker": {
          "color": "rgb(255,65,54)"
         },
         "mode": "lines",
         "type": "scatter",
         "x": [
          360,
          360,
          392.5,
          392.5
         ],
         "xaxis": "x",
         "y": [
          0.8350001599132675,
          1.526857793949129,
          1.526857793949129,
          0.9467372094849424
         ],
         "yaxis": "y"
        },
        {
         "hoverinfo": "text",
         "marker": {
          "color": "rgb(255,65,54)"
         },
         "mode": "lines",
         "type": "scatter",
         "x": [
          435,
          435,
          445,
          445
         ],
         "xaxis": "x",
         "y": [
          0,
          0.42064339611648643,
          0.42064339611648643,
          0
         ],
         "yaxis": "y"
        },
        {
         "hoverinfo": "text",
         "marker": {
          "color": "rgb(255,65,54)"
         },
         "mode": "lines",
         "type": "scatter",
         "x": [
          425,
          425,
          440,
          440
         ],
         "xaxis": "x",
         "y": [
          0,
          0.9110271732324017,
          0.9110271732324017,
          0.42064339611648643
         ],
         "yaxis": "y"
        },
        {
         "hoverinfo": "text",
         "marker": {
          "color": "rgb(255,65,54)"
         },
         "mode": "lines",
         "type": "scatter",
         "x": [
          415,
          415,
          432.5,
          432.5
         ],
         "xaxis": "x",
         "y": [
          0,
          1.5600706359807563,
          1.5600706359807563,
          0.9110271732324017
         ],
         "yaxis": "y"
        },
        {
         "hoverinfo": "text",
         "marker": {
          "color": "rgb(255,65,54)"
         },
         "mode": "lines",
         "type": "scatter",
         "x": [
          465,
          465,
          475,
          475
         ],
         "xaxis": "x",
         "y": [
          0,
          1.081979008710032,
          1.081979008710032,
          0
         ],
         "yaxis": "y"
        },
        {
         "hoverinfo": "text",
         "marker": {
          "color": "rgb(255,65,54)"
         },
         "mode": "lines",
         "type": "scatter",
         "x": [
          455,
          455,
          470,
          470
         ],
         "xaxis": "x",
         "y": [
          0,
          1.5761472357651525,
          1.5761472357651525,
          1.081979008710032
         ],
         "yaxis": "y"
        },
        {
         "hoverinfo": "text",
         "marker": {
          "color": "rgb(255,65,54)"
         },
         "mode": "lines",
         "type": "scatter",
         "x": [
          423.75,
          423.75,
          462.5,
          462.5
         ],
         "xaxis": "x",
         "y": [
          1.5600706359807563,
          3.1131871349560347,
          3.1131871349560347,
          1.5761472357651525
         ],
         "yaxis": "y"
        },
        {
         "hoverinfo": "text",
         "marker": {
          "color": "rgb(255,65,54)"
         },
         "mode": "lines",
         "type": "scatter",
         "x": [
          376.25,
          376.25,
          443.125,
          443.125
         ],
         "xaxis": "x",
         "y": [
          1.526857793949129,
          3.4373801901570875,
          3.4373801901570875,
          3.1131871349560347
         ],
         "yaxis": "y"
        },
        {
         "hoverinfo": "text",
         "marker": {
          "color": "rgb(255,65,54)"
         },
         "mode": "lines",
         "type": "scatter",
         "x": [
          485,
          485,
          495,
          495
         ],
         "xaxis": "x",
         "y": [
          0,
          0.9462177720492555,
          0.9462177720492555,
          0
         ],
         "yaxis": "y"
        },
        {
         "hoverinfo": "text",
         "marker": {
          "color": "rgb(255,65,54)"
         },
         "mode": "lines",
         "type": "scatter",
         "x": [
          505,
          505,
          515,
          515
         ],
         "xaxis": "x",
         "y": [
          0,
          1.361510712316688,
          1.361510712316688,
          0
         ],
         "yaxis": "y"
        },
        {
         "hoverinfo": "text",
         "marker": {
          "color": "rgb(255,65,54)"
         },
         "mode": "lines",
         "type": "scatter",
         "x": [
          490,
          490,
          510,
          510
         ],
         "xaxis": "x",
         "y": [
          0.9462177720492555,
          2.3371484582861295,
          2.3371484582861295,
          1.361510712316688
         ],
         "yaxis": "y"
        },
        {
         "hoverinfo": "text",
         "marker": {
          "color": "rgb(255,65,54)"
         },
         "mode": "lines",
         "type": "scatter",
         "x": [
          525,
          525,
          535,
          535
         ],
         "xaxis": "x",
         "y": [
          0,
          1.0491752355309265,
          1.0491752355309265,
          0
         ],
         "yaxis": "y"
        },
        {
         "hoverinfo": "text",
         "marker": {
          "color": "rgb(255,65,54)"
         },
         "mode": "lines",
         "type": "scatter",
         "x": [
          555,
          555,
          565,
          565
         ],
         "xaxis": "x",
         "y": [
          0,
          0.6811241538102787,
          0.6811241538102787,
          0
         ],
         "yaxis": "y"
        },
        {
         "hoverinfo": "text",
         "marker": {
          "color": "rgb(255,65,54)"
         },
         "mode": "lines",
         "type": "scatter",
         "x": [
          545,
          545,
          560,
          560
         ],
         "xaxis": "x",
         "y": [
          0,
          0.9145722773105501,
          0.9145722773105501,
          0.6811241538102787
         ],
         "yaxis": "y"
        },
        {
         "hoverinfo": "text",
         "marker": {
          "color": "rgb(255,65,54)"
         },
         "mode": "lines",
         "type": "scatter",
         "x": [
          585,
          585,
          595,
          595
         ],
         "xaxis": "x",
         "y": [
          0,
          0.0911603072565368,
          0.0911603072565368,
          0
         ],
         "yaxis": "y"
        },
        {
         "hoverinfo": "text",
         "marker": {
          "color": "rgb(255,65,54)"
         },
         "mode": "lines",
         "type": "scatter",
         "x": [
          575,
          575,
          590,
          590
         ],
         "xaxis": "x",
         "y": [
          0,
          1.0945664172535836,
          1.0945664172535836,
          0.0911603072565368
         ],
         "yaxis": "y"
        },
        {
         "hoverinfo": "text",
         "marker": {
          "color": "rgb(255,65,54)"
         },
         "mode": "lines",
         "type": "scatter",
         "x": [
          552.5,
          552.5,
          582.5,
          582.5
         ],
         "xaxis": "x",
         "y": [
          0.9145722773105501,
          1.9345178549477575,
          1.9345178549477575,
          1.0945664172535836
         ],
         "yaxis": "y"
        },
        {
         "hoverinfo": "text",
         "marker": {
          "color": "rgb(255,65,54)"
         },
         "mode": "lines",
         "type": "scatter",
         "x": [
          530,
          530,
          567.5,
          567.5
         ],
         "xaxis": "x",
         "y": [
          1.0491752355309265,
          2.3728298049277643,
          2.3728298049277643,
          1.9345178549477575
         ],
         "yaxis": "y"
        },
        {
         "hoverinfo": "text",
         "marker": {
          "color": "rgb(255,65,54)"
         },
         "mode": "lines",
         "type": "scatter",
         "x": [
          500,
          500,
          548.75,
          548.75
         ],
         "xaxis": "x",
         "y": [
          2.3371484582861295,
          3.6609957393288117,
          3.6609957393288117,
          2.3728298049277643
         ],
         "yaxis": "y"
        },
        {
         "hoverinfo": "text",
         "marker": {
          "color": "rgb(255,65,54)"
         },
         "mode": "lines",
         "type": "scatter",
         "x": [
          409.6875,
          409.6875,
          524.375,
          524.375
         ],
         "xaxis": "x",
         "y": [
          3.4373801901570875,
          5.309660418327084,
          5.309660418327084,
          3.6609957393288117
         ],
         "yaxis": "y"
        },
        {
         "hoverinfo": "text",
         "marker": {
          "color": "rgb(255,65,54)"
         },
         "mode": "lines",
         "type": "scatter",
         "x": [
          313.75,
          313.75,
          467.03125,
          467.03125
         ],
         "xaxis": "x",
         "y": [
          2.5544835328824513,
          6.6104012495229405,
          6.6104012495229405,
          5.309660418327084
         ],
         "yaxis": "y"
        },
        {
         "hoverinfo": "text",
         "marker": {
          "color": "rgb(255,65,54)"
         },
         "mode": "lines",
         "type": "scatter",
         "x": [
          250,
          250,
          390.390625,
          390.390625
         ],
         "xaxis": "x",
         "y": [
          5.466866602376356,
          7.915727162265108,
          7.915727162265108,
          6.6104012495229405
         ],
         "yaxis": "y"
        },
        {
         "hoverinfo": "text",
         "marker": {
          "color": "rgb(35,205,205)"
         },
         "mode": "lines",
         "type": "scatter",
         "x": [
          635,
          635,
          645,
          645
         ],
         "xaxis": "x",
         "y": [
          0,
          1.161803508495721,
          1.161803508495721,
          0
         ],
         "yaxis": "y"
        },
        {
         "hoverinfo": "text",
         "marker": {
          "color": "rgb(35,205,205)"
         },
         "mode": "lines",
         "type": "scatter",
         "x": [
          625,
          625,
          640,
          640
         ],
         "xaxis": "x",
         "y": [
          0,
          1.3468820449351822,
          1.3468820449351822,
          1.161803508495721
         ],
         "yaxis": "y"
        },
        {
         "hoverinfo": "text",
         "marker": {
          "color": "rgb(35,205,205)"
         },
         "mode": "lines",
         "type": "scatter",
         "x": [
          615,
          615,
          632.5,
          632.5
         ],
         "xaxis": "x",
         "y": [
          0,
          2.181713416897529,
          2.181713416897529,
          1.3468820449351822
         ],
         "yaxis": "y"
        },
        {
         "hoverinfo": "text",
         "marker": {
          "color": "rgb(35,205,205)"
         },
         "mode": "lines",
         "type": "scatter",
         "x": [
          665,
          665,
          675,
          675
         ],
         "xaxis": "x",
         "y": [
          0,
          0.347561977026533,
          0.347561977026533,
          0
         ],
         "yaxis": "y"
        },
        {
         "hoverinfo": "text",
         "marker": {
          "color": "rgb(35,205,205)"
         },
         "mode": "lines",
         "type": "scatter",
         "x": [
          655,
          655,
          670,
          670
         ],
         "xaxis": "x",
         "y": [
          0,
          1.2333062518583529,
          1.2333062518583529,
          0.347561977026533
         ],
         "yaxis": "y"
        },
        {
         "hoverinfo": "text",
         "marker": {
          "color": "rgb(35,205,205)"
         },
         "mode": "lines",
         "type": "scatter",
         "x": [
          685,
          685,
          695,
          695
         ],
         "xaxis": "x",
         "y": [
          0,
          1.3944719622484283,
          1.3944719622484283,
          0
         ],
         "yaxis": "y"
        },
        {
         "hoverinfo": "text",
         "marker": {
          "color": "rgb(35,205,205)"
         },
         "mode": "lines",
         "type": "scatter",
         "x": [
          662.5,
          662.5,
          690,
          690
         ],
         "xaxis": "x",
         "y": [
          1.2333062518583529,
          2.9708155649923182,
          2.9708155649923182,
          1.3944719622484283
         ],
         "yaxis": "y"
        },
        {
         "hoverinfo": "text",
         "marker": {
          "color": "rgb(35,205,205)"
         },
         "mode": "lines",
         "type": "scatter",
         "x": [
          623.75,
          623.75,
          676.25,
          676.25
         ],
         "xaxis": "x",
         "y": [
          2.181713416897529,
          3.5526413623420434,
          3.5526413623420434,
          2.9708155649923182
         ],
         "yaxis": "y"
        },
        {
         "hoverinfo": "text",
         "marker": {
          "color": "rgb(35,205,205)"
         },
         "mode": "lines",
         "type": "scatter",
         "x": [
          715,
          715,
          725,
          725
         ],
         "xaxis": "x",
         "y": [
          0,
          0.4400069972147332,
          0.4400069972147332,
          0
         ],
         "yaxis": "y"
        },
        {
         "hoverinfo": "text",
         "marker": {
          "color": "rgb(35,205,205)"
         },
         "mode": "lines",
         "type": "scatter",
         "x": [
          745,
          745,
          755,
          755
         ],
         "xaxis": "x",
         "y": [
          0,
          0.39986230520030486,
          0.39986230520030486,
          0
         ],
         "yaxis": "y"
        },
        {
         "hoverinfo": "text",
         "marker": {
          "color": "rgb(35,205,205)"
         },
         "mode": "lines",
         "type": "scatter",
         "x": [
          735,
          735,
          750,
          750
         ],
         "xaxis": "x",
         "y": [
          0,
          0.8120139541622124,
          0.8120139541622124,
          0.39986230520030486
         ],
         "yaxis": "y"
        },
        {
         "hoverinfo": "text",
         "marker": {
          "color": "rgb(35,205,205)"
         },
         "mode": "lines",
         "type": "scatter",
         "x": [
          720,
          720,
          742.5,
          742.5
         ],
         "xaxis": "x",
         "y": [
          0.4400069972147332,
          1.4272938586886583,
          1.4272938586886583,
          0.8120139541622124
         ],
         "yaxis": "y"
        },
        {
         "hoverinfo": "text",
         "marker": {
          "color": "rgb(35,205,205)"
         },
         "mode": "lines",
         "type": "scatter",
         "x": [
          705,
          705,
          731.25,
          731.25
         ],
         "xaxis": "x",
         "y": [
          0,
          3.03757846097334,
          3.03757846097334,
          1.4272938586886583
         ],
         "yaxis": "y"
        },
        {
         "hoverinfo": "text",
         "marker": {
          "color": "rgb(35,205,205)"
         },
         "mode": "lines",
         "type": "scatter",
         "x": [
          765,
          765,
          775,
          775
         ],
         "xaxis": "x",
         "y": [
          0,
          1.0575712232876575,
          1.0575712232876575,
          0
         ],
         "yaxis": "y"
        },
        {
         "hoverinfo": "text",
         "marker": {
          "color": "rgb(35,205,205)"
         },
         "mode": "lines",
         "type": "scatter",
         "x": [
          795,
          795,
          805,
          805
         ],
         "xaxis": "x",
         "y": [
          0,
          0.9004327759259108,
          0.9004327759259108,
          0
         ],
         "yaxis": "y"
        },
        {
         "hoverinfo": "text",
         "marker": {
          "color": "rgb(35,205,205)"
         },
         "mode": "lines",
         "type": "scatter",
         "x": [
          785,
          785,
          800,
          800
         ],
         "xaxis": "x",
         "y": [
          0,
          2.150391635567626,
          2.150391635567626,
          0.9004327759259108
         ],
         "yaxis": "y"
        },
        {
         "hoverinfo": "text",
         "marker": {
          "color": "rgb(35,205,205)"
         },
         "mode": "lines",
         "type": "scatter",
         "x": [
          770,
          770,
          792.5,
          792.5
         ],
         "xaxis": "x",
         "y": [
          1.0575712232876575,
          2.412759765344282,
          2.412759765344282,
          2.150391635567626
         ],
         "yaxis": "y"
        },
        {
         "hoverinfo": "text",
         "marker": {
          "color": "rgb(35,205,205)"
         },
         "mode": "lines",
         "type": "scatter",
         "x": [
          825,
          825,
          835,
          835
         ],
         "xaxis": "x",
         "y": [
          0,
          0.2518760799296078,
          0.2518760799296078,
          0
         ],
         "yaxis": "y"
        },
        {
         "hoverinfo": "text",
         "marker": {
          "color": "rgb(35,205,205)"
         },
         "mode": "lines",
         "type": "scatter",
         "x": [
          815,
          815,
          830,
          830
         ],
         "xaxis": "x",
         "y": [
          0,
          0.7127261013166281,
          0.7127261013166281,
          0.2518760799296078
         ],
         "yaxis": "y"
        },
        {
         "hoverinfo": "text",
         "marker": {
          "color": "rgb(35,205,205)"
         },
         "mode": "lines",
         "type": "scatter",
         "x": [
          865,
          865,
          875,
          875
         ],
         "xaxis": "x",
         "y": [
          0,
          0.1451055762762739,
          0.1451055762762739,
          0
         ],
         "yaxis": "y"
        },
        {
         "hoverinfo": "text",
         "marker": {
          "color": "rgb(35,205,205)"
         },
         "mode": "lines",
         "type": "scatter",
         "x": [
          855,
          855,
          870,
          870
         ],
         "xaxis": "x",
         "y": [
          0,
          0.9415665805482688,
          0.9415665805482688,
          0.1451055762762739
         ],
         "yaxis": "y"
        },
        {
         "hoverinfo": "text",
         "marker": {
          "color": "rgb(35,205,205)"
         },
         "mode": "lines",
         "type": "scatter",
         "x": [
          845,
          845,
          862.5,
          862.5
         ],
         "xaxis": "x",
         "y": [
          0,
          1.220735712305212,
          1.220735712305212,
          0.9415665805482688
         ],
         "yaxis": "y"
        },
        {
         "hoverinfo": "text",
         "marker": {
          "color": "rgb(35,205,205)"
         },
         "mode": "lines",
         "type": "scatter",
         "x": [
          822.5,
          822.5,
          853.75,
          853.75
         ],
         "xaxis": "x",
         "y": [
          0.7127261013166281,
          3.278049593777975,
          3.278049593777975,
          1.220735712305212
         ],
         "yaxis": "y"
        },
        {
         "hoverinfo": "text",
         "marker": {
          "color": "rgb(35,205,205)"
         },
         "mode": "lines",
         "type": "scatter",
         "x": [
          781.25,
          781.25,
          838.125,
          838.125
         ],
         "xaxis": "x",
         "y": [
          2.412759765344282,
          3.9621195020299083,
          3.9621195020299083,
          3.278049593777975
         ],
         "yaxis": "y"
        },
        {
         "hoverinfo": "text",
         "marker": {
          "color": "rgb(35,205,205)"
         },
         "mode": "lines",
         "type": "scatter",
         "x": [
          718.125,
          718.125,
          809.6875,
          809.6875
         ],
         "xaxis": "x",
         "y": [
          3.03757846097334,
          5.688011953762892,
          5.688011953762892,
          3.9621195020299083
         ],
         "yaxis": "y"
        },
        {
         "hoverinfo": "text",
         "marker": {
          "color": "rgb(35,205,205)"
         },
         "mode": "lines",
         "type": "scatter",
         "x": [
          650,
          650,
          763.90625,
          763.90625
         ],
         "xaxis": "x",
         "y": [
          3.5526413623420434,
          6.278157101273763,
          6.278157101273763,
          5.688011953762892
         ],
         "yaxis": "y"
        },
        {
         "hoverinfo": "text",
         "marker": {
          "color": "rgb(35,205,205)"
         },
         "mode": "lines",
         "type": "scatter",
         "x": [
          925,
          925,
          935,
          935
         ],
         "xaxis": "x",
         "y": [
          0,
          0.5664569938494364,
          0.5664569938494364,
          0
         ],
         "yaxis": "y"
        },
        {
         "hoverinfo": "text",
         "marker": {
          "color": "rgb(35,205,205)"
         },
         "mode": "lines",
         "type": "scatter",
         "x": [
          915,
          915,
          930,
          930
         ],
         "xaxis": "x",
         "y": [
          0,
          0.7503616563204862,
          0.7503616563204862,
          0.5664569938494364
         ],
         "yaxis": "y"
        },
        {
         "hoverinfo": "text",
         "marker": {
          "color": "rgb(35,205,205)"
         },
         "mode": "lines",
         "type": "scatter",
         "x": [
          905,
          905,
          922.5,
          922.5
         ],
         "xaxis": "x",
         "y": [
          0,
          1.3445512225496246,
          1.3445512225496246,
          0.7503616563204862
         ],
         "yaxis": "y"
        },
        {
         "hoverinfo": "text",
         "marker": {
          "color": "rgb(35,205,205)"
         },
         "mode": "lines",
         "type": "scatter",
         "x": [
          895,
          895,
          913.75,
          913.75
         ],
         "xaxis": "x",
         "y": [
          0,
          1.7761353010681116,
          1.7761353010681116,
          1.3445512225496246
         ],
         "yaxis": "y"
        },
        {
         "hoverinfo": "text",
         "marker": {
          "color": "rgb(35,205,205)"
         },
         "mode": "lines",
         "type": "scatter",
         "x": [
          955,
          955,
          965,
          965
         ],
         "xaxis": "x",
         "y": [
          0,
          1.1470801535937638,
          1.1470801535937638,
          0
         ],
         "yaxis": "y"
        },
        {
         "hoverinfo": "text",
         "marker": {
          "color": "rgb(35,205,205)"
         },
         "mode": "lines",
         "type": "scatter",
         "x": [
          945,
          945,
          960,
          960
         ],
         "xaxis": "x",
         "y": [
          0,
          1.760940535885983,
          1.760940535885983,
          1.1470801535937638
         ],
         "yaxis": "y"
        },
        {
         "hoverinfo": "text",
         "marker": {
          "color": "rgb(35,205,205)"
         },
         "mode": "lines",
         "type": "scatter",
         "x": [
          985,
          985,
          995,
          995
         ],
         "xaxis": "x",
         "y": [
          0,
          1.3499931566188748,
          1.3499931566188748,
          0
         ],
         "yaxis": "y"
        },
        {
         "hoverinfo": "text",
         "marker": {
          "color": "rgb(35,205,205)"
         },
         "mode": "lines",
         "type": "scatter",
         "x": [
          975,
          975,
          990,
          990
         ],
         "xaxis": "x",
         "y": [
          0,
          2.3691374619467065,
          2.3691374619467065,
          1.3499931566188748
         ],
         "yaxis": "y"
        },
        {
         "hoverinfo": "text",
         "marker": {
          "color": "rgb(35,205,205)"
         },
         "mode": "lines",
         "type": "scatter",
         "x": [
          952.5,
          952.5,
          982.5,
          982.5
         ],
         "xaxis": "x",
         "y": [
          1.760940535885983,
          3.2776368749066433,
          3.2776368749066433,
          2.3691374619467065
         ],
         "yaxis": "y"
        },
        {
         "hoverinfo": "text",
         "marker": {
          "color": "rgb(35,205,205)"
         },
         "mode": "lines",
         "type": "scatter",
         "x": [
          904.375,
          904.375,
          967.5,
          967.5
         ],
         "xaxis": "x",
         "y": [
          1.7761353010681116,
          3.606566781564996,
          3.606566781564996,
          3.2776368749066433
         ],
         "yaxis": "y"
        },
        {
         "hoverinfo": "text",
         "marker": {
          "color": "rgb(35,205,205)"
         },
         "mode": "lines",
         "type": "scatter",
         "x": [
          885,
          885,
          935.9375,
          935.9375
         ],
         "xaxis": "x",
         "y": [
          0,
          6.361194038506516,
          6.361194038506516,
          3.606566781564996
         ],
         "yaxis": "y"
        },
        {
         "hoverinfo": "text",
         "marker": {
          "color": "rgb(35,205,205)"
         },
         "mode": "lines",
         "type": "scatter",
         "x": [
          706.953125,
          706.953125,
          910.46875,
          910.46875
         ],
         "xaxis": "x",
         "y": [
          6.278157101273763,
          8.788064682473752,
          8.788064682473752,
          6.361194038506516
         ],
         "yaxis": "y"
        },
        {
         "hoverinfo": "text",
         "marker": {
          "color": "rgb(0,116,217)"
         },
         "mode": "lines",
         "type": "scatter",
         "x": [
          605,
          605,
          808.7109375,
          808.7109375
         ],
         "xaxis": "x",
         "y": [
          0,
          12.664956024839215,
          12.664956024839215,
          8.788064682473752
         ],
         "yaxis": "y"
        },
        {
         "hoverinfo": "text",
         "marker": {
          "color": "rgb(0,116,217)"
         },
         "mode": "lines",
         "type": "scatter",
         "x": [
          320.1953125,
          320.1953125,
          706.85546875,
          706.85546875
         ],
         "xaxis": "x",
         "y": [
          7.915727162265108,
          13.873906933973718,
          13.873906933973718,
          12.664956024839215
         ],
         "yaxis": "y"
        },
        {
         "hoverinfo": "text",
         "marker": {
          "color": "rgb(0,116,217)"
         },
         "mode": "lines",
         "type": "scatter",
         "x": [
          66.875,
          66.875,
          513.525390625,
          513.525390625
         ],
         "xaxis": "x",
         "y": [
          6.814425874569332,
          21.4951961925747,
          21.4951961925747,
          13.873906933973718
         ],
         "yaxis": "y"
        },
        {
         "hoverinfo": "text",
         "marker": {
          "color": "rgb(0,116,217)"
         },
         "mode": "lines",
         "type": "scatter",
         "x": [
          5,
          5,
          290.2001953125,
          290.2001953125
         ],
         "xaxis": "x",
         "y": [
          0,
          30.90857486200229,
          30.90857486200229,
          21.4951961925747
         ],
         "yaxis": "y"
        }
       ],
       "layout": {
        "autosize": false,
        "height": null,
        "hovermode": "closest",
        "showlegend": false,
        "template": {
         "data": {
          "bar": [
           {
            "error_x": {
             "color": "#2a3f5f"
            },
            "error_y": {
             "color": "#2a3f5f"
            },
            "marker": {
             "line": {
              "color": "#E5ECF6",
              "width": 0.5
             },
             "pattern": {
              "fillmode": "overlay",
              "size": 10,
              "solidity": 0.2
             }
            },
            "type": "bar"
           }
          ],
          "barpolar": [
           {
            "marker": {
             "line": {
              "color": "#E5ECF6",
              "width": 0.5
             },
             "pattern": {
              "fillmode": "overlay",
              "size": 10,
              "solidity": 0.2
             }
            },
            "type": "barpolar"
           }
          ],
          "carpet": [
           {
            "aaxis": {
             "endlinecolor": "#2a3f5f",
             "gridcolor": "white",
             "linecolor": "white",
             "minorgridcolor": "white",
             "startlinecolor": "#2a3f5f"
            },
            "baxis": {
             "endlinecolor": "#2a3f5f",
             "gridcolor": "white",
             "linecolor": "white",
             "minorgridcolor": "white",
             "startlinecolor": "#2a3f5f"
            },
            "type": "carpet"
           }
          ],
          "choropleth": [
           {
            "colorbar": {
             "outlinewidth": 0,
             "ticks": ""
            },
            "type": "choropleth"
           }
          ],
          "contour": [
           {
            "colorbar": {
             "outlinewidth": 0,
             "ticks": ""
            },
            "colorscale": [
             [
              0,
              "#0d0887"
             ],
             [
              0.1111111111111111,
              "#46039f"
             ],
             [
              0.2222222222222222,
              "#7201a8"
             ],
             [
              0.3333333333333333,
              "#9c179e"
             ],
             [
              0.4444444444444444,
              "#bd3786"
             ],
             [
              0.5555555555555556,
              "#d8576b"
             ],
             [
              0.6666666666666666,
              "#ed7953"
             ],
             [
              0.7777777777777778,
              "#fb9f3a"
             ],
             [
              0.8888888888888888,
              "#fdca26"
             ],
             [
              1,
              "#f0f921"
             ]
            ],
            "type": "contour"
           }
          ],
          "contourcarpet": [
           {
            "colorbar": {
             "outlinewidth": 0,
             "ticks": ""
            },
            "type": "contourcarpet"
           }
          ],
          "heatmap": [
           {
            "colorbar": {
             "outlinewidth": 0,
             "ticks": ""
            },
            "colorscale": [
             [
              0,
              "#0d0887"
             ],
             [
              0.1111111111111111,
              "#46039f"
             ],
             [
              0.2222222222222222,
              "#7201a8"
             ],
             [
              0.3333333333333333,
              "#9c179e"
             ],
             [
              0.4444444444444444,
              "#bd3786"
             ],
             [
              0.5555555555555556,
              "#d8576b"
             ],
             [
              0.6666666666666666,
              "#ed7953"
             ],
             [
              0.7777777777777778,
              "#fb9f3a"
             ],
             [
              0.8888888888888888,
              "#fdca26"
             ],
             [
              1,
              "#f0f921"
             ]
            ],
            "type": "heatmap"
           }
          ],
          "heatmapgl": [
           {
            "colorbar": {
             "outlinewidth": 0,
             "ticks": ""
            },
            "colorscale": [
             [
              0,
              "#0d0887"
             ],
             [
              0.1111111111111111,
              "#46039f"
             ],
             [
              0.2222222222222222,
              "#7201a8"
             ],
             [
              0.3333333333333333,
              "#9c179e"
             ],
             [
              0.4444444444444444,
              "#bd3786"
             ],
             [
              0.5555555555555556,
              "#d8576b"
             ],
             [
              0.6666666666666666,
              "#ed7953"
             ],
             [
              0.7777777777777778,
              "#fb9f3a"
             ],
             [
              0.8888888888888888,
              "#fdca26"
             ],
             [
              1,
              "#f0f921"
             ]
            ],
            "type": "heatmapgl"
           }
          ],
          "histogram": [
           {
            "marker": {
             "pattern": {
              "fillmode": "overlay",
              "size": 10,
              "solidity": 0.2
             }
            },
            "type": "histogram"
           }
          ],
          "histogram2d": [
           {
            "colorbar": {
             "outlinewidth": 0,
             "ticks": ""
            },
            "colorscale": [
             [
              0,
              "#0d0887"
             ],
             [
              0.1111111111111111,
              "#46039f"
             ],
             [
              0.2222222222222222,
              "#7201a8"
             ],
             [
              0.3333333333333333,
              "#9c179e"
             ],
             [
              0.4444444444444444,
              "#bd3786"
             ],
             [
              0.5555555555555556,
              "#d8576b"
             ],
             [
              0.6666666666666666,
              "#ed7953"
             ],
             [
              0.7777777777777778,
              "#fb9f3a"
             ],
             [
              0.8888888888888888,
              "#fdca26"
             ],
             [
              1,
              "#f0f921"
             ]
            ],
            "type": "histogram2d"
           }
          ],
          "histogram2dcontour": [
           {
            "colorbar": {
             "outlinewidth": 0,
             "ticks": ""
            },
            "colorscale": [
             [
              0,
              "#0d0887"
             ],
             [
              0.1111111111111111,
              "#46039f"
             ],
             [
              0.2222222222222222,
              "#7201a8"
             ],
             [
              0.3333333333333333,
              "#9c179e"
             ],
             [
              0.4444444444444444,
              "#bd3786"
             ],
             [
              0.5555555555555556,
              "#d8576b"
             ],
             [
              0.6666666666666666,
              "#ed7953"
             ],
             [
              0.7777777777777778,
              "#fb9f3a"
             ],
             [
              0.8888888888888888,
              "#fdca26"
             ],
             [
              1,
              "#f0f921"
             ]
            ],
            "type": "histogram2dcontour"
           }
          ],
          "mesh3d": [
           {
            "colorbar": {
             "outlinewidth": 0,
             "ticks": ""
            },
            "type": "mesh3d"
           }
          ],
          "parcoords": [
           {
            "line": {
             "colorbar": {
              "outlinewidth": 0,
              "ticks": ""
             }
            },
            "type": "parcoords"
           }
          ],
          "pie": [
           {
            "automargin": true,
            "type": "pie"
           }
          ],
          "scatter": [
           {
            "fillpattern": {
             "fillmode": "overlay",
             "size": 10,
             "solidity": 0.2
            },
            "type": "scatter"
           }
          ],
          "scatter3d": [
           {
            "line": {
             "colorbar": {
              "outlinewidth": 0,
              "ticks": ""
             }
            },
            "marker": {
             "colorbar": {
              "outlinewidth": 0,
              "ticks": ""
             }
            },
            "type": "scatter3d"
           }
          ],
          "scattercarpet": [
           {
            "marker": {
             "colorbar": {
              "outlinewidth": 0,
              "ticks": ""
             }
            },
            "type": "scattercarpet"
           }
          ],
          "scattergeo": [
           {
            "marker": {
             "colorbar": {
              "outlinewidth": 0,
              "ticks": ""
             }
            },
            "type": "scattergeo"
           }
          ],
          "scattergl": [
           {
            "marker": {
             "colorbar": {
              "outlinewidth": 0,
              "ticks": ""
             }
            },
            "type": "scattergl"
           }
          ],
          "scattermapbox": [
           {
            "marker": {
             "colorbar": {
              "outlinewidth": 0,
              "ticks": ""
             }
            },
            "type": "scattermapbox"
           }
          ],
          "scatterpolar": [
           {
            "marker": {
             "colorbar": {
              "outlinewidth": 0,
              "ticks": ""
             }
            },
            "type": "scatterpolar"
           }
          ],
          "scatterpolargl": [
           {
            "marker": {
             "colorbar": {
              "outlinewidth": 0,
              "ticks": ""
             }
            },
            "type": "scatterpolargl"
           }
          ],
          "scatterternary": [
           {
            "marker": {
             "colorbar": {
              "outlinewidth": 0,
              "ticks": ""
             }
            },
            "type": "scatterternary"
           }
          ],
          "surface": [
           {
            "colorbar": {
             "outlinewidth": 0,
             "ticks": ""
            },
            "colorscale": [
             [
              0,
              "#0d0887"
             ],
             [
              0.1111111111111111,
              "#46039f"
             ],
             [
              0.2222222222222222,
              "#7201a8"
             ],
             [
              0.3333333333333333,
              "#9c179e"
             ],
             [
              0.4444444444444444,
              "#bd3786"
             ],
             [
              0.5555555555555556,
              "#d8576b"
             ],
             [
              0.6666666666666666,
              "#ed7953"
             ],
             [
              0.7777777777777778,
              "#fb9f3a"
             ],
             [
              0.8888888888888888,
              "#fdca26"
             ],
             [
              1,
              "#f0f921"
             ]
            ],
            "type": "surface"
           }
          ],
          "table": [
           {
            "cells": {
             "fill": {
              "color": "#EBF0F8"
             },
             "line": {
              "color": "white"
             }
            },
            "header": {
             "fill": {
              "color": "#C8D4E3"
             },
             "line": {
              "color": "white"
             }
            },
            "type": "table"
           }
          ]
         },
         "layout": {
          "annotationdefaults": {
           "arrowcolor": "#2a3f5f",
           "arrowhead": 0,
           "arrowwidth": 1
          },
          "autotypenumbers": "strict",
          "coloraxis": {
           "colorbar": {
            "outlinewidth": 0,
            "ticks": ""
           }
          },
          "colorscale": {
           "diverging": [
            [
             0,
             "#8e0152"
            ],
            [
             0.1,
             "#c51b7d"
            ],
            [
             0.2,
             "#de77ae"
            ],
            [
             0.3,
             "#f1b6da"
            ],
            [
             0.4,
             "#fde0ef"
            ],
            [
             0.5,
             "#f7f7f7"
            ],
            [
             0.6,
             "#e6f5d0"
            ],
            [
             0.7,
             "#b8e186"
            ],
            [
             0.8,
             "#7fbc41"
            ],
            [
             0.9,
             "#4d9221"
            ],
            [
             1,
             "#276419"
            ]
           ],
           "sequential": [
            [
             0,
             "#0d0887"
            ],
            [
             0.1111111111111111,
             "#46039f"
            ],
            [
             0.2222222222222222,
             "#7201a8"
            ],
            [
             0.3333333333333333,
             "#9c179e"
            ],
            [
             0.4444444444444444,
             "#bd3786"
            ],
            [
             0.5555555555555556,
             "#d8576b"
            ],
            [
             0.6666666666666666,
             "#ed7953"
            ],
            [
             0.7777777777777778,
             "#fb9f3a"
            ],
            [
             0.8888888888888888,
             "#fdca26"
            ],
            [
             1,
             "#f0f921"
            ]
           ],
           "sequentialminus": [
            [
             0,
             "#0d0887"
            ],
            [
             0.1111111111111111,
             "#46039f"
            ],
            [
             0.2222222222222222,
             "#7201a8"
            ],
            [
             0.3333333333333333,
             "#9c179e"
            ],
            [
             0.4444444444444444,
             "#bd3786"
            ],
            [
             0.5555555555555556,
             "#d8576b"
            ],
            [
             0.6666666666666666,
             "#ed7953"
            ],
            [
             0.7777777777777778,
             "#fb9f3a"
            ],
            [
             0.8888888888888888,
             "#fdca26"
            ],
            [
             1,
             "#f0f921"
            ]
           ]
          },
          "colorway": [
           "#636efa",
           "#EF553B",
           "#00cc96",
           "#ab63fa",
           "#FFA15A",
           "#19d3f3",
           "#FF6692",
           "#B6E880",
           "#FF97FF",
           "#FECB52"
          ],
          "font": {
           "color": "#2a3f5f"
          },
          "geo": {
           "bgcolor": "white",
           "lakecolor": "white",
           "landcolor": "#E5ECF6",
           "showlakes": true,
           "showland": true,
           "subunitcolor": "white"
          },
          "hoverlabel": {
           "align": "left"
          },
          "hovermode": "closest",
          "mapbox": {
           "style": "light"
          },
          "paper_bgcolor": "white",
          "plot_bgcolor": "#E5ECF6",
          "polar": {
           "angularaxis": {
            "gridcolor": "white",
            "linecolor": "white",
            "ticks": ""
           },
           "bgcolor": "#E5ECF6",
           "radialaxis": {
            "gridcolor": "white",
            "linecolor": "white",
            "ticks": ""
           }
          },
          "scene": {
           "xaxis": {
            "backgroundcolor": "#E5ECF6",
            "gridcolor": "white",
            "gridwidth": 2,
            "linecolor": "white",
            "showbackground": true,
            "ticks": "",
            "zerolinecolor": "white"
           },
           "yaxis": {
            "backgroundcolor": "#E5ECF6",
            "gridcolor": "white",
            "gridwidth": 2,
            "linecolor": "white",
            "showbackground": true,
            "ticks": "",
            "zerolinecolor": "white"
           },
           "zaxis": {
            "backgroundcolor": "#E5ECF6",
            "gridcolor": "white",
            "gridwidth": 2,
            "linecolor": "white",
            "showbackground": true,
            "ticks": "",
            "zerolinecolor": "white"
           }
          },
          "shapedefaults": {
           "line": {
            "color": "#2a3f5f"
           }
          },
          "ternary": {
           "aaxis": {
            "gridcolor": "white",
            "linecolor": "white",
            "ticks": ""
           },
           "baxis": {
            "gridcolor": "white",
            "linecolor": "white",
            "ticks": ""
           },
           "bgcolor": "#E5ECF6",
           "caxis": {
            "gridcolor": "white",
            "linecolor": "white",
            "ticks": ""
           }
          },
          "title": {
           "x": 0.05
          },
          "xaxis": {
           "automargin": true,
           "gridcolor": "white",
           "linecolor": "white",
           "ticks": "",
           "title": {
            "standoff": 15
           },
           "zerolinecolor": "white",
           "zerolinewidth": 2
          },
          "yaxis": {
           "automargin": true,
           "gridcolor": "white",
           "linecolor": "white",
           "ticks": "",
           "title": {
            "standoff": 15
           },
           "zerolinecolor": "white",
           "zerolinewidth": 2
          }
         }
        },
        "width": null,
        "xaxis": {
         "mirror": "allticks",
         "rangemode": "tozero",
         "showgrid": false,
         "showline": true,
         "showticklabels": true,
         "tickmode": "array",
         "ticks": "outside",
         "ticktext": [
          "Anthony Brown",
          "D.J. Stephens",
          "Andre Roberson",
          "Amile Jefferson",
          "Clint Capela",
          "Alex Len",
          "Alan Williams",
          "Cody Zeller",
          "Amir Johnson",
          "Chinanu Onuaku",
          "Brandan Wright",
          "Andre Drummond",
          "Ben Simmons",
          "Bismack Biyombo",
          "Damian Jones",
          "Ante Žižić",
          "Cole Aldrich",
          "Cristiano Felício",
          "Cheick Diallo",
          "Dakari Johnson",
          "Bam Adebayo",
          "Boban Marjanović",
          "Brandon Knight",
          "Allen Crabbe",
          "Charles Cooke",
          "Arron Afflalo",
          "Alec Peters",
          "Andrew White",
          "Aaron Harrison",
          "Andre Ingram",
          "Aaron Holiday",
          "Channing Frye",
          "Anthony Tolliver",
          "C.J. Miles",
          "Brandon Goodwin",
          "Chasson Randle",
          "Aaron Brooks",
          "Austin Rivers",
          "Ben McLemore",
          "Antonio Blakeney",
          "Brad Wanamaker",
          "Cory Joseph",
          "Cedi Osman",
          "Bradley Beal",
          "D.J. Augustin",
          "Bryn Forbes",
          "Bruno Caboclo",
          "Chris Boucher",
          "Brandon Jennings",
          "Chris Paul",
          "Chandler Parsons",
          "Damien Wilkins",
          "Antonius Cleveland",
          "Carmelo Anthony",
          "Brook Lopez",
          "Al-Farouq Aminu",
          "Bogdan Bogdanović",
          "Buddy Hield",
          "Courtney Lee",
          "D'Angelo Russell",
          "Alize Johnson",
          "Caris LeVert",
          "Brandon Ingram",
          "Allonzo Trier",
          "Brandon Paul",
          "Al Horford",
          "Alex Caruso",
          "D.J. Wilson",
          "Bobby Portis",
          "Briante Weber",
          "Chris McCullough",
          "Abdel Nader",
          "Anfernee Simons",
          "Alfonzo McKinnie",
          "Alec Burks",
          "Andrew Harrison",
          "Damian Lillard",
          "Damion Lee",
          "Avery Bradley",
          "Bojan Bogdanović",
          "C.J. Williams",
          "Blake Griffin",
          "Aaron Gordon",
          "Andrew Wiggins",
          "Cameron Payne",
          "Collin Sexton",
          "Andre Iguodala",
          "CJ McCollum",
          "Aaron Jackson",
          "Brice Johnson",
          "Bruce Brown",
          "Alex Poythress",
          "Chimezie Metu",
          "Christian Wood",
          "Caleb Swanigan",
          "Anthony Davis",
          "Aron Baynes",
          "Al Jefferson",
          "Chandler Hutchison",
          "Corey Brewer"
         ],
         "tickvals": [
          5,
          15,
          25,
          35,
          45,
          55,
          65,
          75,
          85,
          95,
          105,
          115,
          125,
          135,
          145,
          155,
          165,
          175,
          185,
          195,
          205,
          215,
          225,
          235,
          245,
          255,
          265,
          275,
          285,
          295,
          305,
          315,
          325,
          335,
          345,
          355,
          365,
          375,
          385,
          395,
          405,
          415,
          425,
          435,
          445,
          455,
          465,
          475,
          485,
          495,
          505,
          515,
          525,
          535,
          545,
          555,
          565,
          575,
          585,
          595,
          605,
          615,
          625,
          635,
          645,
          655,
          665,
          675,
          685,
          695,
          705,
          715,
          725,
          735,
          745,
          755,
          765,
          775,
          785,
          795,
          805,
          815,
          825,
          835,
          845,
          855,
          865,
          875,
          885,
          895,
          905,
          915,
          925,
          935,
          945,
          955,
          965,
          975,
          985,
          995
         ],
         "type": "linear",
         "zeroline": false
        },
        "yaxis": {
         "mirror": "allticks",
         "rangemode": "tozero",
         "showgrid": false,
         "showline": true,
         "showticklabels": true,
         "ticks": "outside",
         "type": "linear",
         "zeroline": false
        }
       }
      }
     },
     "metadata": {},
     "output_type": "display_data"
    }
   ],
   "source": [
    "X = df.drop(columns='player').values\n",
    "y = df.player.values\n",
    "fig = create_dendrogram(X[:100,], labels=y[:100], color_threshold=10)\n",
    "fig.show()"
   ]
  },
  {
   "cell_type": "code",
   "execution_count": 96,
   "metadata": {},
   "outputs": [
    {
     "data": {
      "text/plain": [
       "array(['Aaron Brooks', 'Aaron Gordon', 'Aaron Harrison', 'Aaron Holiday',\n",
       "       'Aaron Jackson', 'Abdel Nader', 'Al Horford', 'Al Jefferson',\n",
       "       'Al-Farouq Aminu', 'Alan Williams', 'Alec Burks', 'Alec Peters',\n",
       "       'Alex Caruso', 'Alex Len', 'Alex Poythress', 'Alfonzo McKinnie',\n",
       "       'Alize Johnson', 'Allen Crabbe', 'Allonzo Trier',\n",
       "       'Amile Jefferson', 'Amir Johnson', 'Andre Drummond',\n",
       "       'Andre Iguodala', 'Andre Ingram', 'Andre Roberson',\n",
       "       'Andrew Harrison', 'Andrew White', 'Andrew Wiggins',\n",
       "       'Anfernee Simons', 'Ante Žižić', 'Anthony Brown', 'Anthony Davis',\n",
       "       'Anthony Tolliver', 'Antonio Blakeney', 'Antonius Cleveland',\n",
       "       'Aron Baynes', 'Arron Afflalo', 'Austin Rivers', 'Avery Bradley',\n",
       "       'Bam Adebayo', 'Ben McLemore', 'Ben Simmons', 'Bismack Biyombo',\n",
       "       'Blake Griffin', 'Boban Marjanović', 'Bobby Portis',\n",
       "       'Bogdan Bogdanović', 'Bojan Bogdanović', 'Brad Wanamaker',\n",
       "       'Bradley Beal', 'Brandan Wright', 'Brandon Goodwin',\n",
       "       'Brandon Ingram', 'Brandon Jennings', 'Brandon Knight',\n",
       "       'Brandon Paul', 'Briante Weber', 'Brice Johnson', 'Brook Lopez',\n",
       "       'Bruce Brown', 'Bruno Caboclo', 'Bryn Forbes', 'Buddy Hield',\n",
       "       'C.J. Miles', 'C.J. Williams', 'CJ McCollum', 'Caleb Swanigan',\n",
       "       'Cameron Payne', 'Caris LeVert', 'Carmelo Anthony', 'Cedi Osman',\n",
       "       'Chandler Hutchison', 'Chandler Parsons', 'Channing Frye',\n",
       "       'Charles Cooke', 'Chasson Randle', 'Cheick Diallo',\n",
       "       'Chimezie Metu', 'Chinanu Onuaku', 'Chris Boucher',\n",
       "       'Chris McCullough', 'Chris Paul', 'Christian Wood', 'Clint Capela',\n",
       "       'Cody Zeller', 'Cole Aldrich', 'Collin Sexton', 'Corey Brewer',\n",
       "       'Cory Joseph', 'Courtney Lee', 'Cristiano Felício',\n",
       "       \"D'Angelo Russell\", 'D.J. Augustin', 'D.J. Stephens',\n",
       "       'D.J. Wilson', 'Dakari Johnson', 'Damian Jones', 'Damian Lillard',\n",
       "       'Damien Wilkins', 'Damion Lee'], dtype=object)"
      ]
     },
     "execution_count": 96,
     "metadata": {},
     "output_type": "execute_result"
    }
   ],
   "source": [
    "y[:100]"
   ]
  },
  {
   "cell_type": "code",
   "execution_count": 101,
   "metadata": {},
   "outputs": [
    {
     "data": {
      "application/vnd.plotly.v1+json": {
       "config": {
        "plotlyServerURL": "https://plot.ly"
       },
       "data": [
        {
         "hoverinfo": "text",
         "marker": {
          "color": "rgb(61,153,112)"
         },
         "mode": "lines",
         "type": "scatter",
         "x": [
          0,
          2.1937410968480306,
          2.1937410968480306,
          0
         ],
         "xaxis": "x",
         "y": [
          -5,
          -5,
          -15,
          -15
         ],
         "yaxis": "y"
        },
        {
         "hoverinfo": "text",
         "marker": {
          "color": "rgb(255,65,54)"
         },
         "mode": "lines",
         "type": "scatter",
         "x": [
          0,
          7.176350047203662,
          7.176350047203662,
          0
         ],
         "xaxis": "x",
         "y": [
          -25,
          -25,
          -35,
          -35
         ],
         "yaxis": "y"
        },
        {
         "hoverinfo": "text",
         "marker": {
          "color": "rgb(0,116,217)"
         },
         "mode": "lines",
         "type": "scatter",
         "x": [
          2.1937410968480306,
          12.807126922147685,
          12.807126922147685,
          7.176350047203662
         ],
         "xaxis": "x",
         "y": [
          -10,
          -10,
          -30,
          -30
         ],
         "yaxis": "y"
        },
        {
         "hoverinfo": "text",
         "marker": {
          "color": "rgb(35,205,205)"
         },
         "mode": "lines",
         "type": "scatter",
         "x": [
          0,
          1.2474696611763947,
          1.2474696611763947,
          0
         ],
         "xaxis": "x",
         "y": [
          -65,
          -65,
          -75,
          -75
         ],
         "yaxis": "y"
        },
        {
         "hoverinfo": "text",
         "marker": {
          "color": "rgb(35,205,205)"
         },
         "mode": "lines",
         "type": "scatter",
         "x": [
          0,
          2.220501069578662,
          2.220501069578662,
          1.2474696611763947
         ],
         "xaxis": "x",
         "y": [
          -55,
          -55,
          -70,
          -70
         ],
         "yaxis": "y"
        },
        {
         "hoverinfo": "text",
         "marker": {
          "color": "rgb(133,20,75)"
         },
         "mode": "lines",
         "type": "scatter",
         "x": [
          0,
          3.2028199380476514,
          3.2028199380476514,
          0
         ],
         "xaxis": "x",
         "y": [
          -95,
          -95,
          -105,
          -105
         ],
         "yaxis": "y"
        },
        {
         "hoverinfo": "text",
         "marker": {
          "color": "rgb(133,20,75)"
         },
         "mode": "lines",
         "type": "scatter",
         "x": [
          0,
          5.455781846404379,
          5.455781846404379,
          3.2028199380476514
         ],
         "xaxis": "x",
         "y": [
          -85,
          -85,
          -100,
          -100
         ],
         "yaxis": "y"
        },
        {
         "hoverinfo": "text",
         "marker": {
          "color": "rgb(133,20,75)"
         },
         "mode": "lines",
         "type": "scatter",
         "x": [
          0,
          2.6918232525259667,
          2.6918232525259667,
          0
         ],
         "xaxis": "x",
         "y": [
          -125,
          -125,
          -135,
          -135
         ],
         "yaxis": "y"
        },
        {
         "hoverinfo": "text",
         "marker": {
          "color": "rgb(133,20,75)"
         },
         "mode": "lines",
         "type": "scatter",
         "x": [
          0,
          3.8974031717677087,
          3.8974031717677087,
          2.6918232525259667
         ],
         "xaxis": "x",
         "y": [
          -115,
          -115,
          -130,
          -130
         ],
         "yaxis": "y"
        },
        {
         "hoverinfo": "text",
         "marker": {
          "color": "rgb(133,20,75)"
         },
         "mode": "lines",
         "type": "scatter",
         "x": [
          0,
          4.892284174538973,
          4.892284174538973,
          0
         ],
         "xaxis": "x",
         "y": [
          -145,
          -145,
          -155,
          -155
         ],
         "yaxis": "y"
        },
        {
         "hoverinfo": "text",
         "marker": {
          "color": "rgb(133,20,75)"
         },
         "mode": "lines",
         "type": "scatter",
         "x": [
          3.8974031717677087,
          8.826017698227423,
          8.826017698227423,
          4.892284174538973
         ],
         "xaxis": "x",
         "y": [
          -122.5,
          -122.5,
          -150,
          -150
         ],
         "yaxis": "y"
        },
        {
         "hoverinfo": "text",
         "marker": {
          "color": "rgb(133,20,75)"
         },
         "mode": "lines",
         "type": "scatter",
         "x": [
          5.455781846404379,
          9.505203253423302,
          9.505203253423302,
          8.826017698227423
         ],
         "xaxis": "x",
         "y": [
          -92.5,
          -92.5,
          -136.25,
          -136.25
         ],
         "yaxis": "y"
        },
        {
         "hoverinfo": "text",
         "marker": {
          "color": "rgb(0,116,217)"
         },
         "mode": "lines",
         "type": "scatter",
         "x": [
          2.220501069578662,
          16.660017423627007,
          16.660017423627007,
          9.505203253423302
         ],
         "xaxis": "x",
         "y": [
          -62.5,
          -62.5,
          -114.375,
          -114.375
         ],
         "yaxis": "y"
        },
        {
         "hoverinfo": "text",
         "marker": {
          "color": "rgb(0,116,217)"
         },
         "mode": "lines",
         "type": "scatter",
         "x": [
          0,
          18.93826960299054,
          18.93826960299054,
          16.660017423627007
         ],
         "xaxis": "x",
         "y": [
          -45,
          -45,
          -88.4375,
          -88.4375
         ],
         "yaxis": "y"
        },
        {
         "hoverinfo": "text",
         "marker": {
          "color": "rgb(255,220,0)"
         },
         "mode": "lines",
         "type": "scatter",
         "x": [
          0,
          0.5009612925367288,
          0.5009612925367288,
          0
         ],
         "xaxis": "x",
         "y": [
          -165,
          -165,
          -175,
          -175
         ],
         "yaxis": "y"
        },
        {
         "hoverinfo": "text",
         "marker": {
          "color": "rgb(255,220,0)"
         },
         "mode": "lines",
         "type": "scatter",
         "x": [
          0,
          0.19414186538667413,
          0.19414186538667413,
          0
         ],
         "xaxis": "x",
         "y": [
          -185,
          -185,
          -195,
          -195
         ],
         "yaxis": "y"
        },
        {
         "hoverinfo": "text",
         "marker": {
          "color": "rgb(255,220,0)"
         },
         "mode": "lines",
         "type": "scatter",
         "x": [
          0,
          0.312300799704984,
          0.312300799704984,
          0
         ],
         "xaxis": "x",
         "y": [
          -205,
          -205,
          -215,
          -215
         ],
         "yaxis": "y"
        },
        {
         "hoverinfo": "text",
         "marker": {
          "color": "rgb(255,220,0)"
         },
         "mode": "lines",
         "type": "scatter",
         "x": [
          0.19414186538667413,
          0.8308112084662502,
          0.8308112084662502,
          0.312300799704984
         ],
         "xaxis": "x",
         "y": [
          -190,
          -190,
          -210,
          -210
         ],
         "yaxis": "y"
        },
        {
         "hoverinfo": "text",
         "marker": {
          "color": "rgb(255,220,0)"
         },
         "mode": "lines",
         "type": "scatter",
         "x": [
          0.5009612925367288,
          1.1136197352181085,
          1.1136197352181085,
          0.8308112084662502
         ],
         "xaxis": "x",
         "y": [
          -170,
          -170,
          -200,
          -200
         ],
         "yaxis": "y"
        },
        {
         "hoverinfo": "text",
         "marker": {
          "color": "rgb(255,220,0)"
         },
         "mode": "lines",
         "type": "scatter",
         "x": [
          0,
          0.11704465327567855,
          0.11704465327567855,
          0
         ],
         "xaxis": "x",
         "y": [
          -225,
          -225,
          -235,
          -235
         ],
         "yaxis": "y"
        },
        {
         "hoverinfo": "text",
         "marker": {
          "color": "rgb(255,220,0)"
         },
         "mode": "lines",
         "type": "scatter",
         "x": [
          0,
          0.24823237360828893,
          0.24823237360828893,
          0
         ],
         "xaxis": "x",
         "y": [
          -245,
          -245,
          -255,
          -255
         ],
         "yaxis": "y"
        },
        {
         "hoverinfo": "text",
         "marker": {
          "color": "rgb(255,220,0)"
         },
         "mode": "lines",
         "type": "scatter",
         "x": [
          0.11704465327567855,
          0.3710977524970043,
          0.3710977524970043,
          0.24823237360828893
         ],
         "xaxis": "x",
         "y": [
          -230,
          -230,
          -250,
          -250
         ],
         "yaxis": "y"
        },
        {
         "hoverinfo": "text",
         "marker": {
          "color": "rgb(255,220,0)"
         },
         "mode": "lines",
         "type": "scatter",
         "x": [
          0,
          0.6872715247064367,
          0.6872715247064367,
          0
         ],
         "xaxis": "x",
         "y": [
          -265,
          -265,
          -275,
          -275
         ],
         "yaxis": "y"
        },
        {
         "hoverinfo": "text",
         "marker": {
          "color": "rgb(255,220,0)"
         },
         "mode": "lines",
         "type": "scatter",
         "x": [
          0.3710977524970043,
          1.4864527351064256,
          1.4864527351064256,
          0.6872715247064367
         ],
         "xaxis": "x",
         "y": [
          -240,
          -240,
          -270,
          -270
         ],
         "yaxis": "y"
        },
        {
         "hoverinfo": "text",
         "marker": {
          "color": "rgb(255,220,0)"
         },
         "mode": "lines",
         "type": "scatter",
         "x": [
          1.1136197352181085,
          1.6320308469646163,
          1.6320308469646163,
          1.4864527351064256
         ],
         "xaxis": "x",
         "y": [
          -185,
          -185,
          -255,
          -255
         ],
         "yaxis": "y"
        },
        {
         "hoverinfo": "text",
         "marker": {
          "color": "rgb(255,220,0)"
         },
         "mode": "lines",
         "type": "scatter",
         "x": [
          0,
          0.1523940834566515,
          0.1523940834566515,
          0
         ],
         "xaxis": "x",
         "y": [
          -295,
          -295,
          -305,
          -305
         ],
         "yaxis": "y"
        },
        {
         "hoverinfo": "text",
         "marker": {
          "color": "rgb(255,220,0)"
         },
         "mode": "lines",
         "type": "scatter",
         "x": [
          0,
          0.0911603072565368,
          0.0911603072565368,
          0
         ],
         "xaxis": "x",
         "y": [
          -325,
          -325,
          -335,
          -335
         ],
         "yaxis": "y"
        },
        {
         "hoverinfo": "text",
         "marker": {
          "color": "rgb(255,220,0)"
         },
         "mode": "lines",
         "type": "scatter",
         "x": [
          0,
          0.1853634699215752,
          0.1853634699215752,
          0.0911603072565368
         ],
         "xaxis": "x",
         "y": [
          -315,
          -315,
          -330,
          -330
         ],
         "yaxis": "y"
        },
        {
         "hoverinfo": "text",
         "marker": {
          "color": "rgb(255,220,0)"
         },
         "mode": "lines",
         "type": "scatter",
         "x": [
          0.1523940834566515,
          0.7557720419950876,
          0.7557720419950876,
          0.1853634699215752
         ],
         "xaxis": "x",
         "y": [
          -300,
          -300,
          -322.5,
          -322.5
         ],
         "yaxis": "y"
        },
        {
         "hoverinfo": "text",
         "marker": {
          "color": "rgb(255,220,0)"
         },
         "mode": "lines",
         "type": "scatter",
         "x": [
          0,
          0.854430305553326,
          0.854430305553326,
          0.7557720419950876
         ],
         "xaxis": "x",
         "y": [
          -285,
          -285,
          -311.25,
          -311.25
         ],
         "yaxis": "y"
        },
        {
         "hoverinfo": "text",
         "marker": {
          "color": "rgb(255,220,0)"
         },
         "mode": "lines",
         "type": "scatter",
         "x": [
          0,
          0.45308500976511995,
          0.45308500976511995,
          0
         ],
         "xaxis": "x",
         "y": [
          -345,
          -345,
          -355,
          -355
         ],
         "yaxis": "y"
        },
        {
         "hoverinfo": "text",
         "marker": {
          "color": "rgb(255,220,0)"
         },
         "mode": "lines",
         "type": "scatter",
         "x": [
          0,
          0.17436813986390234,
          0.17436813986390234,
          0
         ],
         "xaxis": "x",
         "y": [
          -385,
          -385,
          -395,
          -395
         ],
         "yaxis": "y"
        },
        {
         "hoverinfo": "text",
         "marker": {
          "color": "rgb(255,220,0)"
         },
         "mode": "lines",
         "type": "scatter",
         "x": [
          0,
          0.375525637357217,
          0.375525637357217,
          0.17436813986390234
         ],
         "xaxis": "x",
         "y": [
          -375,
          -375,
          -390,
          -390
         ],
         "yaxis": "y"
        },
        {
         "hoverinfo": "text",
         "marker": {
          "color": "rgb(255,220,0)"
         },
         "mode": "lines",
         "type": "scatter",
         "x": [
          0,
          0.4923375237581659,
          0.4923375237581659,
          0.375525637357217
         ],
         "xaxis": "x",
         "y": [
          -365,
          -365,
          -382.5,
          -382.5
         ],
         "yaxis": "y"
        },
        {
         "hoverinfo": "text",
         "marker": {
          "color": "rgb(255,220,0)"
         },
         "mode": "lines",
         "type": "scatter",
         "x": [
          0.45308500976511995,
          0.9335454574983778,
          0.9335454574983778,
          0.4923375237581659
         ],
         "xaxis": "x",
         "y": [
          -350,
          -350,
          -373.75,
          -373.75
         ],
         "yaxis": "y"
        },
        {
         "hoverinfo": "text",
         "marker": {
          "color": "rgb(255,220,0)"
         },
         "mode": "lines",
         "type": "scatter",
         "x": [
          0.854430305553326,
          1.485636951226184,
          1.485636951226184,
          0.9335454574983778
         ],
         "xaxis": "x",
         "y": [
          -298.125,
          -298.125,
          -361.875,
          -361.875
         ],
         "yaxis": "y"
        },
        {
         "hoverinfo": "text",
         "marker": {
          "color": "rgb(255,220,0)"
         },
         "mode": "lines",
         "type": "scatter",
         "x": [
          0,
          0.17789102506113644,
          0.17789102506113644,
          0
         ],
         "xaxis": "x",
         "y": [
          -415,
          -415,
          -425,
          -425
         ],
         "yaxis": "y"
        },
        {
         "hoverinfo": "text",
         "marker": {
          "color": "rgb(255,220,0)"
         },
         "mode": "lines",
         "type": "scatter",
         "x": [
          0,
          0.39949558708471816,
          0.39949558708471816,
          0.17789102506113644
         ],
         "xaxis": "x",
         "y": [
          -405,
          -405,
          -420,
          -420
         ],
         "yaxis": "y"
        },
        {
         "hoverinfo": "text",
         "marker": {
          "color": "rgb(255,220,0)"
         },
         "mode": "lines",
         "type": "scatter",
         "x": [
          0,
          0.1736613674324918,
          0.1736613674324918,
          0
         ],
         "xaxis": "x",
         "y": [
          -445,
          -445,
          -455,
          -455
         ],
         "yaxis": "y"
        },
        {
         "hoverinfo": "text",
         "marker": {
          "color": "rgb(255,220,0)"
         },
         "mode": "lines",
         "type": "scatter",
         "x": [
          0,
          0.30489149154116124,
          0.30489149154116124,
          0.1736613674324918
         ],
         "xaxis": "x",
         "y": [
          -435,
          -435,
          -450,
          -450
         ],
         "yaxis": "y"
        },
        {
         "hoverinfo": "text",
         "marker": {
          "color": "rgb(255,220,0)"
         },
         "mode": "lines",
         "type": "scatter",
         "x": [
          0,
          0.5035057308703207,
          0.5035057308703207,
          0
         ],
         "xaxis": "x",
         "y": [
          -475,
          -475,
          -485,
          -485
         ],
         "yaxis": "y"
        },
        {
         "hoverinfo": "text",
         "marker": {
          "color": "rgb(255,220,0)"
         },
         "mode": "lines",
         "type": "scatter",
         "x": [
          0,
          0.5996064710463787,
          0.5996064710463787,
          0.5035057308703207
         ],
         "xaxis": "x",
         "y": [
          -465,
          -465,
          -480,
          -480
         ],
         "yaxis": "y"
        },
        {
         "hoverinfo": "text",
         "marker": {
          "color": "rgb(255,220,0)"
         },
         "mode": "lines",
         "type": "scatter",
         "x": [
          0.30489149154116124,
          0.9514552562599345,
          0.9514552562599345,
          0.5996064710463787
         ],
         "xaxis": "x",
         "y": [
          -442.5,
          -442.5,
          -472.5,
          -472.5
         ],
         "yaxis": "y"
        },
        {
         "hoverinfo": "text",
         "marker": {
          "color": "rgb(255,220,0)"
         },
         "mode": "lines",
         "type": "scatter",
         "x": [
          0.39949558708471816,
          1.4735354457801668,
          1.4735354457801668,
          0.9514552562599345
         ],
         "xaxis": "x",
         "y": [
          -412.5,
          -412.5,
          -457.5,
          -457.5
         ],
         "yaxis": "y"
        },
        {
         "hoverinfo": "text",
         "marker": {
          "color": "rgb(255,220,0)"
         },
         "mode": "lines",
         "type": "scatter",
         "x": [
          0,
          0.2370245142964593,
          0.2370245142964593,
          0
         ],
         "xaxis": "x",
         "y": [
          -495,
          -495,
          -505,
          -505
         ],
         "yaxis": "y"
        },
        {
         "hoverinfo": "text",
         "marker": {
          "color": "rgb(255,220,0)"
         },
         "mode": "lines",
         "type": "scatter",
         "x": [
          0,
          0.25312054305688625,
          0.25312054305688625,
          0
         ],
         "xaxis": "x",
         "y": [
          -515,
          -515,
          -525,
          -525
         ],
         "yaxis": "y"
        },
        {
         "hoverinfo": "text",
         "marker": {
          "color": "rgb(255,220,0)"
         },
         "mode": "lines",
         "type": "scatter",
         "x": [
          0,
          0.15667936368213065,
          0.15667936368213065,
          0
         ],
         "xaxis": "x",
         "y": [
          -535,
          -535,
          -545,
          -545
         ],
         "yaxis": "y"
        },
        {
         "hoverinfo": "text",
         "marker": {
          "color": "rgb(255,220,0)"
         },
         "mode": "lines",
         "type": "scatter",
         "x": [
          0,
          0.16209977661017985,
          0.16209977661017985,
          0
         ],
         "xaxis": "x",
         "y": [
          -555,
          -555,
          -565,
          -565
         ],
         "yaxis": "y"
        },
        {
         "hoverinfo": "text",
         "marker": {
          "color": "rgb(255,220,0)"
         },
         "mode": "lines",
         "type": "scatter",
         "x": [
          0.15667936368213065,
          0.4426532892940628,
          0.4426532892940628,
          0.16209977661017985
         ],
         "xaxis": "x",
         "y": [
          -540,
          -540,
          -560,
          -560
         ],
         "yaxis": "y"
        },
        {
         "hoverinfo": "text",
         "marker": {
          "color": "rgb(255,220,0)"
         },
         "mode": "lines",
         "type": "scatter",
         "x": [
          0.25312054305688625,
          0.5399818106267704,
          0.5399818106267704,
          0.4426532892940628
         ],
         "xaxis": "x",
         "y": [
          -520,
          -520,
          -550,
          -550
         ],
         "yaxis": "y"
        },
        {
         "hoverinfo": "text",
         "marker": {
          "color": "rgb(255,220,0)"
         },
         "mode": "lines",
         "type": "scatter",
         "x": [
          0.2370245142964593,
          0.9354404909419478,
          0.9354404909419478,
          0.5399818106267704
         ],
         "xaxis": "x",
         "y": [
          -500,
          -500,
          -535,
          -535
         ],
         "yaxis": "y"
        },
        {
         "hoverinfo": "text",
         "marker": {
          "color": "rgb(255,220,0)"
         },
         "mode": "lines",
         "type": "scatter",
         "x": [
          0,
          0.42064339611648643,
          0.42064339611648643,
          0
         ],
         "xaxis": "x",
         "y": [
          -585,
          -585,
          -595,
          -595
         ],
         "yaxis": "y"
        },
        {
         "hoverinfo": "text",
         "marker": {
          "color": "rgb(255,220,0)"
         },
         "mode": "lines",
         "type": "scatter",
         "x": [
          0,
          1.10813521692751,
          1.10813521692751,
          0.42064339611648643
         ],
         "xaxis": "x",
         "y": [
          -575,
          -575,
          -590,
          -590
         ],
         "yaxis": "y"
        },
        {
         "hoverinfo": "text",
         "marker": {
          "color": "rgb(255,220,0)"
         },
         "mode": "lines",
         "type": "scatter",
         "x": [
          0.9354404909419478,
          1.582132032704574,
          1.582132032704574,
          1.10813521692751
         ],
         "xaxis": "x",
         "y": [
          -517.5,
          -517.5,
          -582.5,
          -582.5
         ],
         "yaxis": "y"
        },
        {
         "hoverinfo": "text",
         "marker": {
          "color": "rgb(255,220,0)"
         },
         "mode": "lines",
         "type": "scatter",
         "x": [
          1.4735354457801668,
          2.206447161427951,
          2.206447161427951,
          1.582132032704574
         ],
         "xaxis": "x",
         "y": [
          -435,
          -435,
          -550,
          -550
         ],
         "yaxis": "y"
        },
        {
         "hoverinfo": "text",
         "marker": {
          "color": "rgb(255,220,0)"
         },
         "mode": "lines",
         "type": "scatter",
         "x": [
          1.485636951226184,
          2.6632306757285993,
          2.6632306757285993,
          2.206447161427951
         ],
         "xaxis": "x",
         "y": [
          -330,
          -330,
          -492.5,
          -492.5
         ],
         "yaxis": "y"
        },
        {
         "hoverinfo": "text",
         "marker": {
          "color": "rgb(255,220,0)"
         },
         "mode": "lines",
         "type": "scatter",
         "x": [
          1.6320308469646163,
          3.5405925458260494,
          3.5405925458260494,
          2.6632306757285993
         ],
         "xaxis": "x",
         "y": [
          -220,
          -220,
          -411.25,
          -411.25
         ],
         "yaxis": "y"
        },
        {
         "hoverinfo": "text",
         "marker": {
          "color": "rgb(255,220,0)"
         },
         "mode": "lines",
         "type": "scatter",
         "x": [
          0,
          0.7726875118528403,
          0.7726875118528403,
          0
         ],
         "xaxis": "x",
         "y": [
          -605,
          -605,
          -615,
          -615
         ],
         "yaxis": "y"
        },
        {
         "hoverinfo": "text",
         "marker": {
          "color": "rgb(255,220,0)"
         },
         "mode": "lines",
         "type": "scatter",
         "x": [
          0,
          0.34590300320528244,
          0.34590300320528244,
          0
         ],
         "xaxis": "x",
         "y": [
          -625,
          -625,
          -635,
          -635
         ],
         "yaxis": "y"
        },
        {
         "hoverinfo": "text",
         "marker": {
          "color": "rgb(255,220,0)"
         },
         "mode": "lines",
         "type": "scatter",
         "x": [
          0,
          0.6289812123869951,
          0.6289812123869951,
          0
         ],
         "xaxis": "x",
         "y": [
          -645,
          -645,
          -655,
          -655
         ],
         "yaxis": "y"
        },
        {
         "hoverinfo": "text",
         "marker": {
          "color": "rgb(255,220,0)"
         },
         "mode": "lines",
         "type": "scatter",
         "x": [
          0.34590300320528244,
          1.1318096141220717,
          1.1318096141220717,
          0.6289812123869951
         ],
         "xaxis": "x",
         "y": [
          -630,
          -630,
          -650,
          -650
         ],
         "yaxis": "y"
        },
        {
         "hoverinfo": "text",
         "marker": {
          "color": "rgb(255,220,0)"
         },
         "mode": "lines",
         "type": "scatter",
         "x": [
          0.7726875118528403,
          1.7786738729723888,
          1.7786738729723888,
          1.1318096141220717
         ],
         "xaxis": "x",
         "y": [
          -610,
          -610,
          -640,
          -640
         ],
         "yaxis": "y"
        },
        {
         "hoverinfo": "text",
         "marker": {
          "color": "rgb(255,220,0)"
         },
         "mode": "lines",
         "type": "scatter",
         "x": [
          0,
          0.3171003398981216,
          0.3171003398981216,
          0
         ],
         "xaxis": "x",
         "y": [
          -675,
          -675,
          -685,
          -685
         ],
         "yaxis": "y"
        },
        {
         "hoverinfo": "text",
         "marker": {
          "color": "rgb(255,220,0)"
         },
         "mode": "lines",
         "type": "scatter",
         "x": [
          0,
          0.33219601148821937,
          0.33219601148821937,
          0.3171003398981216
         ],
         "xaxis": "x",
         "y": [
          -665,
          -665,
          -680,
          -680
         ],
         "yaxis": "y"
        },
        {
         "hoverinfo": "text",
         "marker": {
          "color": "rgb(255,220,0)"
         },
         "mode": "lines",
         "type": "scatter",
         "x": [
          0,
          0.6063616943913303,
          0.6063616943913303,
          0
         ],
         "xaxis": "x",
         "y": [
          -695,
          -695,
          -705,
          -705
         ],
         "yaxis": "y"
        },
        {
         "hoverinfo": "text",
         "marker": {
          "color": "rgb(255,220,0)"
         },
         "mode": "lines",
         "type": "scatter",
         "x": [
          0.33219601148821937,
          0.8286014612413413,
          0.8286014612413413,
          0.6063616943913303
         ],
         "xaxis": "x",
         "y": [
          -672.5,
          -672.5,
          -700,
          -700
         ],
         "yaxis": "y"
        },
        {
         "hoverinfo": "text",
         "marker": {
          "color": "rgb(255,220,0)"
         },
         "mode": "lines",
         "type": "scatter",
         "x": [
          0,
          0.2996078502895347,
          0.2996078502895347,
          0
         ],
         "xaxis": "x",
         "y": [
          -735,
          -735,
          -745,
          -745
         ],
         "yaxis": "y"
        },
        {
         "hoverinfo": "text",
         "marker": {
          "color": "rgb(255,220,0)"
         },
         "mode": "lines",
         "type": "scatter",
         "x": [
          0,
          0.750219703462197,
          0.750219703462197,
          0.2996078502895347
         ],
         "xaxis": "x",
         "y": [
          -725,
          -725,
          -740,
          -740
         ],
         "yaxis": "y"
        },
        {
         "hoverinfo": "text",
         "marker": {
          "color": "rgb(255,220,0)"
         },
         "mode": "lines",
         "type": "scatter",
         "x": [
          0,
          1.1707043628941127,
          1.1707043628941127,
          0.750219703462197
         ],
         "xaxis": "x",
         "y": [
          -715,
          -715,
          -732.5,
          -732.5
         ],
         "yaxis": "y"
        },
        {
         "hoverinfo": "text",
         "marker": {
          "color": "rgb(255,220,0)"
         },
         "mode": "lines",
         "type": "scatter",
         "x": [
          0.8286014612413413,
          2.08589022538406,
          2.08589022538406,
          1.1707043628941127
         ],
         "xaxis": "x",
         "y": [
          -686.25,
          -686.25,
          -723.75,
          -723.75
         ],
         "yaxis": "y"
        },
        {
         "hoverinfo": "text",
         "marker": {
          "color": "rgb(255,220,0)"
         },
         "mode": "lines",
         "type": "scatter",
         "x": [
          1.7786738729723888,
          2.4800437930939587,
          2.4800437930939587,
          2.08589022538406
         ],
         "xaxis": "x",
         "y": [
          -625,
          -625,
          -705,
          -705
         ],
         "yaxis": "y"
        },
        {
         "hoverinfo": "text",
         "marker": {
          "color": "rgb(255,220,0)"
         },
         "mode": "lines",
         "type": "scatter",
         "x": [
          0,
          0.11786507401284654,
          0.11786507401284654,
          0
         ],
         "xaxis": "x",
         "y": [
          -785,
          -785,
          -795,
          -795
         ],
         "yaxis": "y"
        },
        {
         "hoverinfo": "text",
         "marker": {
          "color": "rgb(255,220,0)"
         },
         "mode": "lines",
         "type": "scatter",
         "x": [
          0,
          0.33659351916461316,
          0.33659351916461316,
          0.11786507401284654
         ],
         "xaxis": "x",
         "y": [
          -775,
          -775,
          -790,
          -790
         ],
         "yaxis": "y"
        },
        {
         "hoverinfo": "text",
         "marker": {
          "color": "rgb(255,220,0)"
         },
         "mode": "lines",
         "type": "scatter",
         "x": [
          0,
          0.5174535874525723,
          0.5174535874525723,
          0.33659351916461316
         ],
         "xaxis": "x",
         "y": [
          -765,
          -765,
          -782.5,
          -782.5
         ],
         "yaxis": "y"
        },
        {
         "hoverinfo": "text",
         "marker": {
          "color": "rgb(255,220,0)"
         },
         "mode": "lines",
         "type": "scatter",
         "x": [
          0,
          0.914159593175354,
          0.914159593175354,
          0.5174535874525723
         ],
         "xaxis": "x",
         "y": [
          -755,
          -755,
          -773.75,
          -773.75
         ],
         "yaxis": "y"
        },
        {
         "hoverinfo": "text",
         "marker": {
          "color": "rgb(255,220,0)"
         },
         "mode": "lines",
         "type": "scatter",
         "x": [
          0,
          0.18112456648627376,
          0.18112456648627376,
          0
         ],
         "xaxis": "x",
         "y": [
          -805,
          -805,
          -815,
          -815
         ],
         "yaxis": "y"
        },
        {
         "hoverinfo": "text",
         "marker": {
          "color": "rgb(255,220,0)"
         },
         "mode": "lines",
         "type": "scatter",
         "x": [
          0,
          0.07573474487508625,
          0.07573474487508625,
          0
         ],
         "xaxis": "x",
         "y": [
          -845,
          -845,
          -855,
          -855
         ],
         "yaxis": "y"
        },
        {
         "hoverinfo": "text",
         "marker": {
          "color": "rgb(255,220,0)"
         },
         "mode": "lines",
         "type": "scatter",
         "x": [
          0,
          0.15000838814755965,
          0.15000838814755965,
          0.07573474487508625
         ],
         "xaxis": "x",
         "y": [
          -835,
          -835,
          -850,
          -850
         ],
         "yaxis": "y"
        },
        {
         "hoverinfo": "text",
         "marker": {
          "color": "rgb(255,220,0)"
         },
         "mode": "lines",
         "type": "scatter",
         "x": [
          0,
          0.38161882991889184,
          0.38161882991889184,
          0.15000838814755965
         ],
         "xaxis": "x",
         "y": [
          -825,
          -825,
          -842.5,
          -842.5
         ],
         "yaxis": "y"
        },
        {
         "hoverinfo": "text",
         "marker": {
          "color": "rgb(255,220,0)"
         },
         "mode": "lines",
         "type": "scatter",
         "x": [
          0.18112456648627376,
          0.6486679510929629,
          0.6486679510929629,
          0.38161882991889184
         ],
         "xaxis": "x",
         "y": [
          -810,
          -810,
          -833.75,
          -833.75
         ],
         "yaxis": "y"
        },
        {
         "hoverinfo": "text",
         "marker": {
          "color": "rgb(255,220,0)"
         },
         "mode": "lines",
         "type": "scatter",
         "x": [
          0,
          0.27065577478482034,
          0.27065577478482034,
          0
         ],
         "xaxis": "x",
         "y": [
          -865,
          -865,
          -875,
          -875
         ],
         "yaxis": "y"
        },
        {
         "hoverinfo": "text",
         "marker": {
          "color": "rgb(255,220,0)"
         },
         "mode": "lines",
         "type": "scatter",
         "x": [
          0,
          0.22799134722926728,
          0.22799134722926728,
          0
         ],
         "xaxis": "x",
         "y": [
          -885,
          -885,
          -895,
          -895
         ],
         "yaxis": "y"
        },
        {
         "hoverinfo": "text",
         "marker": {
          "color": "rgb(255,220,0)"
         },
         "mode": "lines",
         "type": "scatter",
         "x": [
          0,
          0.21635679408254938,
          0.21635679408254938,
          0
         ],
         "xaxis": "x",
         "y": [
          -915,
          -915,
          -925,
          -925
         ],
         "yaxis": "y"
        },
        {
         "hoverinfo": "text",
         "marker": {
          "color": "rgb(255,220,0)"
         },
         "mode": "lines",
         "type": "scatter",
         "x": [
          0,
          0.27351926577323943,
          0.27351926577323943,
          0.21635679408254938
         ],
         "xaxis": "x",
         "y": [
          -905,
          -905,
          -920,
          -920
         ],
         "yaxis": "y"
        },
        {
         "hoverinfo": "text",
         "marker": {
          "color": "rgb(255,220,0)"
         },
         "mode": "lines",
         "type": "scatter",
         "x": [
          0.22799134722926728,
          0.5632856108049057,
          0.5632856108049057,
          0.27351926577323943
         ],
         "xaxis": "x",
         "y": [
          -890,
          -890,
          -912.5,
          -912.5
         ],
         "yaxis": "y"
        },
        {
         "hoverinfo": "text",
         "marker": {
          "color": "rgb(255,220,0)"
         },
         "mode": "lines",
         "type": "scatter",
         "x": [
          0.27065577478482034,
          0.7428593862920699,
          0.7428593862920699,
          0.5632856108049057
         ],
         "xaxis": "x",
         "y": [
          -870,
          -870,
          -901.25,
          -901.25
         ],
         "yaxis": "y"
        },
        {
         "hoverinfo": "text",
         "marker": {
          "color": "rgb(255,220,0)"
         },
         "mode": "lines",
         "type": "scatter",
         "x": [
          0.6486679510929629,
          1.2994326307726367,
          1.2994326307726367,
          0.7428593862920699
         ],
         "xaxis": "x",
         "y": [
          -821.875,
          -821.875,
          -885.625,
          -885.625
         ],
         "yaxis": "y"
        },
        {
         "hoverinfo": "text",
         "marker": {
          "color": "rgb(255,220,0)"
         },
         "mode": "lines",
         "type": "scatter",
         "x": [
          0.914159593175354,
          2.1937078041086537,
          2.1937078041086537,
          1.2994326307726367
         ],
         "xaxis": "x",
         "y": [
          -764.375,
          -764.375,
          -853.75,
          -853.75
         ],
         "yaxis": "y"
        },
        {
         "hoverinfo": "text",
         "marker": {
          "color": "rgb(255,220,0)"
         },
         "mode": "lines",
         "type": "scatter",
         "x": [
          0,
          1.0466007688840835,
          1.0466007688840835,
          0
         ],
         "xaxis": "x",
         "y": [
          -935,
          -935,
          -945,
          -945
         ],
         "yaxis": "y"
        },
        {
         "hoverinfo": "text",
         "marker": {
          "color": "rgb(255,220,0)"
         },
         "mode": "lines",
         "type": "scatter",
         "x": [
          0,
          0.46539866520093265,
          0.46539866520093265,
          0
         ],
         "xaxis": "x",
         "y": [
          -965,
          -965,
          -975,
          -975
         ],
         "yaxis": "y"
        },
        {
         "hoverinfo": "text",
         "marker": {
          "color": "rgb(255,220,0)"
         },
         "mode": "lines",
         "type": "scatter",
         "x": [
          0,
          1.1049365569005374,
          1.1049365569005374,
          0.46539866520093265
         ],
         "xaxis": "x",
         "y": [
          -955,
          -955,
          -970,
          -970
         ],
         "yaxis": "y"
        },
        {
         "hoverinfo": "text",
         "marker": {
          "color": "rgb(255,220,0)"
         },
         "mode": "lines",
         "type": "scatter",
         "x": [
          1.0466007688840835,
          1.5039131722922898,
          1.5039131722922898,
          1.1049365569005374
         ],
         "xaxis": "x",
         "y": [
          -940,
          -940,
          -962.5,
          -962.5
         ],
         "yaxis": "y"
        },
        {
         "hoverinfo": "text",
         "marker": {
          "color": "rgb(255,220,0)"
         },
         "mode": "lines",
         "type": "scatter",
         "x": [
          0,
          0.6871185770524468,
          0.6871185770524468,
          0
         ],
         "xaxis": "x",
         "y": [
          -985,
          -985,
          -995,
          -995
         ],
         "yaxis": "y"
        },
        {
         "hoverinfo": "text",
         "marker": {
          "color": "rgb(255,220,0)"
         },
         "mode": "lines",
         "type": "scatter",
         "x": [
          0,
          0.7021847325334445,
          0.7021847325334445,
          0
         ],
         "xaxis": "x",
         "y": [
          -1015,
          -1015,
          -1025,
          -1025
         ],
         "yaxis": "y"
        },
        {
         "hoverinfo": "text",
         "marker": {
          "color": "rgb(255,220,0)"
         },
         "mode": "lines",
         "type": "scatter",
         "x": [
          0,
          0.9758563270318958,
          0.9758563270318958,
          0.7021847325334445
         ],
         "xaxis": "x",
         "y": [
          -1005,
          -1005,
          -1020,
          -1020
         ],
         "yaxis": "y"
        },
        {
         "hoverinfo": "text",
         "marker": {
          "color": "rgb(255,220,0)"
         },
         "mode": "lines",
         "type": "scatter",
         "x": [
          0.6871185770524468,
          1.4689237542565277,
          1.4689237542565277,
          0.9758563270318958
         ],
         "xaxis": "x",
         "y": [
          -990,
          -990,
          -1012.5,
          -1012.5
         ],
         "yaxis": "y"
        },
        {
         "hoverinfo": "text",
         "marker": {
          "color": "rgb(255,220,0)"
         },
         "mode": "lines",
         "type": "scatter",
         "x": [
          0,
          0.2694175050978471,
          0.2694175050978471,
          0
         ],
         "xaxis": "x",
         "y": [
          -1045,
          -1045,
          -1055,
          -1055
         ],
         "yaxis": "y"
        },
        {
         "hoverinfo": "text",
         "marker": {
          "color": "rgb(255,220,0)"
         },
         "mode": "lines",
         "type": "scatter",
         "x": [
          0,
          1.0230027623466897,
          1.0230027623466897,
          0.2694175050978471
         ],
         "xaxis": "x",
         "y": [
          -1035,
          -1035,
          -1050,
          -1050
         ],
         "yaxis": "y"
        },
        {
         "hoverinfo": "text",
         "marker": {
          "color": "rgb(255,220,0)"
         },
         "mode": "lines",
         "type": "scatter",
         "x": [
          0,
          0.49796516286167286,
          0.49796516286167286,
          0
         ],
         "xaxis": "x",
         "y": [
          -1065,
          -1065,
          -1075,
          -1075
         ],
         "yaxis": "y"
        },
        {
         "hoverinfo": "text",
         "marker": {
          "color": "rgb(255,220,0)"
         },
         "mode": "lines",
         "type": "scatter",
         "x": [
          0,
          0.23993504290206363,
          0.23993504290206363,
          0
         ],
         "xaxis": "x",
         "y": [
          -1095,
          -1095,
          -1105,
          -1105
         ],
         "yaxis": "y"
        },
        {
         "hoverinfo": "text",
         "marker": {
          "color": "rgb(255,220,0)"
         },
         "mode": "lines",
         "type": "scatter",
         "x": [
          0,
          0.35572554096356857,
          0.35572554096356857,
          0.23993504290206363
         ],
         "xaxis": "x",
         "y": [
          -1085,
          -1085,
          -1100,
          -1100
         ],
         "yaxis": "y"
        },
        {
         "hoverinfo": "text",
         "marker": {
          "color": "rgb(255,220,0)"
         },
         "mode": "lines",
         "type": "scatter",
         "x": [
          0,
          0.32978740553816577,
          0.32978740553816577,
          0
         ],
         "xaxis": "x",
         "y": [
          -1125,
          -1125,
          -1135,
          -1135
         ],
         "yaxis": "y"
        },
        {
         "hoverinfo": "text",
         "marker": {
          "color": "rgb(255,220,0)"
         },
         "mode": "lines",
         "type": "scatter",
         "x": [
          0,
          0.6266057193561793,
          0.6266057193561793,
          0.32978740553816577
         ],
         "xaxis": "x",
         "y": [
          -1115,
          -1115,
          -1130,
          -1130
         ],
         "yaxis": "y"
        },
        {
         "hoverinfo": "text",
         "marker": {
          "color": "rgb(255,220,0)"
         },
         "mode": "lines",
         "type": "scatter",
         "x": [
          0.35572554096356857,
          1.0449682186256684,
          1.0449682186256684,
          0.6266057193561793
         ],
         "xaxis": "x",
         "y": [
          -1092.5,
          -1092.5,
          -1122.5,
          -1122.5
         ],
         "yaxis": "y"
        },
        {
         "hoverinfo": "text",
         "marker": {
          "color": "rgb(255,220,0)"
         },
         "mode": "lines",
         "type": "scatter",
         "x": [
          0.49796516286167286,
          1.206502927857789,
          1.206502927857789,
          1.0449682186256684
         ],
         "xaxis": "x",
         "y": [
          -1070,
          -1070,
          -1107.5,
          -1107.5
         ],
         "yaxis": "y"
        },
        {
         "hoverinfo": "text",
         "marker": {
          "color": "rgb(255,220,0)"
         },
         "mode": "lines",
         "type": "scatter",
         "x": [
          1.0230027623466897,
          1.937445009951339,
          1.937445009951339,
          1.206502927857789
         ],
         "xaxis": "x",
         "y": [
          -1042.5,
          -1042.5,
          -1088.75,
          -1088.75
         ],
         "yaxis": "y"
        },
        {
         "hoverinfo": "text",
         "marker": {
          "color": "rgb(255,220,0)"
         },
         "mode": "lines",
         "type": "scatter",
         "x": [
          1.4689237542565277,
          2.5727328304610104,
          2.5727328304610104,
          1.937445009951339
         ],
         "xaxis": "x",
         "y": [
          -1001.25,
          -1001.25,
          -1065.625,
          -1065.625
         ],
         "yaxis": "y"
        },
        {
         "hoverinfo": "text",
         "marker": {
          "color": "rgb(255,220,0)"
         },
         "mode": "lines",
         "type": "scatter",
         "x": [
          1.5039131722922898,
          3.260684658391178,
          3.260684658391178,
          2.5727328304610104
         ],
         "xaxis": "x",
         "y": [
          -951.25,
          -951.25,
          -1033.4375,
          -1033.4375
         ],
         "yaxis": "y"
        },
        {
         "hoverinfo": "text",
         "marker": {
          "color": "rgb(255,220,0)"
         },
         "mode": "lines",
         "type": "scatter",
         "x": [
          2.1937078041086537,
          3.434101744328035,
          3.434101744328035,
          3.260684658391178
         ],
         "xaxis": "x",
         "y": [
          -809.0625,
          -809.0625,
          -992.34375,
          -992.34375
         ],
         "yaxis": "y"
        },
        {
         "hoverinfo": "text",
         "marker": {
          "color": "rgb(255,220,0)"
         },
         "mode": "lines",
         "type": "scatter",
         "x": [
          2.4800437930939587,
          4.976979199996256,
          4.976979199996256,
          3.434101744328035
         ],
         "xaxis": "x",
         "y": [
          -665,
          -665,
          -900.703125,
          -900.703125
         ],
         "yaxis": "y"
        },
        {
         "hoverinfo": "text",
         "marker": {
          "color": "rgb(255,220,0)"
         },
         "mode": "lines",
         "type": "scatter",
         "x": [
          3.5405925458260494,
          5.312021461841118,
          5.312021461841118,
          4.976979199996256
         ],
         "xaxis": "x",
         "y": [
          -315.625,
          -315.625,
          -782.8515625,
          -782.8515625
         ],
         "yaxis": "y"
        },
        {
         "hoverinfo": "text",
         "marker": {
          "color": "rgb(255,220,0)"
         },
         "mode": "lines",
         "type": "scatter",
         "x": [
          0,
          0.7115763139023819,
          0.7115763139023819,
          0
         ],
         "xaxis": "x",
         "y": [
          -1155,
          -1155,
          -1165,
          -1165
         ],
         "yaxis": "y"
        },
        {
         "hoverinfo": "text",
         "marker": {
          "color": "rgb(255,220,0)"
         },
         "mode": "lines",
         "type": "scatter",
         "x": [
          0,
          2.036412834164285,
          2.036412834164285,
          0.7115763139023819
         ],
         "xaxis": "x",
         "y": [
          -1145,
          -1145,
          -1160,
          -1160
         ],
         "yaxis": "y"
        },
        {
         "hoverinfo": "text",
         "marker": {
          "color": "rgb(255,220,0)"
         },
         "mode": "lines",
         "type": "scatter",
         "x": [
          0,
          0.43846504091517224,
          0.43846504091517224,
          0
         ],
         "xaxis": "x",
         "y": [
          -1175,
          -1175,
          -1185,
          -1185
         ],
         "yaxis": "y"
        },
        {
         "hoverinfo": "text",
         "marker": {
          "color": "rgb(255,220,0)"
         },
         "mode": "lines",
         "type": "scatter",
         "x": [
          0,
          0.533026645495897,
          0.533026645495897,
          0
         ],
         "xaxis": "x",
         "y": [
          -1195,
          -1195,
          -1205,
          -1205
         ],
         "yaxis": "y"
        },
        {
         "hoverinfo": "text",
         "marker": {
          "color": "rgb(255,220,0)"
         },
         "mode": "lines",
         "type": "scatter",
         "x": [
          0,
          1.0750427447275996,
          1.0750427447275996,
          0
         ],
         "xaxis": "x",
         "y": [
          -1215,
          -1215,
          -1225,
          -1225
         ],
         "yaxis": "y"
        },
        {
         "hoverinfo": "text",
         "marker": {
          "color": "rgb(255,220,0)"
         },
         "mode": "lines",
         "type": "scatter",
         "x": [
          0.533026645495897,
          1.5041636083152659,
          1.5041636083152659,
          1.0750427447275996
         ],
         "xaxis": "x",
         "y": [
          -1200,
          -1200,
          -1220,
          -1220
         ],
         "yaxis": "y"
        },
        {
         "hoverinfo": "text",
         "marker": {
          "color": "rgb(255,220,0)"
         },
         "mode": "lines",
         "type": "scatter",
         "x": [
          0.43846504091517224,
          1.7912968292381537,
          1.7912968292381537,
          1.5041636083152659
         ],
         "xaxis": "x",
         "y": [
          -1180,
          -1180,
          -1210,
          -1210
         ],
         "yaxis": "y"
        },
        {
         "hoverinfo": "text",
         "marker": {
          "color": "rgb(255,220,0)"
         },
         "mode": "lines",
         "type": "scatter",
         "x": [
          0,
          0.7824409157727712,
          0.7824409157727712,
          0
         ],
         "xaxis": "x",
         "y": [
          -1235,
          -1235,
          -1245,
          -1245
         ],
         "yaxis": "y"
        },
        {
         "hoverinfo": "text",
         "marker": {
          "color": "rgb(255,220,0)"
         },
         "mode": "lines",
         "type": "scatter",
         "x": [
          0,
          0.6308494410458455,
          0.6308494410458455,
          0
         ],
         "xaxis": "x",
         "y": [
          -1255,
          -1255,
          -1265,
          -1265
         ],
         "yaxis": "y"
        },
        {
         "hoverinfo": "text",
         "marker": {
          "color": "rgb(255,220,0)"
         },
         "mode": "lines",
         "type": "scatter",
         "x": [
          0,
          0.8636055665227568,
          0.8636055665227568,
          0
         ],
         "xaxis": "x",
         "y": [
          -1275,
          -1275,
          -1285,
          -1285
         ],
         "yaxis": "y"
        },
        {
         "hoverinfo": "text",
         "marker": {
          "color": "rgb(255,220,0)"
         },
         "mode": "lines",
         "type": "scatter",
         "x": [
          0.6308494410458455,
          1.3076132769984372,
          1.3076132769984372,
          0.8636055665227568
         ],
         "xaxis": "x",
         "y": [
          -1260,
          -1260,
          -1280,
          -1280
         ],
         "yaxis": "y"
        },
        {
         "hoverinfo": "text",
         "marker": {
          "color": "rgb(255,220,0)"
         },
         "mode": "lines",
         "type": "scatter",
         "x": [
          0.7824409157727712,
          2.358472627886559,
          2.358472627886559,
          1.3076132769984372
         ],
         "xaxis": "x",
         "y": [
          -1240,
          -1240,
          -1270,
          -1270
         ],
         "yaxis": "y"
        },
        {
         "hoverinfo": "text",
         "marker": {
          "color": "rgb(255,220,0)"
         },
         "mode": "lines",
         "type": "scatter",
         "x": [
          1.7912968292381537,
          2.934812992119245,
          2.934812992119245,
          2.358472627886559
         ],
         "xaxis": "x",
         "y": [
          -1195,
          -1195,
          -1255,
          -1255
         ],
         "yaxis": "y"
        },
        {
         "hoverinfo": "text",
         "marker": {
          "color": "rgb(255,220,0)"
         },
         "mode": "lines",
         "type": "scatter",
         "x": [
          2.036412834164285,
          3.8748606438799507,
          3.8748606438799507,
          2.934812992119245
         ],
         "xaxis": "x",
         "y": [
          -1152.5,
          -1152.5,
          -1225,
          -1225
         ],
         "yaxis": "y"
        },
        {
         "hoverinfo": "text",
         "marker": {
          "color": "rgb(255,220,0)"
         },
         "mode": "lines",
         "type": "scatter",
         "x": [
          0,
          0.9773498350413413,
          0.9773498350413413,
          0
         ],
         "xaxis": "x",
         "y": [
          -1295,
          -1295,
          -1305,
          -1305
         ],
         "yaxis": "y"
        },
        {
         "hoverinfo": "text",
         "marker": {
          "color": "rgb(255,220,0)"
         },
         "mode": "lines",
         "type": "scatter",
         "x": [
          0,
          0.5730106222263689,
          0.5730106222263689,
          0
         ],
         "xaxis": "x",
         "y": [
          -1315,
          -1315,
          -1325,
          -1325
         ],
         "yaxis": "y"
        },
        {
         "hoverinfo": "text",
         "marker": {
          "color": "rgb(255,220,0)"
         },
         "mode": "lines",
         "type": "scatter",
         "x": [
          0,
          1.1266382483808703,
          1.1266382483808703,
          0
         ],
         "xaxis": "x",
         "y": [
          -1335,
          -1335,
          -1345,
          -1345
         ],
         "yaxis": "y"
        },
        {
         "hoverinfo": "text",
         "marker": {
          "color": "rgb(255,220,0)"
         },
         "mode": "lines",
         "type": "scatter",
         "x": [
          0.5730106222263689,
          1.9308584717630215,
          1.9308584717630215,
          1.1266382483808703
         ],
         "xaxis": "x",
         "y": [
          -1320,
          -1320,
          -1340,
          -1340
         ],
         "yaxis": "y"
        },
        {
         "hoverinfo": "text",
         "marker": {
          "color": "rgb(255,220,0)"
         },
         "mode": "lines",
         "type": "scatter",
         "x": [
          0.9773498350413413,
          3.1787557417707935,
          3.1787557417707935,
          1.9308584717630215
         ],
         "xaxis": "x",
         "y": [
          -1300,
          -1300,
          -1330,
          -1330
         ],
         "yaxis": "y"
        },
        {
         "hoverinfo": "text",
         "marker": {
          "color": "rgb(255,220,0)"
         },
         "mode": "lines",
         "type": "scatter",
         "x": [
          0,
          0.6481276451783556,
          0.6481276451783556,
          0
         ],
         "xaxis": "x",
         "y": [
          -1375,
          -1375,
          -1385,
          -1385
         ],
         "yaxis": "y"
        },
        {
         "hoverinfo": "text",
         "marker": {
          "color": "rgb(255,220,0)"
         },
         "mode": "lines",
         "type": "scatter",
         "x": [
          0,
          1.5386480718113875,
          1.5386480718113875,
          0.6481276451783556
         ],
         "xaxis": "x",
         "y": [
          -1365,
          -1365,
          -1380,
          -1380
         ],
         "yaxis": "y"
        },
        {
         "hoverinfo": "text",
         "marker": {
          "color": "rgb(255,220,0)"
         },
         "mode": "lines",
         "type": "scatter",
         "x": [
          0,
          1.9491315730060106,
          1.9491315730060106,
          1.5386480718113875
         ],
         "xaxis": "x",
         "y": [
          -1355,
          -1355,
          -1372.5,
          -1372.5
         ],
         "yaxis": "y"
        },
        {
         "hoverinfo": "text",
         "marker": {
          "color": "rgb(255,220,0)"
         },
         "mode": "lines",
         "type": "scatter",
         "x": [
          0,
          1.0985552338247433,
          1.0985552338247433,
          0
         ],
         "xaxis": "x",
         "y": [
          -1395,
          -1395,
          -1405,
          -1405
         ],
         "yaxis": "y"
        },
        {
         "hoverinfo": "text",
         "marker": {
          "color": "rgb(255,220,0)"
         },
         "mode": "lines",
         "type": "scatter",
         "x": [
          0,
          0.5048601395798648,
          0.5048601395798648,
          0
         ],
         "xaxis": "x",
         "y": [
          -1425,
          -1425,
          -1435,
          -1435
         ],
         "yaxis": "y"
        },
        {
         "hoverinfo": "text",
         "marker": {
          "color": "rgb(255,220,0)"
         },
         "mode": "lines",
         "type": "scatter",
         "x": [
          0,
          0.691474537625188,
          0.691474537625188,
          0.5048601395798648
         ],
         "xaxis": "x",
         "y": [
          -1415,
          -1415,
          -1430,
          -1430
         ],
         "yaxis": "y"
        },
        {
         "hoverinfo": "text",
         "marker": {
          "color": "rgb(255,220,0)"
         },
         "mode": "lines",
         "type": "scatter",
         "x": [
          0,
          0.31110404438409134,
          0.31110404438409134,
          0
         ],
         "xaxis": "x",
         "y": [
          -1445,
          -1445,
          -1455,
          -1455
         ],
         "yaxis": "y"
        },
        {
         "hoverinfo": "text",
         "marker": {
          "color": "rgb(255,220,0)"
         },
         "mode": "lines",
         "type": "scatter",
         "x": [
          0,
          0.2331021409230928,
          0.2331021409230928,
          0
         ],
         "xaxis": "x",
         "y": [
          -1475,
          -1475,
          -1485,
          -1485
         ],
         "yaxis": "y"
        },
        {
         "hoverinfo": "text",
         "marker": {
          "color": "rgb(255,220,0)"
         },
         "mode": "lines",
         "type": "scatter",
         "x": [
          0,
          0.42940723412326975,
          0.42940723412326975,
          0.2331021409230928
         ],
         "xaxis": "x",
         "y": [
          -1465,
          -1465,
          -1480,
          -1480
         ],
         "yaxis": "y"
        },
        {
         "hoverinfo": "text",
         "marker": {
          "color": "rgb(255,220,0)"
         },
         "mode": "lines",
         "type": "scatter",
         "x": [
          0.31110404438409134,
          1.108899305365972,
          1.108899305365972,
          0.42940723412326975
         ],
         "xaxis": "x",
         "y": [
          -1450,
          -1450,
          -1472.5,
          -1472.5
         ],
         "yaxis": "y"
        },
        {
         "hoverinfo": "text",
         "marker": {
          "color": "rgb(255,220,0)"
         },
         "mode": "lines",
         "type": "scatter",
         "x": [
          0.691474537625188,
          1.6128832529563502,
          1.6128832529563502,
          1.108899305365972
         ],
         "xaxis": "x",
         "y": [
          -1422.5,
          -1422.5,
          -1461.25,
          -1461.25
         ],
         "yaxis": "y"
        },
        {
         "hoverinfo": "text",
         "marker": {
          "color": "rgb(255,220,0)"
         },
         "mode": "lines",
         "type": "scatter",
         "x": [
          1.0985552338247433,
          2.626716574873588,
          2.626716574873588,
          1.6128832529563502
         ],
         "xaxis": "x",
         "y": [
          -1400,
          -1400,
          -1441.875,
          -1441.875
         ],
         "yaxis": "y"
        },
        {
         "hoverinfo": "text",
         "marker": {
          "color": "rgb(255,220,0)"
         },
         "mode": "lines",
         "type": "scatter",
         "x": [
          1.9491315730060106,
          3.945138468462353,
          3.945138468462353,
          2.626716574873588
         ],
         "xaxis": "x",
         "y": [
          -1363.75,
          -1363.75,
          -1420.9375,
          -1420.9375
         ],
         "yaxis": "y"
        },
        {
         "hoverinfo": "text",
         "marker": {
          "color": "rgb(255,220,0)"
         },
         "mode": "lines",
         "type": "scatter",
         "x": [
          3.1787557417707935,
          5.2411732004077525,
          5.2411732004077525,
          3.945138468462353
         ],
         "xaxis": "x",
         "y": [
          -1315,
          -1315,
          -1392.34375,
          -1392.34375
         ],
         "yaxis": "y"
        },
        {
         "hoverinfo": "text",
         "marker": {
          "color": "rgb(255,220,0)"
         },
         "mode": "lines",
         "type": "scatter",
         "x": [
          3.8748606438799507,
          7.057563748014665,
          7.057563748014665,
          5.2411732004077525
         ],
         "xaxis": "x",
         "y": [
          -1188.75,
          -1188.75,
          -1353.671875,
          -1353.671875
         ],
         "yaxis": "y"
        },
        {
         "hoverinfo": "text",
         "marker": {
          "color": "rgb(255,220,0)"
         },
         "mode": "lines",
         "type": "scatter",
         "x": [
          5.312021461841118,
          7.996224544692022,
          7.996224544692022,
          7.057563748014665
         ],
         "xaxis": "x",
         "y": [
          -549.23828125,
          -549.23828125,
          -1271.2109375,
          -1271.2109375
         ],
         "yaxis": "y"
        },
        {
         "hoverinfo": "text",
         "marker": {
          "color": "rgb(40,35,35)"
         },
         "mode": "lines",
         "type": "scatter",
         "x": [
          0,
          0.054503134526865775,
          0.054503134526865775,
          0
         ],
         "xaxis": "x",
         "y": [
          -1495,
          -1495,
          -1505,
          -1505
         ],
         "yaxis": "y"
        },
        {
         "hoverinfo": "text",
         "marker": {
          "color": "rgb(40,35,35)"
         },
         "mode": "lines",
         "type": "scatter",
         "x": [
          0,
          1.5447445531939663,
          1.5447445531939663,
          0
         ],
         "xaxis": "x",
         "y": [
          -1515,
          -1515,
          -1525,
          -1525
         ],
         "yaxis": "y"
        },
        {
         "hoverinfo": "text",
         "marker": {
          "color": "rgb(40,35,35)"
         },
         "mode": "lines",
         "type": "scatter",
         "x": [
          0.054503134526865775,
          1.6160726405614199,
          1.6160726405614199,
          1.5447445531939663
         ],
         "xaxis": "x",
         "y": [
          -1500,
          -1500,
          -1520,
          -1520
         ],
         "yaxis": "y"
        },
        {
         "hoverinfo": "text",
         "marker": {
          "color": "rgb(40,35,35)"
         },
         "mode": "lines",
         "type": "scatter",
         "x": [
          0,
          0.1720081151354392,
          0.1720081151354392,
          0
         ],
         "xaxis": "x",
         "y": [
          -1555,
          -1555,
          -1565,
          -1565
         ],
         "yaxis": "y"
        },
        {
         "hoverinfo": "text",
         "marker": {
          "color": "rgb(40,35,35)"
         },
         "mode": "lines",
         "type": "scatter",
         "x": [
          0,
          0.49848310707883225,
          0.49848310707883225,
          0.1720081151354392
         ],
         "xaxis": "x",
         "y": [
          -1545,
          -1545,
          -1560,
          -1560
         ],
         "yaxis": "y"
        },
        {
         "hoverinfo": "text",
         "marker": {
          "color": "rgb(40,35,35)"
         },
         "mode": "lines",
         "type": "scatter",
         "x": [
          0,
          1.0514438034617746,
          1.0514438034617746,
          0.49848310707883225
         ],
         "xaxis": "x",
         "y": [
          -1535,
          -1535,
          -1552.5,
          -1552.5
         ],
         "yaxis": "y"
        },
        {
         "hoverinfo": "text",
         "marker": {
          "color": "rgb(40,35,35)"
         },
         "mode": "lines",
         "type": "scatter",
         "x": [
          0,
          0.6219164094710214,
          0.6219164094710214,
          0
         ],
         "xaxis": "x",
         "y": [
          -1575,
          -1575,
          -1585,
          -1585
         ],
         "yaxis": "y"
        },
        {
         "hoverinfo": "text",
         "marker": {
          "color": "rgb(40,35,35)"
         },
         "mode": "lines",
         "type": "scatter",
         "x": [
          0,
          0.25943349482288675,
          0.25943349482288675,
          0
         ],
         "xaxis": "x",
         "y": [
          -1605,
          -1605,
          -1615,
          -1615
         ],
         "yaxis": "y"
        },
        {
         "hoverinfo": "text",
         "marker": {
          "color": "rgb(40,35,35)"
         },
         "mode": "lines",
         "type": "scatter",
         "x": [
          0,
          0.37483637577033047,
          0.37483637577033047,
          0.25943349482288675
         ],
         "xaxis": "x",
         "y": [
          -1595,
          -1595,
          -1610,
          -1610
         ],
         "yaxis": "y"
        },
        {
         "hoverinfo": "text",
         "marker": {
          "color": "rgb(40,35,35)"
         },
         "mode": "lines",
         "type": "scatter",
         "x": [
          0,
          0.5362694737040659,
          0.5362694737040659,
          0
         ],
         "xaxis": "x",
         "y": [
          -1625,
          -1625,
          -1635,
          -1635
         ],
         "yaxis": "y"
        },
        {
         "hoverinfo": "text",
         "marker": {
          "color": "rgb(40,35,35)"
         },
         "mode": "lines",
         "type": "scatter",
         "x": [
          0.37483637577033047,
          0.7665776178518182,
          0.7665776178518182,
          0.5362694737040659
         ],
         "xaxis": "x",
         "y": [
          -1602.5,
          -1602.5,
          -1630,
          -1630
         ],
         "yaxis": "y"
        },
        {
         "hoverinfo": "text",
         "marker": {
          "color": "rgb(40,35,35)"
         },
         "mode": "lines",
         "type": "scatter",
         "x": [
          0.6219164094710214,
          1.510365260097621,
          1.510365260097621,
          0.7665776178518182
         ],
         "xaxis": "x",
         "y": [
          -1580,
          -1580,
          -1616.25,
          -1616.25
         ],
         "yaxis": "y"
        },
        {
         "hoverinfo": "text",
         "marker": {
          "color": "rgb(40,35,35)"
         },
         "mode": "lines",
         "type": "scatter",
         "x": [
          1.0514438034617746,
          1.7901060015673798,
          1.7901060015673798,
          1.510365260097621
         ],
         "xaxis": "x",
         "y": [
          -1543.75,
          -1543.75,
          -1598.125,
          -1598.125
         ],
         "yaxis": "y"
        },
        {
         "hoverinfo": "text",
         "marker": {
          "color": "rgb(40,35,35)"
         },
         "mode": "lines",
         "type": "scatter",
         "x": [
          1.6160726405614199,
          3.3945047340906287,
          3.3945047340906287,
          1.7901060015673798
         ],
         "xaxis": "x",
         "y": [
          -1510,
          -1510,
          -1570.9375,
          -1570.9375
         ],
         "yaxis": "y"
        },
        {
         "hoverinfo": "text",
         "marker": {
          "color": "rgb(40,35,35)"
         },
         "mode": "lines",
         "type": "scatter",
         "x": [
          0,
          0.4059767337168584,
          0.4059767337168584,
          0
         ],
         "xaxis": "x",
         "y": [
          -1655,
          -1655,
          -1665,
          -1665
         ],
         "yaxis": "y"
        },
        {
         "hoverinfo": "text",
         "marker": {
          "color": "rgb(40,35,35)"
         },
         "mode": "lines",
         "type": "scatter",
         "x": [
          0,
          0.8413742453814923,
          0.8413742453814923,
          0.4059767337168584
         ],
         "xaxis": "x",
         "y": [
          -1645,
          -1645,
          -1660,
          -1660
         ],
         "yaxis": "y"
        },
        {
         "hoverinfo": "text",
         "marker": {
          "color": "rgb(40,35,35)"
         },
         "mode": "lines",
         "type": "scatter",
         "x": [
          0,
          0.6191944132789532,
          0.6191944132789532,
          0
         ],
         "xaxis": "x",
         "y": [
          -1675,
          -1675,
          -1685,
          -1685
         ],
         "yaxis": "y"
        },
        {
         "hoverinfo": "text",
         "marker": {
          "color": "rgb(40,35,35)"
         },
         "mode": "lines",
         "type": "scatter",
         "x": [
          0,
          0.20624569831290868,
          0.20624569831290868,
          0
         ],
         "xaxis": "x",
         "y": [
          -1695,
          -1695,
          -1705,
          -1705
         ],
         "yaxis": "y"
        },
        {
         "hoverinfo": "text",
         "marker": {
          "color": "rgb(40,35,35)"
         },
         "mode": "lines",
         "type": "scatter",
         "x": [
          0,
          0.2381130097194292,
          0.2381130097194292,
          0
         ],
         "xaxis": "x",
         "y": [
          -1715,
          -1715,
          -1725,
          -1725
         ],
         "yaxis": "y"
        },
        {
         "hoverinfo": "text",
         "marker": {
          "color": "rgb(40,35,35)"
         },
         "mode": "lines",
         "type": "scatter",
         "x": [
          0.20624569831290868,
          0.8176061419728842,
          0.8176061419728842,
          0.2381130097194292
         ],
         "xaxis": "x",
         "y": [
          -1700,
          -1700,
          -1720,
          -1720
         ],
         "yaxis": "y"
        },
        {
         "hoverinfo": "text",
         "marker": {
          "color": "rgb(40,35,35)"
         },
         "mode": "lines",
         "type": "scatter",
         "x": [
          0.6191944132789532,
          1.3556423879367665,
          1.3556423879367665,
          0.8176061419728842
         ],
         "xaxis": "x",
         "y": [
          -1680,
          -1680,
          -1710,
          -1710
         ],
         "yaxis": "y"
        },
        {
         "hoverinfo": "text",
         "marker": {
          "color": "rgb(40,35,35)"
         },
         "mode": "lines",
         "type": "scatter",
         "x": [
          0.8413742453814923,
          2.5876094430303156,
          2.5876094430303156,
          1.3556423879367665
         ],
         "xaxis": "x",
         "y": [
          -1652.5,
          -1652.5,
          -1695,
          -1695
         ],
         "yaxis": "y"
        },
        {
         "hoverinfo": "text",
         "marker": {
          "color": "rgb(40,35,35)"
         },
         "mode": "lines",
         "type": "scatter",
         "x": [
          0,
          0.7081879332244304,
          0.7081879332244304,
          0
         ],
         "xaxis": "x",
         "y": [
          -1745,
          -1745,
          -1755,
          -1755
         ],
         "yaxis": "y"
        },
        {
         "hoverinfo": "text",
         "marker": {
          "color": "rgb(40,35,35)"
         },
         "mode": "lines",
         "type": "scatter",
         "x": [
          0,
          1.2940032719528762,
          1.2940032719528762,
          0.7081879332244304
         ],
         "xaxis": "x",
         "y": [
          -1735,
          -1735,
          -1750,
          -1750
         ],
         "yaxis": "y"
        },
        {
         "hoverinfo": "text",
         "marker": {
          "color": "rgb(40,35,35)"
         },
         "mode": "lines",
         "type": "scatter",
         "x": [
          0,
          1.0584513501618886,
          1.0584513501618886,
          0
         ],
         "xaxis": "x",
         "y": [
          -1775,
          -1775,
          -1785,
          -1785
         ],
         "yaxis": "y"
        },
        {
         "hoverinfo": "text",
         "marker": {
          "color": "rgb(40,35,35)"
         },
         "mode": "lines",
         "type": "scatter",
         "x": [
          0,
          1.5886096162825516,
          1.5886096162825516,
          1.0584513501618886
         ],
         "xaxis": "x",
         "y": [
          -1765,
          -1765,
          -1780,
          -1780
         ],
         "yaxis": "y"
        },
        {
         "hoverinfo": "text",
         "marker": {
          "color": "rgb(40,35,35)"
         },
         "mode": "lines",
         "type": "scatter",
         "x": [
          1.2940032719528762,
          2.7024610968766947,
          2.7024610968766947,
          1.5886096162825516
         ],
         "xaxis": "x",
         "y": [
          -1742.5,
          -1742.5,
          -1772.5,
          -1772.5
         ],
         "yaxis": "y"
        },
        {
         "hoverinfo": "text",
         "marker": {
          "color": "rgb(40,35,35)"
         },
         "mode": "lines",
         "type": "scatter",
         "x": [
          2.5876094430303156,
          3.9643164334825722,
          3.9643164334825722,
          2.7024610968766947
         ],
         "xaxis": "x",
         "y": [
          -1673.75,
          -1673.75,
          -1757.5,
          -1757.5
         ],
         "yaxis": "y"
        },
        {
         "hoverinfo": "text",
         "marker": {
          "color": "rgb(40,35,35)"
         },
         "mode": "lines",
         "type": "scatter",
         "x": [
          3.3945047340906287,
          5.118370691228019,
          5.118370691228019,
          3.9643164334825722
         ],
         "xaxis": "x",
         "y": [
          -1540.46875,
          -1540.46875,
          -1715.625,
          -1715.625
         ],
         "yaxis": "y"
        },
        {
         "hoverinfo": "text",
         "marker": {
          "color": "rgb(40,35,35)"
         },
         "mode": "lines",
         "type": "scatter",
         "x": [
          0,
          0.6581540960513113,
          0.6581540960513113,
          0
         ],
         "xaxis": "x",
         "y": [
          -1795,
          -1795,
          -1805,
          -1805
         ],
         "yaxis": "y"
        },
        {
         "hoverinfo": "text",
         "marker": {
          "color": "rgb(40,35,35)"
         },
         "mode": "lines",
         "type": "scatter",
         "x": [
          0,
          0.33782432378471194,
          0.33782432378471194,
          0
         ],
         "xaxis": "x",
         "y": [
          -1825,
          -1825,
          -1835,
          -1835
         ],
         "yaxis": "y"
        },
        {
         "hoverinfo": "text",
         "marker": {
          "color": "rgb(40,35,35)"
         },
         "mode": "lines",
         "type": "scatter",
         "x": [
          0,
          0.703009384694868,
          0.703009384694868,
          0.33782432378471194
         ],
         "xaxis": "x",
         "y": [
          -1815,
          -1815,
          -1830,
          -1830
         ],
         "yaxis": "y"
        },
        {
         "hoverinfo": "text",
         "marker": {
          "color": "rgb(40,35,35)"
         },
         "mode": "lines",
         "type": "scatter",
         "x": [
          0.6581540960513113,
          0.907651746766436,
          0.907651746766436,
          0.703009384694868
         ],
         "xaxis": "x",
         "y": [
          -1800,
          -1800,
          -1822.5,
          -1822.5
         ],
         "yaxis": "y"
        },
        {
         "hoverinfo": "text",
         "marker": {
          "color": "rgb(40,35,35)"
         },
         "mode": "lines",
         "type": "scatter",
         "x": [
          0,
          0.30331157552878907,
          0.30331157552878907,
          0
         ],
         "xaxis": "x",
         "y": [
          -1855,
          -1855,
          -1865,
          -1865
         ],
         "yaxis": "y"
        },
        {
         "hoverinfo": "text",
         "marker": {
          "color": "rgb(40,35,35)"
         },
         "mode": "lines",
         "type": "scatter",
         "x": [
          0,
          0.4852131391385039,
          0.4852131391385039,
          0.30331157552878907
         ],
         "xaxis": "x",
         "y": [
          -1845,
          -1845,
          -1860,
          -1860
         ],
         "yaxis": "y"
        },
        {
         "hoverinfo": "text",
         "marker": {
          "color": "rgb(40,35,35)"
         },
         "mode": "lines",
         "type": "scatter",
         "x": [
          0,
          0.6207335150494874,
          0.6207335150494874,
          0
         ],
         "xaxis": "x",
         "y": [
          -1875,
          -1875,
          -1885,
          -1885
         ],
         "yaxis": "y"
        },
        {
         "hoverinfo": "text",
         "marker": {
          "color": "rgb(40,35,35)"
         },
         "mode": "lines",
         "type": "scatter",
         "x": [
          0.4852131391385039,
          1.3668301695392608,
          1.3668301695392608,
          0.6207335150494874
         ],
         "xaxis": "x",
         "y": [
          -1852.5,
          -1852.5,
          -1880,
          -1880
         ],
         "yaxis": "y"
        },
        {
         "hoverinfo": "text",
         "marker": {
          "color": "rgb(40,35,35)"
         },
         "mode": "lines",
         "type": "scatter",
         "x": [
          0.907651746766436,
          2.0078372994490916,
          2.0078372994490916,
          1.3668301695392608
         ],
         "xaxis": "x",
         "y": [
          -1811.25,
          -1811.25,
          -1866.25,
          -1866.25
         ],
         "yaxis": "y"
        },
        {
         "hoverinfo": "text",
         "marker": {
          "color": "rgb(40,35,35)"
         },
         "mode": "lines",
         "type": "scatter",
         "x": [
          0,
          0.46110999487442095,
          0.46110999487442095,
          0
         ],
         "xaxis": "x",
         "y": [
          -1895,
          -1895,
          -1905,
          -1905
         ],
         "yaxis": "y"
        },
        {
         "hoverinfo": "text",
         "marker": {
          "color": "rgb(40,35,35)"
         },
         "mode": "lines",
         "type": "scatter",
         "x": [
          0,
          0.7187015028623613,
          0.7187015028623613,
          0
         ],
         "xaxis": "x",
         "y": [
          -1915,
          -1915,
          -1925,
          -1925
         ],
         "yaxis": "y"
        },
        {
         "hoverinfo": "text",
         "marker": {
          "color": "rgb(40,35,35)"
         },
         "mode": "lines",
         "type": "scatter",
         "x": [
          0.46110999487442095,
          1.361510712316688,
          1.361510712316688,
          0.7187015028623613
         ],
         "xaxis": "x",
         "y": [
          -1900,
          -1900,
          -1920,
          -1920
         ],
         "yaxis": "y"
        },
        {
         "hoverinfo": "text",
         "marker": {
          "color": "rgb(40,35,35)"
         },
         "mode": "lines",
         "type": "scatter",
         "x": [
          0,
          0.41630580762205666,
          0.41630580762205666,
          0
         ],
         "xaxis": "x",
         "y": [
          -1945,
          -1945,
          -1955,
          -1955
         ],
         "yaxis": "y"
        },
        {
         "hoverinfo": "text",
         "marker": {
          "color": "rgb(40,35,35)"
         },
         "mode": "lines",
         "type": "scatter",
         "x": [
          0,
          1.0461463719219293,
          1.0461463719219293,
          0.41630580762205666
         ],
         "xaxis": "x",
         "y": [
          -1935,
          -1935,
          -1950,
          -1950
         ],
         "yaxis": "y"
        },
        {
         "hoverinfo": "text",
         "marker": {
          "color": "rgb(40,35,35)"
         },
         "mode": "lines",
         "type": "scatter",
         "x": [
          0,
          0.3101306047155406,
          0.3101306047155406,
          0
         ],
         "xaxis": "x",
         "y": [
          -1985,
          -1985,
          -1995,
          -1995
         ],
         "yaxis": "y"
        },
        {
         "hoverinfo": "text",
         "marker": {
          "color": "rgb(40,35,35)"
         },
         "mode": "lines",
         "type": "scatter",
         "x": [
          0,
          0.7198906679809451,
          0.7198906679809451,
          0.3101306047155406
         ],
         "xaxis": "x",
         "y": [
          -1975,
          -1975,
          -1990,
          -1990
         ],
         "yaxis": "y"
        },
        {
         "hoverinfo": "text",
         "marker": {
          "color": "rgb(40,35,35)"
         },
         "mode": "lines",
         "type": "scatter",
         "x": [
          0,
          1.164888167336393,
          1.164888167336393,
          0.7198906679809451
         ],
         "xaxis": "x",
         "y": [
          -1965,
          -1965,
          -1982.5,
          -1982.5
         ],
         "yaxis": "y"
        },
        {
         "hoverinfo": "text",
         "marker": {
          "color": "rgb(40,35,35)"
         },
         "mode": "lines",
         "type": "scatter",
         "x": [
          1.0461463719219293,
          1.5749825617258797,
          1.5749825617258797,
          1.164888167336393
         ],
         "xaxis": "x",
         "y": [
          -1942.5,
          -1942.5,
          -1973.75,
          -1973.75
         ],
         "yaxis": "y"
        },
        {
         "hoverinfo": "text",
         "marker": {
          "color": "rgb(40,35,35)"
         },
         "mode": "lines",
         "type": "scatter",
         "x": [
          1.361510712316688,
          2.717370968676239,
          2.717370968676239,
          1.5749825617258797
         ],
         "xaxis": "x",
         "y": [
          -1910,
          -1910,
          -1958.125,
          -1958.125
         ],
         "yaxis": "y"
        },
        {
         "hoverinfo": "text",
         "marker": {
          "color": "rgb(40,35,35)"
         },
         "mode": "lines",
         "type": "scatter",
         "x": [
          2.0078372994490916,
          2.9426411199293017,
          2.9426411199293017,
          2.717370968676239
         ],
         "xaxis": "x",
         "y": [
          -1838.75,
          -1838.75,
          -1934.0625,
          -1934.0625
         ],
         "yaxis": "y"
        },
        {
         "hoverinfo": "text",
         "marker": {
          "color": "rgb(40,35,35)"
         },
         "mode": "lines",
         "type": "scatter",
         "x": [
          0,
          0.8251036315774751,
          0.8251036315774751,
          0
         ],
         "xaxis": "x",
         "y": [
          -2015,
          -2015,
          -2025,
          -2025
         ],
         "yaxis": "y"
        },
        {
         "hoverinfo": "text",
         "marker": {
          "color": "rgb(40,35,35)"
         },
         "mode": "lines",
         "type": "scatter",
         "x": [
          0,
          1.894597200509381,
          1.894597200509381,
          0.8251036315774751
         ],
         "xaxis": "x",
         "y": [
          -2005,
          -2005,
          -2020,
          -2020
         ],
         "yaxis": "y"
        },
        {
         "hoverinfo": "text",
         "marker": {
          "color": "rgb(40,35,35)"
         },
         "mode": "lines",
         "type": "scatter",
         "x": [
          0,
          0.1853158266340565,
          0.1853158266340565,
          0
         ],
         "xaxis": "x",
         "y": [
          -2055,
          -2055,
          -2065,
          -2065
         ],
         "yaxis": "y"
        },
        {
         "hoverinfo": "text",
         "marker": {
          "color": "rgb(40,35,35)"
         },
         "mode": "lines",
         "type": "scatter",
         "x": [
          0,
          0.502901960206416,
          0.502901960206416,
          0.1853158266340565
         ],
         "xaxis": "x",
         "y": [
          -2045,
          -2045,
          -2060,
          -2060
         ],
         "yaxis": "y"
        },
        {
         "hoverinfo": "text",
         "marker": {
          "color": "rgb(40,35,35)"
         },
         "mode": "lines",
         "type": "scatter",
         "x": [
          0,
          0.9073629504597387,
          0.9073629504597387,
          0.502901960206416
         ],
         "xaxis": "x",
         "y": [
          -2035,
          -2035,
          -2052.5,
          -2052.5
         ],
         "yaxis": "y"
        },
        {
         "hoverinfo": "text",
         "marker": {
          "color": "rgb(40,35,35)"
         },
         "mode": "lines",
         "type": "scatter",
         "x": [
          0,
          0.38467975723320597,
          0.38467975723320597,
          0
         ],
         "xaxis": "x",
         "y": [
          -2075,
          -2075,
          -2085,
          -2085
         ],
         "yaxis": "y"
        },
        {
         "hoverinfo": "text",
         "marker": {
          "color": "rgb(40,35,35)"
         },
         "mode": "lines",
         "type": "scatter",
         "x": [
          0,
          0.4057165342541182,
          0.4057165342541182,
          0
         ],
         "xaxis": "x",
         "y": [
          -2095,
          -2095,
          -2105,
          -2105
         ],
         "yaxis": "y"
        },
        {
         "hoverinfo": "text",
         "marker": {
          "color": "rgb(40,35,35)"
         },
         "mode": "lines",
         "type": "scatter",
         "x": [
          0.38467975723320597,
          1.1212259131038338,
          1.1212259131038338,
          0.4057165342541182
         ],
         "xaxis": "x",
         "y": [
          -2080,
          -2080,
          -2100,
          -2100
         ],
         "yaxis": "y"
        },
        {
         "hoverinfo": "text",
         "marker": {
          "color": "rgb(40,35,35)"
         },
         "mode": "lines",
         "type": "scatter",
         "x": [
          0.9073629504597387,
          2.061037376622639,
          2.061037376622639,
          1.1212259131038338
         ],
         "xaxis": "x",
         "y": [
          -2043.75,
          -2043.75,
          -2090,
          -2090
         ],
         "yaxis": "y"
        },
        {
         "hoverinfo": "text",
         "marker": {
          "color": "rgb(40,35,35)"
         },
         "mode": "lines",
         "type": "scatter",
         "x": [
          1.894597200509381,
          3.2340424225973545,
          3.2340424225973545,
          2.061037376622639
         ],
         "xaxis": "x",
         "y": [
          -2012.5,
          -2012.5,
          -2066.875,
          -2066.875
         ],
         "yaxis": "y"
        },
        {
         "hoverinfo": "text",
         "marker": {
          "color": "rgb(40,35,35)"
         },
         "mode": "lines",
         "type": "scatter",
         "x": [
          2.9426411199293017,
          4.119067299323034,
          4.119067299323034,
          3.2340424225973545
         ],
         "xaxis": "x",
         "y": [
          -1886.40625,
          -1886.40625,
          -2039.6875,
          -2039.6875
         ],
         "yaxis": "y"
        },
        {
         "hoverinfo": "text",
         "marker": {
          "color": "rgb(40,35,35)"
         },
         "mode": "lines",
         "type": "scatter",
         "x": [
          0,
          0.27134413455429185,
          0.27134413455429185,
          0
         ],
         "xaxis": "x",
         "y": [
          -2125,
          -2125,
          -2135,
          -2135
         ],
         "yaxis": "y"
        },
        {
         "hoverinfo": "text",
         "marker": {
          "color": "rgb(40,35,35)"
         },
         "mode": "lines",
         "type": "scatter",
         "x": [
          0,
          0.6275775224041912,
          0.6275775224041912,
          0
         ],
         "xaxis": "x",
         "y": [
          -2155,
          -2155,
          -2165,
          -2165
         ],
         "yaxis": "y"
        },
        {
         "hoverinfo": "text",
         "marker": {
          "color": "rgb(40,35,35)"
         },
         "mode": "lines",
         "type": "scatter",
         "x": [
          0,
          1.143163312803151,
          1.143163312803151,
          0.6275775224041912
         ],
         "xaxis": "x",
         "y": [
          -2145,
          -2145,
          -2160,
          -2160
         ],
         "yaxis": "y"
        },
        {
         "hoverinfo": "text",
         "marker": {
          "color": "rgb(40,35,35)"
         },
         "mode": "lines",
         "type": "scatter",
         "x": [
          0.27134413455429185,
          1.6274851833678403,
          1.6274851833678403,
          1.143163312803151
         ],
         "xaxis": "x",
         "y": [
          -2130,
          -2130,
          -2152.5,
          -2152.5
         ],
         "yaxis": "y"
        },
        {
         "hoverinfo": "text",
         "marker": {
          "color": "rgb(40,35,35)"
         },
         "mode": "lines",
         "type": "scatter",
         "x": [
          0,
          1.9712631422526083,
          1.9712631422526083,
          1.6274851833678403
         ],
         "xaxis": "x",
         "y": [
          -2115,
          -2115,
          -2141.25,
          -2141.25
         ],
         "yaxis": "y"
        },
        {
         "hoverinfo": "text",
         "marker": {
          "color": "rgb(40,35,35)"
         },
         "mode": "lines",
         "type": "scatter",
         "x": [
          0,
          0.5030251429076283,
          0.5030251429076283,
          0
         ],
         "xaxis": "x",
         "y": [
          -2185,
          -2185,
          -2195,
          -2195
         ],
         "yaxis": "y"
        },
        {
         "hoverinfo": "text",
         "marker": {
          "color": "rgb(40,35,35)"
         },
         "mode": "lines",
         "type": "scatter",
         "x": [
          0,
          0.6488262146644004,
          0.6488262146644004,
          0.5030251429076283
         ],
         "xaxis": "x",
         "y": [
          -2175,
          -2175,
          -2190,
          -2190
         ],
         "yaxis": "y"
        },
        {
         "hoverinfo": "text",
         "marker": {
          "color": "rgb(40,35,35)"
         },
         "mode": "lines",
         "type": "scatter",
         "x": [
          0,
          0.3329343853527693,
          0.3329343853527693,
          0
         ],
         "xaxis": "x",
         "y": [
          -2215,
          -2215,
          -2225,
          -2225
         ],
         "yaxis": "y"
        },
        {
         "hoverinfo": "text",
         "marker": {
          "color": "rgb(40,35,35)"
         },
         "mode": "lines",
         "type": "scatter",
         "x": [
          0,
          0.6841700746178258,
          0.6841700746178258,
          0.3329343853527693
         ],
         "xaxis": "x",
         "y": [
          -2205,
          -2205,
          -2220,
          -2220
         ],
         "yaxis": "y"
        },
        {
         "hoverinfo": "text",
         "marker": {
          "color": "rgb(40,35,35)"
         },
         "mode": "lines",
         "type": "scatter",
         "x": [
          0.6488262146644004,
          1.3809229215613583,
          1.3809229215613583,
          0.6841700746178258
         ],
         "xaxis": "x",
         "y": [
          -2182.5,
          -2182.5,
          -2212.5,
          -2212.5
         ],
         "yaxis": "y"
        },
        {
         "hoverinfo": "text",
         "marker": {
          "color": "rgb(40,35,35)"
         },
         "mode": "lines",
         "type": "scatter",
         "x": [
          0,
          0.4717361280090657,
          0.4717361280090657,
          0
         ],
         "xaxis": "x",
         "y": [
          -2235,
          -2235,
          -2245,
          -2245
         ],
         "yaxis": "y"
        },
        {
         "hoverinfo": "text",
         "marker": {
          "color": "rgb(40,35,35)"
         },
         "mode": "lines",
         "type": "scatter",
         "x": [
          0,
          0.3145300575709351,
          0.3145300575709351,
          0
         ],
         "xaxis": "x",
         "y": [
          -2255,
          -2255,
          -2265,
          -2265
         ],
         "yaxis": "y"
        },
        {
         "hoverinfo": "text",
         "marker": {
          "color": "rgb(40,35,35)"
         },
         "mode": "lines",
         "type": "scatter",
         "x": [
          0,
          0.15080823096893126,
          0.15080823096893126,
          0
         ],
         "xaxis": "x",
         "y": [
          -2285,
          -2285,
          -2295,
          -2295
         ],
         "yaxis": "y"
        },
        {
         "hoverinfo": "text",
         "marker": {
          "color": "rgb(40,35,35)"
         },
         "mode": "lines",
         "type": "scatter",
         "x": [
          0,
          0.3917525295729242,
          0.3917525295729242,
          0.15080823096893126
         ],
         "xaxis": "x",
         "y": [
          -2275,
          -2275,
          -2290,
          -2290
         ],
         "yaxis": "y"
        },
        {
         "hoverinfo": "text",
         "marker": {
          "color": "rgb(40,35,35)"
         },
         "mode": "lines",
         "type": "scatter",
         "x": [
          0.3145300575709351,
          0.6155396067972918,
          0.6155396067972918,
          0.3917525295729242
         ],
         "xaxis": "x",
         "y": [
          -2260,
          -2260,
          -2282.5,
          -2282.5
         ],
         "yaxis": "y"
        },
        {
         "hoverinfo": "text",
         "marker": {
          "color": "rgb(40,35,35)"
         },
         "mode": "lines",
         "type": "scatter",
         "x": [
          0,
          0.0646161775079764,
          0.0646161775079764,
          0
         ],
         "xaxis": "x",
         "y": [
          -2325,
          -2325,
          -2335,
          -2335
         ],
         "yaxis": "y"
        },
        {
         "hoverinfo": "text",
         "marker": {
          "color": "rgb(40,35,35)"
         },
         "mode": "lines",
         "type": "scatter",
         "x": [
          0,
          0.18577442515138642,
          0.18577442515138642,
          0.0646161775079764
         ],
         "xaxis": "x",
         "y": [
          -2315,
          -2315,
          -2330,
          -2330
         ],
         "yaxis": "y"
        },
        {
         "hoverinfo": "text",
         "marker": {
          "color": "rgb(40,35,35)"
         },
         "mode": "lines",
         "type": "scatter",
         "x": [
          0,
          0.7139991475417096,
          0.7139991475417096,
          0.18577442515138642
         ],
         "xaxis": "x",
         "y": [
          -2305,
          -2305,
          -2322.5,
          -2322.5
         ],
         "yaxis": "y"
        },
        {
         "hoverinfo": "text",
         "marker": {
          "color": "rgb(40,35,35)"
         },
         "mode": "lines",
         "type": "scatter",
         "x": [
          0.6155396067972918,
          0.9255380308880985,
          0.9255380308880985,
          0.7139991475417096
         ],
         "xaxis": "x",
         "y": [
          -2271.25,
          -2271.25,
          -2313.75,
          -2313.75
         ],
         "yaxis": "y"
        },
        {
         "hoverinfo": "text",
         "marker": {
          "color": "rgb(40,35,35)"
         },
         "mode": "lines",
         "type": "scatter",
         "x": [
          0.4717361280090657,
          1.8073385340799242,
          1.8073385340799242,
          0.9255380308880985
         ],
         "xaxis": "x",
         "y": [
          -2240,
          -2240,
          -2292.5,
          -2292.5
         ],
         "yaxis": "y"
        },
        {
         "hoverinfo": "text",
         "marker": {
          "color": "rgb(40,35,35)"
         },
         "mode": "lines",
         "type": "scatter",
         "x": [
          1.3809229215613583,
          2.234746501277448,
          2.234746501277448,
          1.8073385340799242
         ],
         "xaxis": "x",
         "y": [
          -2197.5,
          -2197.5,
          -2266.25,
          -2266.25
         ],
         "yaxis": "y"
        },
        {
         "hoverinfo": "text",
         "marker": {
          "color": "rgb(40,35,35)"
         },
         "mode": "lines",
         "type": "scatter",
         "x": [
          1.9712631422526083,
          4.149682443329831,
          4.149682443329831,
          2.234746501277448
         ],
         "xaxis": "x",
         "y": [
          -2128.125,
          -2128.125,
          -2231.875,
          -2231.875
         ],
         "yaxis": "y"
        },
        {
         "hoverinfo": "text",
         "marker": {
          "color": "rgb(40,35,35)"
         },
         "mode": "lines",
         "type": "scatter",
         "x": [
          4.119067299323034,
          6.084955373979873,
          6.084955373979873,
          4.149682443329831
         ],
         "xaxis": "x",
         "y": [
          -1963.046875,
          -1963.046875,
          -2180,
          -2180
         ],
         "yaxis": "y"
        },
        {
         "hoverinfo": "text",
         "marker": {
          "color": "rgb(40,35,35)"
         },
         "mode": "lines",
         "type": "scatter",
         "x": [
          5.118370691228019,
          8.42093220894443,
          8.42093220894443,
          6.084955373979873
         ],
         "xaxis": "x",
         "y": [
          -1628.046875,
          -1628.046875,
          -2071.5234375,
          -2071.5234375
         ],
         "yaxis": "y"
        },
        {
         "hoverinfo": "text",
         "marker": {
          "color": "rgb(0,116,217)"
         },
         "mode": "lines",
         "type": "scatter",
         "x": [
          7.996224544692022,
          10.827865403548387,
          10.827865403548387,
          8.42093220894443
         ],
         "xaxis": "x",
         "y": [
          -910.224609375,
          -910.224609375,
          -1849.78515625,
          -1849.78515625
         ],
         "yaxis": "y"
        },
        {
         "hoverinfo": "text",
         "marker": {
          "color": "rgb(61,153,112)"
         },
         "mode": "lines",
         "type": "scatter",
         "x": [
          0,
          2.332276546400294,
          2.332276546400294,
          0
         ],
         "xaxis": "x",
         "y": [
          -2355,
          -2355,
          -2365,
          -2365
         ],
         "yaxis": "y"
        },
        {
         "hoverinfo": "text",
         "marker": {
          "color": "rgb(61,153,112)"
         },
         "mode": "lines",
         "type": "scatter",
         "x": [
          0,
          4.144735009883522,
          4.144735009883522,
          2.332276546400294
         ],
         "xaxis": "x",
         "y": [
          -2345,
          -2345,
          -2360,
          -2360
         ],
         "yaxis": "y"
        },
        {
         "hoverinfo": "text",
         "marker": {
          "color": "rgb(255,65,54)"
         },
         "mode": "lines",
         "type": "scatter",
         "x": [
          0,
          1.1928571428571437,
          1.1928571428571437,
          0
         ],
         "xaxis": "x",
         "y": [
          -2385,
          -2385,
          -2395,
          -2395
         ],
         "yaxis": "y"
        },
        {
         "hoverinfo": "text",
         "marker": {
          "color": "rgb(255,65,54)"
         },
         "mode": "lines",
         "type": "scatter",
         "x": [
          0,
          1.3043347912730237,
          1.3043347912730237,
          0
         ],
         "xaxis": "x",
         "y": [
          -2425,
          -2425,
          -2435,
          -2435
         ],
         "yaxis": "y"
        },
        {
         "hoverinfo": "text",
         "marker": {
          "color": "rgb(255,65,54)"
         },
         "mode": "lines",
         "type": "scatter",
         "x": [
          0,
          2.3308141782720466,
          2.3308141782720466,
          1.3043347912730237
         ],
         "xaxis": "x",
         "y": [
          -2415,
          -2415,
          -2430,
          -2430
         ],
         "yaxis": "y"
        },
        {
         "hoverinfo": "text",
         "marker": {
          "color": "rgb(255,65,54)"
         },
         "mode": "lines",
         "type": "scatter",
         "x": [
          0,
          2.611892219992656,
          2.611892219992656,
          2.3308141782720466
         ],
         "xaxis": "x",
         "y": [
          -2405,
          -2405,
          -2422.5,
          -2422.5
         ],
         "yaxis": "y"
        },
        {
         "hoverinfo": "text",
         "marker": {
          "color": "rgb(255,65,54)"
         },
         "mode": "lines",
         "type": "scatter",
         "x": [
          1.1928571428571437,
          4.52886228894363,
          4.52886228894363,
          2.611892219992656
         ],
         "xaxis": "x",
         "y": [
          -2390,
          -2390,
          -2413.75,
          -2413.75
         ],
         "yaxis": "y"
        },
        {
         "hoverinfo": "text",
         "marker": {
          "color": "rgb(255,65,54)"
         },
         "mode": "lines",
         "type": "scatter",
         "x": [
          0,
          5.81562374916369,
          5.81562374916369,
          4.52886228894363
         ],
         "xaxis": "x",
         "y": [
          -2375,
          -2375,
          -2401.875,
          -2401.875
         ],
         "yaxis": "y"
        },
        {
         "hoverinfo": "text",
         "marker": {
          "color": "rgb(0,116,217)"
         },
         "mode": "lines",
         "type": "scatter",
         "x": [
          4.144735009883522,
          12.075519171667368,
          12.075519171667368,
          5.81562374916369
         ],
         "xaxis": "x",
         "y": [
          -2352.5,
          -2352.5,
          -2388.4375,
          -2388.4375
         ],
         "yaxis": "y"
        },
        {
         "hoverinfo": "text",
         "marker": {
          "color": "rgb(0,116,217)"
         },
         "mode": "lines",
         "type": "scatter",
         "x": [
          10.827865403548387,
          14.313946461308074,
          14.313946461308074,
          12.075519171667368
         ],
         "xaxis": "x",
         "y": [
          -1380.0048828125,
          -1380.0048828125,
          -2370.46875,
          -2370.46875
         ],
         "yaxis": "y"
        },
        {
         "hoverinfo": "text",
         "marker": {
          "color": "rgb(35,205,205)"
         },
         "mode": "lines",
         "type": "scatter",
         "x": [
          0,
          0.10000000000000142,
          0.10000000000000142,
          0
         ],
         "xaxis": "x",
         "y": [
          -2455,
          -2455,
          -2465,
          -2465
         ],
         "yaxis": "y"
        },
        {
         "hoverinfo": "text",
         "marker": {
          "color": "rgb(35,205,205)"
         },
         "mode": "lines",
         "type": "scatter",
         "x": [
          0,
          0.3000000000000007,
          0.3000000000000007,
          0.10000000000000142
         ],
         "xaxis": "x",
         "y": [
          -2445,
          -2445,
          -2460,
          -2460
         ],
         "yaxis": "y"
        },
        {
         "hoverinfo": "text",
         "marker": {
          "color": "rgb(35,205,205)"
         },
         "mode": "lines",
         "type": "scatter",
         "x": [
          0,
          1.1452063079161563,
          1.1452063079161563,
          0
         ],
         "xaxis": "x",
         "y": [
          -2475,
          -2475,
          -2485,
          -2485
         ],
         "yaxis": "y"
        },
        {
         "hoverinfo": "text",
         "marker": {
          "color": "rgb(35,205,205)"
         },
         "mode": "lines",
         "type": "scatter",
         "x": [
          0,
          0.34035758956381607,
          0.34035758956381607,
          0
         ],
         "xaxis": "x",
         "y": [
          -2505,
          -2505,
          -2515,
          -2515
         ],
         "yaxis": "y"
        },
        {
         "hoverinfo": "text",
         "marker": {
          "color": "rgb(35,205,205)"
         },
         "mode": "lines",
         "type": "scatter",
         "x": [
          0,
          0.16152165905304408,
          0.16152165905304408,
          0
         ],
         "xaxis": "x",
         "y": [
          -2535,
          -2535,
          -2545,
          -2545
         ],
         "yaxis": "y"
        },
        {
         "hoverinfo": "text",
         "marker": {
          "color": "rgb(35,205,205)"
         },
         "mode": "lines",
         "type": "scatter",
         "x": [
          0,
          0.7472077273122265,
          0.7472077273122265,
          0.16152165905304408
         ],
         "xaxis": "x",
         "y": [
          -2525,
          -2525,
          -2540,
          -2540
         ],
         "yaxis": "y"
        },
        {
         "hoverinfo": "text",
         "marker": {
          "color": "rgb(35,205,205)"
         },
         "mode": "lines",
         "type": "scatter",
         "x": [
          0.34035758956381607,
          0.8078780674759005,
          0.8078780674759005,
          0.7472077273122265
         ],
         "xaxis": "x",
         "y": [
          -2510,
          -2510,
          -2532.5,
          -2532.5
         ],
         "yaxis": "y"
        },
        {
         "hoverinfo": "text",
         "marker": {
          "color": "rgb(35,205,205)"
         },
         "mode": "lines",
         "type": "scatter",
         "x": [
          0,
          1.2584999889639357,
          1.2584999889639357,
          0.8078780674759005
         ],
         "xaxis": "x",
         "y": [
          -2495,
          -2495,
          -2521.25,
          -2521.25
         ],
         "yaxis": "y"
        },
        {
         "hoverinfo": "text",
         "marker": {
          "color": "rgb(35,205,205)"
         },
         "mode": "lines",
         "type": "scatter",
         "x": [
          1.1452063079161563,
          2.2609261654559885,
          2.2609261654559885,
          1.2584999889639357
         ],
         "xaxis": "x",
         "y": [
          -2480,
          -2480,
          -2508.125,
          -2508.125
         ],
         "yaxis": "y"
        },
        {
         "hoverinfo": "text",
         "marker": {
          "color": "rgb(35,205,205)"
         },
         "mode": "lines",
         "type": "scatter",
         "x": [
          0.3000000000000007,
          2.5712080761457243,
          2.5712080761457243,
          2.2609261654559885
         ],
         "xaxis": "x",
         "y": [
          -2452.5,
          -2452.5,
          -2494.0625,
          -2494.0625
         ],
         "yaxis": "y"
        },
        {
         "hoverinfo": "text",
         "marker": {
          "color": "rgb(35,205,205)"
         },
         "mode": "lines",
         "type": "scatter",
         "x": [
          0,
          0.2657484190399299,
          0.2657484190399299,
          0
         ],
         "xaxis": "x",
         "y": [
          -2585,
          -2585,
          -2595,
          -2595
         ],
         "yaxis": "y"
        },
        {
         "hoverinfo": "text",
         "marker": {
          "color": "rgb(35,205,205)"
         },
         "mode": "lines",
         "type": "scatter",
         "x": [
          0,
          0.7825599018605547,
          0.7825599018605547,
          0.2657484190399299
         ],
         "xaxis": "x",
         "y": [
          -2575,
          -2575,
          -2590,
          -2590
         ],
         "yaxis": "y"
        },
        {
         "hoverinfo": "text",
         "marker": {
          "color": "rgb(35,205,205)"
         },
         "mode": "lines",
         "type": "scatter",
         "x": [
          0,
          1.4433756729740626,
          1.4433756729740626,
          0.7825599018605547
         ],
         "xaxis": "x",
         "y": [
          -2565,
          -2565,
          -2582.5,
          -2582.5
         ],
         "yaxis": "y"
        },
        {
         "hoverinfo": "text",
         "marker": {
          "color": "rgb(35,205,205)"
         },
         "mode": "lines",
         "type": "scatter",
         "x": [
          0,
          1.7106723824274468,
          1.7106723824274468,
          1.4433756729740626
         ],
         "xaxis": "x",
         "y": [
          -2555,
          -2555,
          -2573.75,
          -2573.75
         ],
         "yaxis": "y"
        },
        {
         "hoverinfo": "text",
         "marker": {
          "color": "rgb(35,205,205)"
         },
         "mode": "lines",
         "type": "scatter",
         "x": [
          0,
          0.42945954752290666,
          0.42945954752290666,
          0
         ],
         "xaxis": "x",
         "y": [
          -2625,
          -2625,
          -2635,
          -2635
         ],
         "yaxis": "y"
        },
        {
         "hoverinfo": "text",
         "marker": {
          "color": "rgb(35,205,205)"
         },
         "mode": "lines",
         "type": "scatter",
         "x": [
          0,
          0.7704819592848292,
          0.7704819592848292,
          0.42945954752290666
         ],
         "xaxis": "x",
         "y": [
          -2615,
          -2615,
          -2630,
          -2630
         ],
         "yaxis": "y"
        },
        {
         "hoverinfo": "text",
         "marker": {
          "color": "rgb(35,205,205)"
         },
         "mode": "lines",
         "type": "scatter",
         "x": [
          0,
          1.1750085304817302,
          1.1750085304817302,
          0.7704819592848292
         ],
         "xaxis": "x",
         "y": [
          -2605,
          -2605,
          -2622.5,
          -2622.5
         ],
         "yaxis": "y"
        },
        {
         "hoverinfo": "text",
         "marker": {
          "color": "rgb(35,205,205)"
         },
         "mode": "lines",
         "type": "scatter",
         "x": [
          0,
          0.34489206797018673,
          0.34489206797018673,
          0
         ],
         "xaxis": "x",
         "y": [
          -2645,
          -2645,
          -2655,
          -2655
         ],
         "yaxis": "y"
        },
        {
         "hoverinfo": "text",
         "marker": {
          "color": "rgb(35,205,205)"
         },
         "mode": "lines",
         "type": "scatter",
         "x": [
          0,
          0.3976984567483252,
          0.3976984567483252,
          0
         ],
         "xaxis": "x",
         "y": [
          -2665,
          -2665,
          -2675,
          -2675
         ],
         "yaxis": "y"
        },
        {
         "hoverinfo": "text",
         "marker": {
          "color": "rgb(35,205,205)"
         },
         "mode": "lines",
         "type": "scatter",
         "x": [
          0.34489206797018673,
          0.8929659104825572,
          0.8929659104825572,
          0.3976984567483252
         ],
         "xaxis": "x",
         "y": [
          -2650,
          -2650,
          -2670,
          -2670
         ],
         "yaxis": "y"
        },
        {
         "hoverinfo": "text",
         "marker": {
          "color": "rgb(35,205,205)"
         },
         "mode": "lines",
         "type": "scatter",
         "x": [
          0,
          0.15131539988304052,
          0.15131539988304052,
          0
         ],
         "xaxis": "x",
         "y": [
          -2705,
          -2705,
          -2715,
          -2715
         ],
         "yaxis": "y"
        },
        {
         "hoverinfo": "text",
         "marker": {
          "color": "rgb(35,205,205)"
         },
         "mode": "lines",
         "type": "scatter",
         "x": [
          0,
          0.19794790874569243,
          0.19794790874569243,
          0.15131539988304052
         ],
         "xaxis": "x",
         "y": [
          -2695,
          -2695,
          -2710,
          -2710
         ],
         "yaxis": "y"
        },
        {
         "hoverinfo": "text",
         "marker": {
          "color": "rgb(35,205,205)"
         },
         "mode": "lines",
         "type": "scatter",
         "x": [
          0,
          0.1536477091033713,
          0.1536477091033713,
          0
         ],
         "xaxis": "x",
         "y": [
          -2735,
          -2735,
          -2745,
          -2745
         ],
         "yaxis": "y"
        },
        {
         "hoverinfo": "text",
         "marker": {
          "color": "rgb(35,205,205)"
         },
         "mode": "lines",
         "type": "scatter",
         "x": [
          0,
          0.2650927006775661,
          0.2650927006775661,
          0.1536477091033713
         ],
         "xaxis": "x",
         "y": [
          -2725,
          -2725,
          -2740,
          -2740
         ],
         "yaxis": "y"
        },
        {
         "hoverinfo": "text",
         "marker": {
          "color": "rgb(35,205,205)"
         },
         "mode": "lines",
         "type": "scatter",
         "x": [
          0.19794790874569243,
          0.502073997366906,
          0.502073997366906,
          0.2650927006775661
         ],
         "xaxis": "x",
         "y": [
          -2702.5,
          -2702.5,
          -2732.5,
          -2732.5
         ],
         "yaxis": "y"
        },
        {
         "hoverinfo": "text",
         "marker": {
          "color": "rgb(35,205,205)"
         },
         "mode": "lines",
         "type": "scatter",
         "x": [
          0,
          1.124192687453715,
          1.124192687453715,
          0.502073997366906
         ],
         "xaxis": "x",
         "y": [
          -2685,
          -2685,
          -2717.5,
          -2717.5
         ],
         "yaxis": "y"
        },
        {
         "hoverinfo": "text",
         "marker": {
          "color": "rgb(35,205,205)"
         },
         "mode": "lines",
         "type": "scatter",
         "x": [
          0.8929659104825572,
          1.6203131620146345,
          1.6203131620146345,
          1.124192687453715
         ],
         "xaxis": "x",
         "y": [
          -2660,
          -2660,
          -2701.25,
          -2701.25
         ],
         "yaxis": "y"
        },
        {
         "hoverinfo": "text",
         "marker": {
          "color": "rgb(35,205,205)"
         },
         "mode": "lines",
         "type": "scatter",
         "x": [
          1.1750085304817302,
          2.3995345949140523,
          2.3995345949140523,
          1.6203131620146345
         ],
         "xaxis": "x",
         "y": [
          -2613.75,
          -2613.75,
          -2680.625,
          -2680.625
         ],
         "yaxis": "y"
        },
        {
         "hoverinfo": "text",
         "marker": {
          "color": "rgb(35,205,205)"
         },
         "mode": "lines",
         "type": "scatter",
         "x": [
          1.7106723824274468,
          3.9100323962198935,
          3.9100323962198935,
          2.3995345949140523
         ],
         "xaxis": "x",
         "y": [
          -2564.375,
          -2564.375,
          -2647.1875,
          -2647.1875
         ],
         "yaxis": "y"
        },
        {
         "hoverinfo": "text",
         "marker": {
          "color": "rgb(35,205,205)"
         },
         "mode": "lines",
         "type": "scatter",
         "x": [
          2.5712080761457243,
          4.278188053476856,
          4.278188053476856,
          3.9100323962198935
         ],
         "xaxis": "x",
         "y": [
          -2473.28125,
          -2473.28125,
          -2605.78125,
          -2605.78125
         ],
         "yaxis": "y"
        },
        {
         "hoverinfo": "text",
         "marker": {
          "color": "rgb(35,205,205)"
         },
         "mode": "lines",
         "type": "scatter",
         "x": [
          0,
          0.544609476201685,
          0.544609476201685,
          0
         ],
         "xaxis": "x",
         "y": [
          -2755,
          -2755,
          -2765,
          -2765
         ],
         "yaxis": "y"
        },
        {
         "hoverinfo": "text",
         "marker": {
          "color": "rgb(35,205,205)"
         },
         "mode": "lines",
         "type": "scatter",
         "x": [
          0,
          0.3296477487029719,
          0.3296477487029719,
          0
         ],
         "xaxis": "x",
         "y": [
          -2785,
          -2785,
          -2795,
          -2795
         ],
         "yaxis": "y"
        },
        {
         "hoverinfo": "text",
         "marker": {
          "color": "rgb(35,205,205)"
         },
         "mode": "lines",
         "type": "scatter",
         "x": [
          0,
          0.6473601843330027,
          0.6473601843330027,
          0.3296477487029719
         ],
         "xaxis": "x",
         "y": [
          -2775,
          -2775,
          -2790,
          -2790
         ],
         "yaxis": "y"
        },
        {
         "hoverinfo": "text",
         "marker": {
          "color": "rgb(35,205,205)"
         },
         "mode": "lines",
         "type": "scatter",
         "x": [
          0.544609476201685,
          1.3855540577019838,
          1.3855540577019838,
          0.6473601843330027
         ],
         "xaxis": "x",
         "y": [
          -2760,
          -2760,
          -2782.5,
          -2782.5
         ],
         "yaxis": "y"
        },
        {
         "hoverinfo": "text",
         "marker": {
          "color": "rgb(35,205,205)"
         },
         "mode": "lines",
         "type": "scatter",
         "x": [
          0,
          0.5707323887722067,
          0.5707323887722067,
          0
         ],
         "xaxis": "x",
         "y": [
          -2805,
          -2805,
          -2815,
          -2815
         ],
         "yaxis": "y"
        },
        {
         "hoverinfo": "text",
         "marker": {
          "color": "rgb(35,205,205)"
         },
         "mode": "lines",
         "type": "scatter",
         "x": [
          0,
          0.13225925270254435,
          0.13225925270254435,
          0
         ],
         "xaxis": "x",
         "y": [
          -2835,
          -2835,
          -2845,
          -2845
         ],
         "yaxis": "y"
        },
        {
         "hoverinfo": "text",
         "marker": {
          "color": "rgb(35,205,205)"
         },
         "mode": "lines",
         "type": "scatter",
         "x": [
          0,
          0.17423369864361338,
          0.17423369864361338,
          0.13225925270254435
         ],
         "xaxis": "x",
         "y": [
          -2825,
          -2825,
          -2840,
          -2840
         ],
         "yaxis": "y"
        },
        {
         "hoverinfo": "text",
         "marker": {
          "color": "rgb(35,205,205)"
         },
         "mode": "lines",
         "type": "scatter",
         "x": [
          0,
          0.11723082397018837,
          0.11723082397018837,
          0
         ],
         "xaxis": "x",
         "y": [
          -2855,
          -2855,
          -2865,
          -2865
         ],
         "yaxis": "y"
        },
        {
         "hoverinfo": "text",
         "marker": {
          "color": "rgb(35,205,205)"
         },
         "mode": "lines",
         "type": "scatter",
         "x": [
          0,
          0.20004739170869426,
          0.20004739170869426,
          0
         ],
         "xaxis": "x",
         "y": [
          -2875,
          -2875,
          -2885,
          -2885
         ],
         "yaxis": "y"
        },
        {
         "hoverinfo": "text",
         "marker": {
          "color": "rgb(35,205,205)"
         },
         "mode": "lines",
         "type": "scatter",
         "x": [
          0.11723082397018837,
          0.4429214170110784,
          0.4429214170110784,
          0.20004739170869426
         ],
         "xaxis": "x",
         "y": [
          -2860,
          -2860,
          -2880,
          -2880
         ],
         "yaxis": "y"
        },
        {
         "hoverinfo": "text",
         "marker": {
          "color": "rgb(35,205,205)"
         },
         "mode": "lines",
         "type": "scatter",
         "x": [
          0.17423369864361338,
          0.7360784573761322,
          0.7360784573761322,
          0.4429214170110784
         ],
         "xaxis": "x",
         "y": [
          -2832.5,
          -2832.5,
          -2870,
          -2870
         ],
         "yaxis": "y"
        },
        {
         "hoverinfo": "text",
         "marker": {
          "color": "rgb(35,205,205)"
         },
         "mode": "lines",
         "type": "scatter",
         "x": [
          0.5707323887722067,
          1.423279421291971,
          1.423279421291971,
          0.7360784573761322
         ],
         "xaxis": "x",
         "y": [
          -2810,
          -2810,
          -2851.25,
          -2851.25
         ],
         "yaxis": "y"
        },
        {
         "hoverinfo": "text",
         "marker": {
          "color": "rgb(35,205,205)"
         },
         "mode": "lines",
         "type": "scatter",
         "x": [
          1.3855540577019838,
          2.2272810996731125,
          2.2272810996731125,
          1.423279421291971
         ],
         "xaxis": "x",
         "y": [
          -2771.25,
          -2771.25,
          -2830.625,
          -2830.625
         ],
         "yaxis": "y"
        },
        {
         "hoverinfo": "text",
         "marker": {
          "color": "rgb(35,205,205)"
         },
         "mode": "lines",
         "type": "scatter",
         "x": [
          0,
          0.3149907747562112,
          0.3149907747562112,
          0
         ],
         "xaxis": "x",
         "y": [
          -2905,
          -2905,
          -2915,
          -2915
         ],
         "yaxis": "y"
        },
        {
         "hoverinfo": "text",
         "marker": {
          "color": "rgb(35,205,205)"
         },
         "mode": "lines",
         "type": "scatter",
         "x": [
          0,
          0.7296974395412605,
          0.7296974395412605,
          0.3149907747562112
         ],
         "xaxis": "x",
         "y": [
          -2895,
          -2895,
          -2910,
          -2910
         ],
         "yaxis": "y"
        },
        {
         "hoverinfo": "text",
         "marker": {
          "color": "rgb(35,205,205)"
         },
         "mode": "lines",
         "type": "scatter",
         "x": [
          0,
          0.21204465777301465,
          0.21204465777301465,
          0
         ],
         "xaxis": "x",
         "y": [
          -2935,
          -2935,
          -2945,
          -2945
         ],
         "yaxis": "y"
        },
        {
         "hoverinfo": "text",
         "marker": {
          "color": "rgb(35,205,205)"
         },
         "mode": "lines",
         "type": "scatter",
         "x": [
          0,
          0.7779069864153997,
          0.7779069864153997,
          0.21204465777301465
         ],
         "xaxis": "x",
         "y": [
          -2925,
          -2925,
          -2940,
          -2940
         ],
         "yaxis": "y"
        },
        {
         "hoverinfo": "text",
         "marker": {
          "color": "rgb(35,205,205)"
         },
         "mode": "lines",
         "type": "scatter",
         "x": [
          0.7296974395412605,
          1.30870503185873,
          1.30870503185873,
          0.7779069864153997
         ],
         "xaxis": "x",
         "y": [
          -2902.5,
          -2902.5,
          -2932.5,
          -2932.5
         ],
         "yaxis": "y"
        },
        {
         "hoverinfo": "text",
         "marker": {
          "color": "rgb(35,205,205)"
         },
         "mode": "lines",
         "type": "scatter",
         "x": [
          0,
          0.48785120469645016,
          0.48785120469645016,
          0
         ],
         "xaxis": "x",
         "y": [
          -2955,
          -2955,
          -2965,
          -2965
         ],
         "yaxis": "y"
        },
        {
         "hoverinfo": "text",
         "marker": {
          "color": "rgb(35,205,205)"
         },
         "mode": "lines",
         "type": "scatter",
         "x": [
          0,
          0.10145425163693776,
          0.10145425163693776,
          0
         ],
         "xaxis": "x",
         "y": [
          -2985,
          -2985,
          -2995,
          -2995
         ],
         "yaxis": "y"
        },
        {
         "hoverinfo": "text",
         "marker": {
          "color": "rgb(35,205,205)"
         },
         "mode": "lines",
         "type": "scatter",
         "x": [
          0,
          0.4585984547147685,
          0.4585984547147685,
          0.10145425163693776
         ],
         "xaxis": "x",
         "y": [
          -2975,
          -2975,
          -2990,
          -2990
         ],
         "yaxis": "y"
        },
        {
         "hoverinfo": "text",
         "marker": {
          "color": "rgb(35,205,205)"
         },
         "mode": "lines",
         "type": "scatter",
         "x": [
          0,
          0.22736082099798655,
          0.22736082099798655,
          0
         ],
         "xaxis": "x",
         "y": [
          -3005,
          -3005,
          -3015,
          -3015
         ],
         "yaxis": "y"
        },
        {
         "hoverinfo": "text",
         "marker": {
          "color": "rgb(35,205,205)"
         },
         "mode": "lines",
         "type": "scatter",
         "x": [
          0,
          0.2067328557766298,
          0.2067328557766298,
          0
         ],
         "xaxis": "x",
         "y": [
          -3025,
          -3025,
          -3035,
          -3035
         ],
         "yaxis": "y"
        },
        {
         "hoverinfo": "text",
         "marker": {
          "color": "rgb(35,205,205)"
         },
         "mode": "lines",
         "type": "scatter",
         "x": [
          0,
          0.40296466862453106,
          0.40296466862453106,
          0
         ],
         "xaxis": "x",
         "y": [
          -3045,
          -3045,
          -3055,
          -3055
         ],
         "yaxis": "y"
        },
        {
         "hoverinfo": "text",
         "marker": {
          "color": "rgb(35,205,205)"
         },
         "mode": "lines",
         "type": "scatter",
         "x": [
          0.2067328557766298,
          0.6584637832846738,
          0.6584637832846738,
          0.40296466862453106
         ],
         "xaxis": "x",
         "y": [
          -3030,
          -3030,
          -3050,
          -3050
         ],
         "yaxis": "y"
        },
        {
         "hoverinfo": "text",
         "marker": {
          "color": "rgb(35,205,205)"
         },
         "mode": "lines",
         "type": "scatter",
         "x": [
          0.22736082099798655,
          0.9530753954775943,
          0.9530753954775943,
          0.6584637832846738
         ],
         "xaxis": "x",
         "y": [
          -3010,
          -3010,
          -3040,
          -3040
         ],
         "yaxis": "y"
        },
        {
         "hoverinfo": "text",
         "marker": {
          "color": "rgb(35,205,205)"
         },
         "mode": "lines",
         "type": "scatter",
         "x": [
          0.4585984547147685,
          1.18482959980618,
          1.18482959980618,
          0.9530753954775943
         ],
         "xaxis": "x",
         "y": [
          -2982.5,
          -2982.5,
          -3025,
          -3025
         ],
         "yaxis": "y"
        },
        {
         "hoverinfo": "text",
         "marker": {
          "color": "rgb(35,205,205)"
         },
         "mode": "lines",
         "type": "scatter",
         "x": [
          0.48785120469645016,
          1.3359764864947592,
          1.3359764864947592,
          1.18482959980618
         ],
         "xaxis": "x",
         "y": [
          -2960,
          -2960,
          -3003.75,
          -3003.75
         ],
         "yaxis": "y"
        },
        {
         "hoverinfo": "text",
         "marker": {
          "color": "rgb(35,205,205)"
         },
         "mode": "lines",
         "type": "scatter",
         "x": [
          1.30870503185873,
          2.366421210196426,
          2.366421210196426,
          1.3359764864947592
         ],
         "xaxis": "x",
         "y": [
          -2917.5,
          -2917.5,
          -2981.875,
          -2981.875
         ],
         "yaxis": "y"
        },
        {
         "hoverinfo": "text",
         "marker": {
          "color": "rgb(35,205,205)"
         },
         "mode": "lines",
         "type": "scatter",
         "x": [
          2.2272810996731125,
          3.25627261194151,
          3.25627261194151,
          2.366421210196426
         ],
         "xaxis": "x",
         "y": [
          -2800.9375,
          -2800.9375,
          -2949.6875,
          -2949.6875
         ],
         "yaxis": "y"
        },
        {
         "hoverinfo": "text",
         "marker": {
          "color": "rgb(35,205,205)"
         },
         "mode": "lines",
         "type": "scatter",
         "x": [
          0,
          0.412214338854223,
          0.412214338854223,
          0
         ],
         "xaxis": "x",
         "y": [
          -3075,
          -3075,
          -3085,
          -3085
         ],
         "yaxis": "y"
        },
        {
         "hoverinfo": "text",
         "marker": {
          "color": "rgb(35,205,205)"
         },
         "mode": "lines",
         "type": "scatter",
         "x": [
          0,
          1.007022972067761,
          1.007022972067761,
          0.412214338854223
         ],
         "xaxis": "x",
         "y": [
          -3065,
          -3065,
          -3080,
          -3080
         ],
         "yaxis": "y"
        },
        {
         "hoverinfo": "text",
         "marker": {
          "color": "rgb(35,205,205)"
         },
         "mode": "lines",
         "type": "scatter",
         "x": [
          0,
          0.556306109617329,
          0.556306109617329,
          0
         ],
         "xaxis": "x",
         "y": [
          -3095,
          -3095,
          -3105,
          -3105
         ],
         "yaxis": "y"
        },
        {
         "hoverinfo": "text",
         "marker": {
          "color": "rgb(35,205,205)"
         },
         "mode": "lines",
         "type": "scatter",
         "x": [
          0,
          0.22321980820618134,
          0.22321980820618134,
          0
         ],
         "xaxis": "x",
         "y": [
          -3135,
          -3135,
          -3145,
          -3145
         ],
         "yaxis": "y"
        },
        {
         "hoverinfo": "text",
         "marker": {
          "color": "rgb(35,205,205)"
         },
         "mode": "lines",
         "type": "scatter",
         "x": [
          0,
          0.3525654141793745,
          0.3525654141793745,
          0.22321980820618134
         ],
         "xaxis": "x",
         "y": [
          -3125,
          -3125,
          -3140,
          -3140
         ],
         "yaxis": "y"
        },
        {
         "hoverinfo": "text",
         "marker": {
          "color": "rgb(35,205,205)"
         },
         "mode": "lines",
         "type": "scatter",
         "x": [
          0,
          0.643600292419086,
          0.643600292419086,
          0.3525654141793745
         ],
         "xaxis": "x",
         "y": [
          -3115,
          -3115,
          -3132.5,
          -3132.5
         ],
         "yaxis": "y"
        },
        {
         "hoverinfo": "text",
         "marker": {
          "color": "rgb(35,205,205)"
         },
         "mode": "lines",
         "type": "scatter",
         "x": [
          0.556306109617329,
          1.2309962119472042,
          1.2309962119472042,
          0.643600292419086
         ],
         "xaxis": "x",
         "y": [
          -3100,
          -3100,
          -3123.75,
          -3123.75
         ],
         "yaxis": "y"
        },
        {
         "hoverinfo": "text",
         "marker": {
          "color": "rgb(35,205,205)"
         },
         "mode": "lines",
         "type": "scatter",
         "x": [
          1.007022972067761,
          1.9232899012684812,
          1.9232899012684812,
          1.2309962119472042
         ],
         "xaxis": "x",
         "y": [
          -3072.5,
          -3072.5,
          -3111.875,
          -3111.875
         ],
         "yaxis": "y"
        },
        {
         "hoverinfo": "text",
         "marker": {
          "color": "rgb(35,205,205)"
         },
         "mode": "lines",
         "type": "scatter",
         "x": [
          0,
          0.15650464673884434,
          0.15650464673884434,
          0
         ],
         "xaxis": "x",
         "y": [
          -3165,
          -3165,
          -3175,
          -3175
         ],
         "yaxis": "y"
        },
        {
         "hoverinfo": "text",
         "marker": {
          "color": "rgb(35,205,205)"
         },
         "mode": "lines",
         "type": "scatter",
         "x": [
          0,
          0.7668630949933873,
          0.7668630949933873,
          0.15650464673884434
         ],
         "xaxis": "x",
         "y": [
          -3155,
          -3155,
          -3170,
          -3170
         ],
         "yaxis": "y"
        },
        {
         "hoverinfo": "text",
         "marker": {
          "color": "rgb(35,205,205)"
         },
         "mode": "lines",
         "type": "scatter",
         "x": [
          0,
          0.47159068931067555,
          0.47159068931067555,
          0
         ],
         "xaxis": "x",
         "y": [
          -3195,
          -3195,
          -3205,
          -3205
         ],
         "yaxis": "y"
        },
        {
         "hoverinfo": "text",
         "marker": {
          "color": "rgb(35,205,205)"
         },
         "mode": "lines",
         "type": "scatter",
         "x": [
          0,
          0.25848820241503256,
          0.25848820241503256,
          0
         ],
         "xaxis": "x",
         "y": [
          -3225,
          -3225,
          -3235,
          -3235
         ],
         "yaxis": "y"
        },
        {
         "hoverinfo": "text",
         "marker": {
          "color": "rgb(35,205,205)"
         },
         "mode": "lines",
         "type": "scatter",
         "x": [
          0,
          0.761749927620247,
          0.761749927620247,
          0.25848820241503256
         ],
         "xaxis": "x",
         "y": [
          -3215,
          -3215,
          -3230,
          -3230
         ],
         "yaxis": "y"
        },
        {
         "hoverinfo": "text",
         "marker": {
          "color": "rgb(35,205,205)"
         },
         "mode": "lines",
         "type": "scatter",
         "x": [
          0.47159068931067555,
          1.2758508190615403,
          1.2758508190615403,
          0.761749927620247
         ],
         "xaxis": "x",
         "y": [
          -3200,
          -3200,
          -3222.5,
          -3222.5
         ],
         "yaxis": "y"
        },
        {
         "hoverinfo": "text",
         "marker": {
          "color": "rgb(35,205,205)"
         },
         "mode": "lines",
         "type": "scatter",
         "x": [
          0,
          1.6567687866748406,
          1.6567687866748406,
          1.2758508190615403
         ],
         "xaxis": "x",
         "y": [
          -3185,
          -3185,
          -3211.25,
          -3211.25
         ],
         "yaxis": "y"
        },
        {
         "hoverinfo": "text",
         "marker": {
          "color": "rgb(35,205,205)"
         },
         "mode": "lines",
         "type": "scatter",
         "x": [
          0.7668630949933873,
          2.5247987386823265,
          2.5247987386823265,
          1.6567687866748406
         ],
         "xaxis": "x",
         "y": [
          -3162.5,
          -3162.5,
          -3198.125,
          -3198.125
         ],
         "yaxis": "y"
        },
        {
         "hoverinfo": "text",
         "marker": {
          "color": "rgb(35,205,205)"
         },
         "mode": "lines",
         "type": "scatter",
         "x": [
          1.9232899012684812,
          3.3407314966843504,
          3.3407314966843504,
          2.5247987386823265
         ],
         "xaxis": "x",
         "y": [
          -3092.1875,
          -3092.1875,
          -3180.3125,
          -3180.3125
         ],
         "yaxis": "y"
        },
        {
         "hoverinfo": "text",
         "marker": {
          "color": "rgb(35,205,205)"
         },
         "mode": "lines",
         "type": "scatter",
         "x": [
          3.25627261194151,
          4.838105401994663,
          4.838105401994663,
          3.3407314966843504
         ],
         "xaxis": "x",
         "y": [
          -2875.3125,
          -2875.3125,
          -3136.25,
          -3136.25
         ],
         "yaxis": "y"
        },
        {
         "hoverinfo": "text",
         "marker": {
          "color": "rgb(35,205,205)"
         },
         "mode": "lines",
         "type": "scatter",
         "x": [
          4.278188053476856,
          6.811167640153109,
          6.811167640153109,
          4.838105401994663
         ],
         "xaxis": "x",
         "y": [
          -2539.53125,
          -2539.53125,
          -3005.78125,
          -3005.78125
         ],
         "yaxis": "y"
        },
        {
         "hoverinfo": "text",
         "marker": {
          "color": "rgb(61,153,112)"
         },
         "mode": "lines",
         "type": "scatter",
         "x": [
          0,
          0.7105499630567877,
          0.7105499630567877,
          0
         ],
         "xaxis": "x",
         "y": [
          -3265,
          -3265,
          -3275,
          -3275
         ],
         "yaxis": "y"
        },
        {
         "hoverinfo": "text",
         "marker": {
          "color": "rgb(61,153,112)"
         },
         "mode": "lines",
         "type": "scatter",
         "x": [
          0,
          1.3904728493579064,
          1.3904728493579064,
          0.7105499630567877
         ],
         "xaxis": "x",
         "y": [
          -3255,
          -3255,
          -3270,
          -3270
         ],
         "yaxis": "y"
        },
        {
         "hoverinfo": "text",
         "marker": {
          "color": "rgb(61,153,112)"
         },
         "mode": "lines",
         "type": "scatter",
         "x": [
          0,
          2.4478775704421905,
          2.4478775704421905,
          1.3904728493579064
         ],
         "xaxis": "x",
         "y": [
          -3245,
          -3245,
          -3262.5,
          -3262.5
         ],
         "yaxis": "y"
        },
        {
         "hoverinfo": "text",
         "marker": {
          "color": "rgb(61,153,112)"
         },
         "mode": "lines",
         "type": "scatter",
         "x": [
          0,
          1.2413167794478464,
          1.2413167794478464,
          0
         ],
         "xaxis": "x",
         "y": [
          -3315,
          -3315,
          -3325,
          -3325
         ],
         "yaxis": "y"
        },
        {
         "hoverinfo": "text",
         "marker": {
          "color": "rgb(61,153,112)"
         },
         "mode": "lines",
         "type": "scatter",
         "x": [
          0,
          1.3527291055706043,
          1.3527291055706043,
          1.2413167794478464
         ],
         "xaxis": "x",
         "y": [
          -3305,
          -3305,
          -3320,
          -3320
         ],
         "yaxis": "y"
        },
        {
         "hoverinfo": "text",
         "marker": {
          "color": "rgb(61,153,112)"
         },
         "mode": "lines",
         "type": "scatter",
         "x": [
          0,
          2.535574678820767,
          2.535574678820767,
          1.3527291055706043
         ],
         "xaxis": "x",
         "y": [
          -3295,
          -3295,
          -3312.5,
          -3312.5
         ],
         "yaxis": "y"
        },
        {
         "hoverinfo": "text",
         "marker": {
          "color": "rgb(61,153,112)"
         },
         "mode": "lines",
         "type": "scatter",
         "x": [
          0,
          3.055188109219473,
          3.055188109219473,
          2.535574678820767
         ],
         "xaxis": "x",
         "y": [
          -3285,
          -3285,
          -3303.75,
          -3303.75
         ],
         "yaxis": "y"
        },
        {
         "hoverinfo": "text",
         "marker": {
          "color": "rgb(61,153,112)"
         },
         "mode": "lines",
         "type": "scatter",
         "x": [
          2.4478775704421905,
          4.892684651113141,
          4.892684651113141,
          3.055188109219473
         ],
         "xaxis": "x",
         "y": [
          -3253.75,
          -3253.75,
          -3294.375,
          -3294.375
         ],
         "yaxis": "y"
        },
        {
         "hoverinfo": "text",
         "marker": {
          "color": "rgb(61,153,112)"
         },
         "mode": "lines",
         "type": "scatter",
         "x": [
          0,
          0.4088798302074796,
          0.4088798302074796,
          0
         ],
         "xaxis": "x",
         "y": [
          -3335,
          -3335,
          -3345,
          -3345
         ],
         "yaxis": "y"
        },
        {
         "hoverinfo": "text",
         "marker": {
          "color": "rgb(61,153,112)"
         },
         "mode": "lines",
         "type": "scatter",
         "x": [
          0,
          0.425211945152578,
          0.425211945152578,
          0
         ],
         "xaxis": "x",
         "y": [
          -3355,
          -3355,
          -3365,
          -3365
         ],
         "yaxis": "y"
        },
        {
         "hoverinfo": "text",
         "marker": {
          "color": "rgb(61,153,112)"
         },
         "mode": "lines",
         "type": "scatter",
         "x": [
          0.4088798302074796,
          1.3832260535438774,
          1.3832260535438774,
          0.425211945152578
         ],
         "xaxis": "x",
         "y": [
          -3340,
          -3340,
          -3360,
          -3360
         ],
         "yaxis": "y"
        },
        {
         "hoverinfo": "text",
         "marker": {
          "color": "rgb(61,153,112)"
         },
         "mode": "lines",
         "type": "scatter",
         "x": [
          0,
          0.29562026362626254,
          0.29562026362626254,
          0
         ],
         "xaxis": "x",
         "y": [
          -3395,
          -3395,
          -3405,
          -3405
         ],
         "yaxis": "y"
        },
        {
         "hoverinfo": "text",
         "marker": {
          "color": "rgb(61,153,112)"
         },
         "mode": "lines",
         "type": "scatter",
         "x": [
          0,
          0.7210470933121944,
          0.7210470933121944,
          0.29562026362626254
         ],
         "xaxis": "x",
         "y": [
          -3385,
          -3385,
          -3400,
          -3400
         ],
         "yaxis": "y"
        },
        {
         "hoverinfo": "text",
         "marker": {
          "color": "rgb(61,153,112)"
         },
         "mode": "lines",
         "type": "scatter",
         "x": [
          0,
          1.212171497647754,
          1.212171497647754,
          0.7210470933121944
         ],
         "xaxis": "x",
         "y": [
          -3375,
          -3375,
          -3392.5,
          -3392.5
         ],
         "yaxis": "y"
        },
        {
         "hoverinfo": "text",
         "marker": {
          "color": "rgb(61,153,112)"
         },
         "mode": "lines",
         "type": "scatter",
         "x": [
          0,
          0.5091414341811112,
          0.5091414341811112,
          0
         ],
         "xaxis": "x",
         "y": [
          -3415,
          -3415,
          -3425,
          -3425
         ],
         "yaxis": "y"
        },
        {
         "hoverinfo": "text",
         "marker": {
          "color": "rgb(61,153,112)"
         },
         "mode": "lines",
         "type": "scatter",
         "x": [
          0,
          0.7485439297725736,
          0.7485439297725736,
          0
         ],
         "xaxis": "x",
         "y": [
          -3435,
          -3435,
          -3445,
          -3445
         ],
         "yaxis": "y"
        },
        {
         "hoverinfo": "text",
         "marker": {
          "color": "rgb(61,153,112)"
         },
         "mode": "lines",
         "type": "scatter",
         "x": [
          0.5091414341811112,
          1.9976206254059725,
          1.9976206254059725,
          0.7485439297725736
         ],
         "xaxis": "x",
         "y": [
          -3420,
          -3420,
          -3440,
          -3440
         ],
         "yaxis": "y"
        },
        {
         "hoverinfo": "text",
         "marker": {
          "color": "rgb(61,153,112)"
         },
         "mode": "lines",
         "type": "scatter",
         "x": [
          1.212171497647754,
          2.1009455917045505,
          2.1009455917045505,
          1.9976206254059725
         ],
         "xaxis": "x",
         "y": [
          -3383.75,
          -3383.75,
          -3430,
          -3430
         ],
         "yaxis": "y"
        },
        {
         "hoverinfo": "text",
         "marker": {
          "color": "rgb(61,153,112)"
         },
         "mode": "lines",
         "type": "scatter",
         "x": [
          1.3832260535438774,
          2.676371433861419,
          2.676371433861419,
          2.1009455917045505
         ],
         "xaxis": "x",
         "y": [
          -3350,
          -3350,
          -3406.875,
          -3406.875
         ],
         "yaxis": "y"
        },
        {
         "hoverinfo": "text",
         "marker": {
          "color": "rgb(61,153,112)"
         },
         "mode": "lines",
         "type": "scatter",
         "x": [
          0,
          0.5944840872746935,
          0.5944840872746935,
          0
         ],
         "xaxis": "x",
         "y": [
          -3455,
          -3455,
          -3465,
          -3465
         ],
         "yaxis": "y"
        },
        {
         "hoverinfo": "text",
         "marker": {
          "color": "rgb(61,153,112)"
         },
         "mode": "lines",
         "type": "scatter",
         "x": [
          0,
          0.16667517520107028,
          0.16667517520107028,
          0
         ],
         "xaxis": "x",
         "y": [
          -3505,
          -3505,
          -3515,
          -3515
         ],
         "yaxis": "y"
        },
        {
         "hoverinfo": "text",
         "marker": {
          "color": "rgb(61,153,112)"
         },
         "mode": "lines",
         "type": "scatter",
         "x": [
          0,
          0.34496116665897236,
          0.34496116665897236,
          0.16667517520107028
         ],
         "xaxis": "x",
         "y": [
          -3495,
          -3495,
          -3510,
          -3510
         ],
         "yaxis": "y"
        },
        {
         "hoverinfo": "text",
         "marker": {
          "color": "rgb(61,153,112)"
         },
         "mode": "lines",
         "type": "scatter",
         "x": [
          0,
          0.5145045052809308,
          0.5145045052809308,
          0.34496116665897236
         ],
         "xaxis": "x",
         "y": [
          -3485,
          -3485,
          -3502.5,
          -3502.5
         ],
         "yaxis": "y"
        },
        {
         "hoverinfo": "text",
         "marker": {
          "color": "rgb(61,153,112)"
         },
         "mode": "lines",
         "type": "scatter",
         "x": [
          0,
          1.1974196459068631,
          1.1974196459068631,
          0.5145045052809308
         ],
         "xaxis": "x",
         "y": [
          -3475,
          -3475,
          -3493.75,
          -3493.75
         ],
         "yaxis": "y"
        },
        {
         "hoverinfo": "text",
         "marker": {
          "color": "rgb(61,153,112)"
         },
         "mode": "lines",
         "type": "scatter",
         "x": [
          0.5944840872746935,
          1.4968703841041189,
          1.4968703841041189,
          1.1974196459068631
         ],
         "xaxis": "x",
         "y": [
          -3460,
          -3460,
          -3484.375,
          -3484.375
         ],
         "yaxis": "y"
        },
        {
         "hoverinfo": "text",
         "marker": {
          "color": "rgb(61,153,112)"
         },
         "mode": "lines",
         "type": "scatter",
         "x": [
          0,
          0.12106488614617358,
          0.12106488614617358,
          0
         ],
         "xaxis": "x",
         "y": [
          -3535,
          -3535,
          -3545,
          -3545
         ],
         "yaxis": "y"
        },
        {
         "hoverinfo": "text",
         "marker": {
          "color": "rgb(61,153,112)"
         },
         "mode": "lines",
         "type": "scatter",
         "x": [
          0,
          0.12284140459160497,
          0.12284140459160497,
          0
         ],
         "xaxis": "x",
         "y": [
          -3555,
          -3555,
          -3565,
          -3565
         ],
         "yaxis": "y"
        },
        {
         "hoverinfo": "text",
         "marker": {
          "color": "rgb(61,153,112)"
         },
         "mode": "lines",
         "type": "scatter",
         "x": [
          0.12106488614617358,
          0.24086847201404862,
          0.24086847201404862,
          0.12284140459160497
         ],
         "xaxis": "x",
         "y": [
          -3540,
          -3540,
          -3560,
          -3560
         ],
         "yaxis": "y"
        },
        {
         "hoverinfo": "text",
         "marker": {
          "color": "rgb(61,153,112)"
         },
         "mode": "lines",
         "type": "scatter",
         "x": [
          0,
          0.4029524296654088,
          0.4029524296654088,
          0.24086847201404862
         ],
         "xaxis": "x",
         "y": [
          -3525,
          -3525,
          -3550,
          -3550
         ],
         "yaxis": "y"
        },
        {
         "hoverinfo": "text",
         "marker": {
          "color": "rgb(61,153,112)"
         },
         "mode": "lines",
         "type": "scatter",
         "x": [
          0,
          0.1413829423570217,
          0.1413829423570217,
          0
         ],
         "xaxis": "x",
         "y": [
          -3585,
          -3585,
          -3595,
          -3595
         ],
         "yaxis": "y"
        },
        {
         "hoverinfo": "text",
         "marker": {
          "color": "rgb(61,153,112)"
         },
         "mode": "lines",
         "type": "scatter",
         "x": [
          0,
          0.2420714387750756,
          0.2420714387750756,
          0.1413829423570217
         ],
         "xaxis": "x",
         "y": [
          -3575,
          -3575,
          -3590,
          -3590
         ],
         "yaxis": "y"
        },
        {
         "hoverinfo": "text",
         "marker": {
          "color": "rgb(61,153,112)"
         },
         "mode": "lines",
         "type": "scatter",
         "x": [
          0,
          0.45480375337139894,
          0.45480375337139894,
          0
         ],
         "xaxis": "x",
         "y": [
          -3605,
          -3605,
          -3615,
          -3615
         ],
         "yaxis": "y"
        },
        {
         "hoverinfo": "text",
         "marker": {
          "color": "rgb(61,153,112)"
         },
         "mode": "lines",
         "type": "scatter",
         "x": [
          0.2420714387750756,
          0.7428946353400987,
          0.7428946353400987,
          0.45480375337139894
         ],
         "xaxis": "x",
         "y": [
          -3582.5,
          -3582.5,
          -3610,
          -3610
         ],
         "yaxis": "y"
        },
        {
         "hoverinfo": "text",
         "marker": {
          "color": "rgb(61,153,112)"
         },
         "mode": "lines",
         "type": "scatter",
         "x": [
          0.4029524296654088,
          0.9075963505191138,
          0.9075963505191138,
          0.7428946353400987
         ],
         "xaxis": "x",
         "y": [
          -3537.5,
          -3537.5,
          -3596.25,
          -3596.25
         ],
         "yaxis": "y"
        },
        {
         "hoverinfo": "text",
         "marker": {
          "color": "rgb(61,153,112)"
         },
         "mode": "lines",
         "type": "scatter",
         "x": [
          0,
          0.3008817452824339,
          0.3008817452824339,
          0
         ],
         "xaxis": "x",
         "y": [
          -3635,
          -3635,
          -3645,
          -3645
         ],
         "yaxis": "y"
        },
        {
         "hoverinfo": "text",
         "marker": {
          "color": "rgb(61,153,112)"
         },
         "mode": "lines",
         "type": "scatter",
         "x": [
          0,
          0.581651451768071,
          0.581651451768071,
          0.3008817452824339
         ],
         "xaxis": "x",
         "y": [
          -3625,
          -3625,
          -3640,
          -3640
         ],
         "yaxis": "y"
        },
        {
         "hoverinfo": "text",
         "marker": {
          "color": "rgb(61,153,112)"
         },
         "mode": "lines",
         "type": "scatter",
         "x": [
          0,
          0.19186102958538756,
          0.19186102958538756,
          0
         ],
         "xaxis": "x",
         "y": [
          -3665,
          -3665,
          -3675,
          -3675
         ],
         "yaxis": "y"
        },
        {
         "hoverinfo": "text",
         "marker": {
          "color": "rgb(61,153,112)"
         },
         "mode": "lines",
         "type": "scatter",
         "x": [
          0,
          0.7376905676905507,
          0.7376905676905507,
          0.19186102958538756
         ],
         "xaxis": "x",
         "y": [
          -3655,
          -3655,
          -3670,
          -3670
         ],
         "yaxis": "y"
        },
        {
         "hoverinfo": "text",
         "marker": {
          "color": "rgb(61,153,112)"
         },
         "mode": "lines",
         "type": "scatter",
         "x": [
          0.581651451768071,
          1.066043082197133,
          1.066043082197133,
          0.7376905676905507
         ],
         "xaxis": "x",
         "y": [
          -3632.5,
          -3632.5,
          -3662.5,
          -3662.5
         ],
         "yaxis": "y"
        },
        {
         "hoverinfo": "text",
         "marker": {
          "color": "rgb(61,153,112)"
         },
         "mode": "lines",
         "type": "scatter",
         "x": [
          0,
          0.22371048870083318,
          0.22371048870083318,
          0
         ],
         "xaxis": "x",
         "y": [
          -3715,
          -3715,
          -3725,
          -3725
         ],
         "yaxis": "y"
        },
        {
         "hoverinfo": "text",
         "marker": {
          "color": "rgb(61,153,112)"
         },
         "mode": "lines",
         "type": "scatter",
         "x": [
          0,
          0.339631543274154,
          0.339631543274154,
          0.22371048870083318
         ],
         "xaxis": "x",
         "y": [
          -3705,
          -3705,
          -3720,
          -3720
         ],
         "yaxis": "y"
        },
        {
         "hoverinfo": "text",
         "marker": {
          "color": "rgb(61,153,112)"
         },
         "mode": "lines",
         "type": "scatter",
         "x": [
          0,
          0.5723581073311809,
          0.5723581073311809,
          0.339631543274154
         ],
         "xaxis": "x",
         "y": [
          -3695,
          -3695,
          -3712.5,
          -3712.5
         ],
         "yaxis": "y"
        },
        {
         "hoverinfo": "text",
         "marker": {
          "color": "rgb(61,153,112)"
         },
         "mode": "lines",
         "type": "scatter",
         "x": [
          0,
          1.1603325707019922,
          1.1603325707019922,
          0.5723581073311809
         ],
         "xaxis": "x",
         "y": [
          -3685,
          -3685,
          -3703.75,
          -3703.75
         ],
         "yaxis": "y"
        },
        {
         "hoverinfo": "text",
         "marker": {
          "color": "rgb(61,153,112)"
         },
         "mode": "lines",
         "type": "scatter",
         "x": [
          1.066043082197133,
          1.751100698977485,
          1.751100698977485,
          1.1603325707019922
         ],
         "xaxis": "x",
         "y": [
          -3647.5,
          -3647.5,
          -3694.375,
          -3694.375
         ],
         "yaxis": "y"
        },
        {
         "hoverinfo": "text",
         "marker": {
          "color": "rgb(61,153,112)"
         },
         "mode": "lines",
         "type": "scatter",
         "x": [
          0.9075963505191138,
          1.9256485269114352,
          1.9256485269114352,
          1.751100698977485
         ],
         "xaxis": "x",
         "y": [
          -3566.875,
          -3566.875,
          -3670.9375,
          -3670.9375
         ],
         "yaxis": "y"
        },
        {
         "hoverinfo": "text",
         "marker": {
          "color": "rgb(61,153,112)"
         },
         "mode": "lines",
         "type": "scatter",
         "x": [
          1.4968703841041189,
          2.638971366560274,
          2.638971366560274,
          1.9256485269114352
         ],
         "xaxis": "x",
         "y": [
          -3472.1875,
          -3472.1875,
          -3618.90625,
          -3618.90625
         ],
         "yaxis": "y"
        },
        {
         "hoverinfo": "text",
         "marker": {
          "color": "rgb(61,153,112)"
         },
         "mode": "lines",
         "type": "scatter",
         "x": [
          0,
          0.13940163364656388,
          0.13940163364656388,
          0
         ],
         "xaxis": "x",
         "y": [
          -3735,
          -3735,
          -3745,
          -3745
         ],
         "yaxis": "y"
        },
        {
         "hoverinfo": "text",
         "marker": {
          "color": "rgb(61,153,112)"
         },
         "mode": "lines",
         "type": "scatter",
         "x": [
          0,
          0.14695923236167474,
          0.14695923236167474,
          0
         ],
         "xaxis": "x",
         "y": [
          -3775,
          -3775,
          -3785,
          -3785
         ],
         "yaxis": "y"
        },
        {
         "hoverinfo": "text",
         "marker": {
          "color": "rgb(61,153,112)"
         },
         "mode": "lines",
         "type": "scatter",
         "x": [
          0,
          0.29620008722580465,
          0.29620008722580465,
          0.14695923236167474
         ],
         "xaxis": "x",
         "y": [
          -3765,
          -3765,
          -3780,
          -3780
         ],
         "yaxis": "y"
        },
        {
         "hoverinfo": "text",
         "marker": {
          "color": "rgb(61,153,112)"
         },
         "mode": "lines",
         "type": "scatter",
         "x": [
          0,
          0.507475261207867,
          0.507475261207867,
          0.29620008722580465
         ],
         "xaxis": "x",
         "y": [
          -3755,
          -3755,
          -3772.5,
          -3772.5
         ],
         "yaxis": "y"
        },
        {
         "hoverinfo": "text",
         "marker": {
          "color": "rgb(61,153,112)"
         },
         "mode": "lines",
         "type": "scatter",
         "x": [
          0.13940163364656388,
          0.7314276441359351,
          0.7314276441359351,
          0.507475261207867
         ],
         "xaxis": "x",
         "y": [
          -3740,
          -3740,
          -3763.75,
          -3763.75
         ],
         "yaxis": "y"
        },
        {
         "hoverinfo": "text",
         "marker": {
          "color": "rgb(61,153,112)"
         },
         "mode": "lines",
         "type": "scatter",
         "x": [
          0,
          0.424630558381175,
          0.424630558381175,
          0
         ],
         "xaxis": "x",
         "y": [
          -3795,
          -3795,
          -3805,
          -3805
         ],
         "yaxis": "y"
        },
        {
         "hoverinfo": "text",
         "marker": {
          "color": "rgb(61,153,112)"
         },
         "mode": "lines",
         "type": "scatter",
         "x": [
          0,
          0.29978651150333296,
          0.29978651150333296,
          0
         ],
         "xaxis": "x",
         "y": [
          -3825,
          -3825,
          -3835,
          -3835
         ],
         "yaxis": "y"
        },
        {
         "hoverinfo": "text",
         "marker": {
          "color": "rgb(61,153,112)"
         },
         "mode": "lines",
         "type": "scatter",
         "x": [
          0,
          0.4510719246098451,
          0.4510719246098451,
          0.29978651150333296
         ],
         "xaxis": "x",
         "y": [
          -3815,
          -3815,
          -3830,
          -3830
         ],
         "yaxis": "y"
        },
        {
         "hoverinfo": "text",
         "marker": {
          "color": "rgb(61,153,112)"
         },
         "mode": "lines",
         "type": "scatter",
         "x": [
          0.424630558381175,
          1.0339678137413553,
          1.0339678137413553,
          0.4510719246098451
         ],
         "xaxis": "x",
         "y": [
          -3800,
          -3800,
          -3822.5,
          -3822.5
         ],
         "yaxis": "y"
        },
        {
         "hoverinfo": "text",
         "marker": {
          "color": "rgb(61,153,112)"
         },
         "mode": "lines",
         "type": "scatter",
         "x": [
          0.7314276441359351,
          1.8047479029910851,
          1.8047479029910851,
          1.0339678137413553
         ],
         "xaxis": "x",
         "y": [
          -3751.875,
          -3751.875,
          -3811.25,
          -3811.25
         ],
         "yaxis": "y"
        },
        {
         "hoverinfo": "text",
         "marker": {
          "color": "rgb(61,153,112)"
         },
         "mode": "lines",
         "type": "scatter",
         "x": [
          0,
          0.388104217791539,
          0.388104217791539,
          0
         ],
         "xaxis": "x",
         "y": [
          -3845,
          -3845,
          -3855,
          -3855
         ],
         "yaxis": "y"
        },
        {
         "hoverinfo": "text",
         "marker": {
          "color": "rgb(61,153,112)"
         },
         "mode": "lines",
         "type": "scatter",
         "x": [
          0,
          0.34098863768883,
          0.34098863768883,
          0
         ],
         "xaxis": "x",
         "y": [
          -3865,
          -3865,
          -3875,
          -3875
         ],
         "yaxis": "y"
        },
        {
         "hoverinfo": "text",
         "marker": {
          "color": "rgb(61,153,112)"
         },
         "mode": "lines",
         "type": "scatter",
         "x": [
          0,
          0.44036671011275175,
          0.44036671011275175,
          0
         ],
         "xaxis": "x",
         "y": [
          -3885,
          -3885,
          -3895,
          -3895
         ],
         "yaxis": "y"
        },
        {
         "hoverinfo": "text",
         "marker": {
          "color": "rgb(61,153,112)"
         },
         "mode": "lines",
         "type": "scatter",
         "x": [
          0.34098863768883,
          0.881107164147805,
          0.881107164147805,
          0.44036671011275175
         ],
         "xaxis": "x",
         "y": [
          -3870,
          -3870,
          -3890,
          -3890
         ],
         "yaxis": "y"
        },
        {
         "hoverinfo": "text",
         "marker": {
          "color": "rgb(61,153,112)"
         },
         "mode": "lines",
         "type": "scatter",
         "x": [
          0.388104217791539,
          1.2766444798063383,
          1.2766444798063383,
          0.881107164147805
         ],
         "xaxis": "x",
         "y": [
          -3850,
          -3850,
          -3880,
          -3880
         ],
         "yaxis": "y"
        },
        {
         "hoverinfo": "text",
         "marker": {
          "color": "rgb(61,153,112)"
         },
         "mode": "lines",
         "type": "scatter",
         "x": [
          0,
          0.2764873871096995,
          0.2764873871096995,
          0
         ],
         "xaxis": "x",
         "y": [
          -3905,
          -3905,
          -3915,
          -3915
         ],
         "yaxis": "y"
        },
        {
         "hoverinfo": "text",
         "marker": {
          "color": "rgb(61,153,112)"
         },
         "mode": "lines",
         "type": "scatter",
         "x": [
          0,
          0.3765496611690696,
          0.3765496611690696,
          0
         ],
         "xaxis": "x",
         "y": [
          -3935,
          -3935,
          -3945,
          -3945
         ],
         "yaxis": "y"
        },
        {
         "hoverinfo": "text",
         "marker": {
          "color": "rgb(61,153,112)"
         },
         "mode": "lines",
         "type": "scatter",
         "x": [
          0,
          0.6769242418493928,
          0.6769242418493928,
          0.3765496611690696
         ],
         "xaxis": "x",
         "y": [
          -3925,
          -3925,
          -3940,
          -3940
         ],
         "yaxis": "y"
        },
        {
         "hoverinfo": "text",
         "marker": {
          "color": "rgb(61,153,112)"
         },
         "mode": "lines",
         "type": "scatter",
         "x": [
          0.2764873871096995,
          0.9716223532604136,
          0.9716223532604136,
          0.6769242418493928
         ],
         "xaxis": "x",
         "y": [
          -3910,
          -3910,
          -3932.5,
          -3932.5
         ],
         "yaxis": "y"
        },
        {
         "hoverinfo": "text",
         "marker": {
          "color": "rgb(61,153,112)"
         },
         "mode": "lines",
         "type": "scatter",
         "x": [
          0,
          0.39655952820264423,
          0.39655952820264423,
          0
         ],
         "xaxis": "x",
         "y": [
          -3965,
          -3965,
          -3975,
          -3975
         ],
         "yaxis": "y"
        },
        {
         "hoverinfo": "text",
         "marker": {
          "color": "rgb(61,153,112)"
         },
         "mode": "lines",
         "type": "scatter",
         "x": [
          0,
          1.1835002583057088,
          1.1835002583057088,
          0.39655952820264423
         ],
         "xaxis": "x",
         "y": [
          -3955,
          -3955,
          -3970,
          -3970
         ],
         "yaxis": "y"
        },
        {
         "hoverinfo": "text",
         "marker": {
          "color": "rgb(61,153,112)"
         },
         "mode": "lines",
         "type": "scatter",
         "x": [
          0.9716223532604136,
          1.6294305774634834,
          1.6294305774634834,
          1.1835002583057088
         ],
         "xaxis": "x",
         "y": [
          -3921.25,
          -3921.25,
          -3962.5,
          -3962.5
         ],
         "yaxis": "y"
        },
        {
         "hoverinfo": "text",
         "marker": {
          "color": "rgb(61,153,112)"
         },
         "mode": "lines",
         "type": "scatter",
         "x": [
          1.2766444798063383,
          2.2033299753308926,
          2.2033299753308926,
          1.6294305774634834
         ],
         "xaxis": "x",
         "y": [
          -3865,
          -3865,
          -3941.875,
          -3941.875
         ],
         "yaxis": "y"
        },
        {
         "hoverinfo": "text",
         "marker": {
          "color": "rgb(61,153,112)"
         },
         "mode": "lines",
         "type": "scatter",
         "x": [
          1.8047479029910851,
          3.3049529458625733,
          3.3049529458625733,
          2.2033299753308926
         ],
         "xaxis": "x",
         "y": [
          -3781.5625,
          -3781.5625,
          -3903.4375,
          -3903.4375
         ],
         "yaxis": "y"
        },
        {
         "hoverinfo": "text",
         "marker": {
          "color": "rgb(61,153,112)"
         },
         "mode": "lines",
         "type": "scatter",
         "x": [
          2.638971366560274,
          3.7893082846604753,
          3.7893082846604753,
          3.3049529458625733
         ],
         "xaxis": "x",
         "y": [
          -3545.546875,
          -3545.546875,
          -3842.5,
          -3842.5
         ],
         "yaxis": "y"
        },
        {
         "hoverinfo": "text",
         "marker": {
          "color": "rgb(61,153,112)"
         },
         "mode": "lines",
         "type": "scatter",
         "x": [
          0,
          0.3476286999225932,
          0.3476286999225932,
          0
         ],
         "xaxis": "x",
         "y": [
          -3985,
          -3985,
          -3995,
          -3995
         ],
         "yaxis": "y"
        },
        {
         "hoverinfo": "text",
         "marker": {
          "color": "rgb(61,153,112)"
         },
         "mode": "lines",
         "type": "scatter",
         "x": [
          0,
          0.4848371277389581,
          0.4848371277389581,
          0
         ],
         "xaxis": "x",
         "y": [
          -4015,
          -4015,
          -4025,
          -4025
         ],
         "yaxis": "y"
        },
        {
         "hoverinfo": "text",
         "marker": {
          "color": "rgb(61,153,112)"
         },
         "mode": "lines",
         "type": "scatter",
         "x": [
          0,
          0.8774783978047729,
          0.8774783978047729,
          0.4848371277389581
         ],
         "xaxis": "x",
         "y": [
          -4005,
          -4005,
          -4020,
          -4020
         ],
         "yaxis": "y"
        },
        {
         "hoverinfo": "text",
         "marker": {
          "color": "rgb(61,153,112)"
         },
         "mode": "lines",
         "type": "scatter",
         "x": [
          0.3476286999225932,
          1.1591400089695796,
          1.1591400089695796,
          0.8774783978047729
         ],
         "xaxis": "x",
         "y": [
          -3990,
          -3990,
          -4012.5,
          -4012.5
         ],
         "yaxis": "y"
        },
        {
         "hoverinfo": "text",
         "marker": {
          "color": "rgb(61,153,112)"
         },
         "mode": "lines",
         "type": "scatter",
         "x": [
          0,
          0.28095288824128983,
          0.28095288824128983,
          0
         ],
         "xaxis": "x",
         "y": [
          -4035,
          -4035,
          -4045,
          -4045
         ],
         "yaxis": "y"
        },
        {
         "hoverinfo": "text",
         "marker": {
          "color": "rgb(61,153,112)"
         },
         "mode": "lines",
         "type": "scatter",
         "x": [
          0,
          0.2965468381004106,
          0.2965468381004106,
          0
         ],
         "xaxis": "x",
         "y": [
          -4065,
          -4065,
          -4075,
          -4075
         ],
         "yaxis": "y"
        },
        {
         "hoverinfo": "text",
         "marker": {
          "color": "rgb(61,153,112)"
         },
         "mode": "lines",
         "type": "scatter",
         "x": [
          0,
          0.6627162951657944,
          0.6627162951657944,
          0.2965468381004106
         ],
         "xaxis": "x",
         "y": [
          -4055,
          -4055,
          -4070,
          -4070
         ],
         "yaxis": "y"
        },
        {
         "hoverinfo": "text",
         "marker": {
          "color": "rgb(61,153,112)"
         },
         "mode": "lines",
         "type": "scatter",
         "x": [
          0.28095288824128983,
          1.352074015315918,
          1.352074015315918,
          0.6627162951657944
         ],
         "xaxis": "x",
         "y": [
          -4040,
          -4040,
          -4062.5,
          -4062.5
         ],
         "yaxis": "y"
        },
        {
         "hoverinfo": "text",
         "marker": {
          "color": "rgb(61,153,112)"
         },
         "mode": "lines",
         "type": "scatter",
         "x": [
          1.1591400089695796,
          1.8537366431834181,
          1.8537366431834181,
          1.352074015315918
         ],
         "xaxis": "x",
         "y": [
          -4001.25,
          -4001.25,
          -4051.25,
          -4051.25
         ],
         "yaxis": "y"
        },
        {
         "hoverinfo": "text",
         "marker": {
          "color": "rgb(61,153,112)"
         },
         "mode": "lines",
         "type": "scatter",
         "x": [
          0,
          0.45320030086163055,
          0.45320030086163055,
          0
         ],
         "xaxis": "x",
         "y": [
          -4095,
          -4095,
          -4105,
          -4105
         ],
         "yaxis": "y"
        },
        {
         "hoverinfo": "text",
         "marker": {
          "color": "rgb(61,153,112)"
         },
         "mode": "lines",
         "type": "scatter",
         "x": [
          0,
          0.673124433582356,
          0.673124433582356,
          0.45320030086163055
         ],
         "xaxis": "x",
         "y": [
          -4085,
          -4085,
          -4100,
          -4100
         ],
         "yaxis": "y"
        },
        {
         "hoverinfo": "text",
         "marker": {
          "color": "rgb(61,153,112)"
         },
         "mode": "lines",
         "type": "scatter",
         "x": [
          0,
          0.5867779967366279,
          0.5867779967366279,
          0
         ],
         "xaxis": "x",
         "y": [
          -4125,
          -4125,
          -4135,
          -4135
         ],
         "yaxis": "y"
        },
        {
         "hoverinfo": "text",
         "marker": {
          "color": "rgb(61,153,112)"
         },
         "mode": "lines",
         "type": "scatter",
         "x": [
          0,
          1.3526674898158102,
          1.3526674898158102,
          0.5867779967366279
         ],
         "xaxis": "x",
         "y": [
          -4115,
          -4115,
          -4130,
          -4130
         ],
         "yaxis": "y"
        },
        {
         "hoverinfo": "text",
         "marker": {
          "color": "rgb(61,153,112)"
         },
         "mode": "lines",
         "type": "scatter",
         "x": [
          0.673124433582356,
          2.1087366966525964,
          2.1087366966525964,
          1.3526674898158102
         ],
         "xaxis": "x",
         "y": [
          -4092.5,
          -4092.5,
          -4122.5,
          -4122.5
         ],
         "yaxis": "y"
        },
        {
         "hoverinfo": "text",
         "marker": {
          "color": "rgb(61,153,112)"
         },
         "mode": "lines",
         "type": "scatter",
         "x": [
          1.8537366431834181,
          2.946118272462352,
          2.946118272462352,
          2.1087366966525964
         ],
         "xaxis": "x",
         "y": [
          -4026.25,
          -4026.25,
          -4107.5,
          -4107.5
         ],
         "yaxis": "y"
        },
        {
         "hoverinfo": "text",
         "marker": {
          "color": "rgb(61,153,112)"
         },
         "mode": "lines",
         "type": "scatter",
         "x": [
          0,
          0.715073145176783,
          0.715073145176783,
          0
         ],
         "xaxis": "x",
         "y": [
          -4155,
          -4155,
          -4165,
          -4165
         ],
         "yaxis": "y"
        },
        {
         "hoverinfo": "text",
         "marker": {
          "color": "rgb(61,153,112)"
         },
         "mode": "lines",
         "type": "scatter",
         "x": [
          0,
          1.4970003694176963,
          1.4970003694176963,
          0.715073145176783
         ],
         "xaxis": "x",
         "y": [
          -4145,
          -4145,
          -4160,
          -4160
         ],
         "yaxis": "y"
        },
        {
         "hoverinfo": "text",
         "marker": {
          "color": "rgb(61,153,112)"
         },
         "mode": "lines",
         "type": "scatter",
         "x": [
          0,
          0.18306622287019098,
          0.18306622287019098,
          0
         ],
         "xaxis": "x",
         "y": [
          -4185,
          -4185,
          -4195,
          -4195
         ],
         "yaxis": "y"
        },
        {
         "hoverinfo": "text",
         "marker": {
          "color": "rgb(61,153,112)"
         },
         "mode": "lines",
         "type": "scatter",
         "x": [
          0,
          0.34587873267392816,
          0.34587873267392816,
          0.18306622287019098
         ],
         "xaxis": "x",
         "y": [
          -4175,
          -4175,
          -4190,
          -4190
         ],
         "yaxis": "y"
        },
        {
         "hoverinfo": "text",
         "marker": {
          "color": "rgb(61,153,112)"
         },
         "mode": "lines",
         "type": "scatter",
         "x": [
          0,
          0.13374213281337405,
          0.13374213281337405,
          0
         ],
         "xaxis": "x",
         "y": [
          -4215,
          -4215,
          -4225,
          -4225
         ],
         "yaxis": "y"
        },
        {
         "hoverinfo": "text",
         "marker": {
          "color": "rgb(61,153,112)"
         },
         "mode": "lines",
         "type": "scatter",
         "x": [
          0,
          0.06939443172152114,
          0.06939443172152114,
          0
         ],
         "xaxis": "x",
         "y": [
          -4235,
          -4235,
          -4245,
          -4245
         ],
         "yaxis": "y"
        },
        {
         "hoverinfo": "text",
         "marker": {
          "color": "rgb(61,153,112)"
         },
         "mode": "lines",
         "type": "scatter",
         "x": [
          0,
          0.09402795368546993,
          0.09402795368546993,
          0
         ],
         "xaxis": "x",
         "y": [
          -4255,
          -4255,
          -4265,
          -4265
         ],
         "yaxis": "y"
        },
        {
         "hoverinfo": "text",
         "marker": {
          "color": "rgb(61,153,112)"
         },
         "mode": "lines",
         "type": "scatter",
         "x": [
          0.06939443172152114,
          0.20243047391752347,
          0.20243047391752347,
          0.09402795368546993
         ],
         "xaxis": "x",
         "y": [
          -4240,
          -4240,
          -4260,
          -4260
         ],
         "yaxis": "y"
        },
        {
         "hoverinfo": "text",
         "marker": {
          "color": "rgb(61,153,112)"
         },
         "mode": "lines",
         "type": "scatter",
         "x": [
          0.13374213281337405,
          0.3402574807379787,
          0.3402574807379787,
          0.20243047391752347
         ],
         "xaxis": "x",
         "y": [
          -4220,
          -4220,
          -4250,
          -4250
         ],
         "yaxis": "y"
        },
        {
         "hoverinfo": "text",
         "marker": {
          "color": "rgb(61,153,112)"
         },
         "mode": "lines",
         "type": "scatter",
         "x": [
          0,
          0.8251227414917456,
          0.8251227414917456,
          0.3402574807379787
         ],
         "xaxis": "x",
         "y": [
          -4205,
          -4205,
          -4235,
          -4235
         ],
         "yaxis": "y"
        },
        {
         "hoverinfo": "text",
         "marker": {
          "color": "rgb(61,153,112)"
         },
         "mode": "lines",
         "type": "scatter",
         "x": [
          0.34587873267392816,
          1.0995970879106456,
          1.0995970879106456,
          0.8251227414917456
         ],
         "xaxis": "x",
         "y": [
          -4182.5,
          -4182.5,
          -4220,
          -4220
         ],
         "yaxis": "y"
        },
        {
         "hoverinfo": "text",
         "marker": {
          "color": "rgb(61,153,112)"
         },
         "mode": "lines",
         "type": "scatter",
         "x": [
          0,
          0.544313692956387,
          0.544313692956387,
          0
         ],
         "xaxis": "x",
         "y": [
          -4275,
          -4275,
          -4285,
          -4285
         ],
         "yaxis": "y"
        },
        {
         "hoverinfo": "text",
         "marker": {
          "color": "rgb(61,153,112)"
         },
         "mode": "lines",
         "type": "scatter",
         "x": [
          0,
          0.17096889495781853,
          0.17096889495781853,
          0
         ],
         "xaxis": "x",
         "y": [
          -4315,
          -4315,
          -4325,
          -4325
         ],
         "yaxis": "y"
        },
        {
         "hoverinfo": "text",
         "marker": {
          "color": "rgb(61,153,112)"
         },
         "mode": "lines",
         "type": "scatter",
         "x": [
          0,
          0.39643716454160327,
          0.39643716454160327,
          0.17096889495781853
         ],
         "xaxis": "x",
         "y": [
          -4305,
          -4305,
          -4320,
          -4320
         ],
         "yaxis": "y"
        },
        {
         "hoverinfo": "text",
         "marker": {
          "color": "rgb(61,153,112)"
         },
         "mode": "lines",
         "type": "scatter",
         "x": [
          0,
          0.669674310571659,
          0.669674310571659,
          0.39643716454160327
         ],
         "xaxis": "x",
         "y": [
          -4295,
          -4295,
          -4312.5,
          -4312.5
         ],
         "yaxis": "y"
        },
        {
         "hoverinfo": "text",
         "marker": {
          "color": "rgb(61,153,112)"
         },
         "mode": "lines",
         "type": "scatter",
         "x": [
          0.544313692956387,
          1.1104046137129406,
          1.1104046137129406,
          0.669674310571659
         ],
         "xaxis": "x",
         "y": [
          -4280,
          -4280,
          -4303.75,
          -4303.75
         ],
         "yaxis": "y"
        },
        {
         "hoverinfo": "text",
         "marker": {
          "color": "rgb(61,153,112)"
         },
         "mode": "lines",
         "type": "scatter",
         "x": [
          0,
          0.46622249970658936,
          0.46622249970658936,
          0
         ],
         "xaxis": "x",
         "y": [
          -4335,
          -4335,
          -4345,
          -4345
         ],
         "yaxis": "y"
        },
        {
         "hoverinfo": "text",
         "marker": {
          "color": "rgb(61,153,112)"
         },
         "mode": "lines",
         "type": "scatter",
         "x": [
          0,
          0.2657679378260713,
          0.2657679378260713,
          0
         ],
         "xaxis": "x",
         "y": [
          -4365,
          -4365,
          -4375,
          -4375
         ],
         "yaxis": "y"
        },
        {
         "hoverinfo": "text",
         "marker": {
          "color": "rgb(61,153,112)"
         },
         "mode": "lines",
         "type": "scatter",
         "x": [
          0,
          0.5244340973363398,
          0.5244340973363398,
          0.2657679378260713
         ],
         "xaxis": "x",
         "y": [
          -4355,
          -4355,
          -4370,
          -4370
         ],
         "yaxis": "y"
        },
        {
         "hoverinfo": "text",
         "marker": {
          "color": "rgb(61,153,112)"
         },
         "mode": "lines",
         "type": "scatter",
         "x": [
          0.46622249970658936,
          1.0923477389395941,
          1.0923477389395941,
          0.5244340973363398
         ],
         "xaxis": "x",
         "y": [
          -4340,
          -4340,
          -4362.5,
          -4362.5
         ],
         "yaxis": "y"
        },
        {
         "hoverinfo": "text",
         "marker": {
          "color": "rgb(61,153,112)"
         },
         "mode": "lines",
         "type": "scatter",
         "x": [
          0,
          0.44591320955567754,
          0.44591320955567754,
          0
         ],
         "xaxis": "x",
         "y": [
          -4385,
          -4385,
          -4395,
          -4395
         ],
         "yaxis": "y"
        },
        {
         "hoverinfo": "text",
         "marker": {
          "color": "rgb(61,153,112)"
         },
         "mode": "lines",
         "type": "scatter",
         "x": [
          0,
          0.17684190028282007,
          0.17684190028282007,
          0
         ],
         "xaxis": "x",
         "y": [
          -4405,
          -4405,
          -4415,
          -4415
         ],
         "yaxis": "y"
        },
        {
         "hoverinfo": "text",
         "marker": {
          "color": "rgb(61,153,112)"
         },
         "mode": "lines",
         "type": "scatter",
         "x": [
          0,
          0.6149328098221456,
          0.6149328098221456,
          0
         ],
         "xaxis": "x",
         "y": [
          -4425,
          -4425,
          -4435,
          -4435
         ],
         "yaxis": "y"
        },
        {
         "hoverinfo": "text",
         "marker": {
          "color": "rgb(61,153,112)"
         },
         "mode": "lines",
         "type": "scatter",
         "x": [
          0.17684190028282007,
          1.0074056774712952,
          1.0074056774712952,
          0.6149328098221456
         ],
         "xaxis": "x",
         "y": [
          -4410,
          -4410,
          -4430,
          -4430
         ],
         "yaxis": "y"
        },
        {
         "hoverinfo": "text",
         "marker": {
          "color": "rgb(61,153,112)"
         },
         "mode": "lines",
         "type": "scatter",
         "x": [
          0.44591320955567754,
          1.1644303031015746,
          1.1644303031015746,
          1.0074056774712952
         ],
         "xaxis": "x",
         "y": [
          -4390,
          -4390,
          -4420,
          -4420
         ],
         "yaxis": "y"
        },
        {
         "hoverinfo": "text",
         "marker": {
          "color": "rgb(61,153,112)"
         },
         "mode": "lines",
         "type": "scatter",
         "x": [
          1.0923477389395941,
          1.7556777992156778,
          1.7556777992156778,
          1.1644303031015746
         ],
         "xaxis": "x",
         "y": [
          -4351.25,
          -4351.25,
          -4405,
          -4405
         ],
         "yaxis": "y"
        },
        {
         "hoverinfo": "text",
         "marker": {
          "color": "rgb(61,153,112)"
         },
         "mode": "lines",
         "type": "scatter",
         "x": [
          1.1104046137129406,
          2.134814398688056,
          2.134814398688056,
          1.7556777992156778
         ],
         "xaxis": "x",
         "y": [
          -4291.875,
          -4291.875,
          -4378.125,
          -4378.125
         ],
         "yaxis": "y"
        },
        {
         "hoverinfo": "text",
         "marker": {
          "color": "rgb(61,153,112)"
         },
         "mode": "lines",
         "type": "scatter",
         "x": [
          1.0995970879106456,
          2.3855699366856027,
          2.3855699366856027,
          2.134814398688056
         ],
         "xaxis": "x",
         "y": [
          -4201.25,
          -4201.25,
          -4335,
          -4335
         ],
         "yaxis": "y"
        },
        {
         "hoverinfo": "text",
         "marker": {
          "color": "rgb(61,153,112)"
         },
         "mode": "lines",
         "type": "scatter",
         "x": [
          1.4970003694176963,
          3.510700364570688,
          3.510700364570688,
          2.3855699366856027
         ],
         "xaxis": "x",
         "y": [
          -4152.5,
          -4152.5,
          -4268.125,
          -4268.125
         ],
         "yaxis": "y"
        },
        {
         "hoverinfo": "text",
         "marker": {
          "color": "rgb(61,153,112)"
         },
         "mode": "lines",
         "type": "scatter",
         "x": [
          2.946118272462352,
          4.599836684755233,
          4.599836684755233,
          3.510700364570688
         ],
         "xaxis": "x",
         "y": [
          -4066.875,
          -4066.875,
          -4210.3125,
          -4210.3125
         ],
         "yaxis": "y"
        },
        {
         "hoverinfo": "text",
         "marker": {
          "color": "rgb(61,153,112)"
         },
         "mode": "lines",
         "type": "scatter",
         "x": [
          3.7893082846604753,
          5.233781010605213,
          5.233781010605213,
          4.599836684755233
         ],
         "xaxis": "x",
         "y": [
          -3694.0234375,
          -3694.0234375,
          -4138.59375,
          -4138.59375
         ],
         "yaxis": "y"
        },
        {
         "hoverinfo": "text",
         "marker": {
          "color": "rgb(61,153,112)"
         },
         "mode": "lines",
         "type": "scatter",
         "x": [
          2.676371433861419,
          5.9998114352838945,
          5.9998114352838945,
          5.233781010605213
         ],
         "xaxis": "x",
         "y": [
          -3378.4375,
          -3378.4375,
          -3916.30859375,
          -3916.30859375
         ],
         "yaxis": "y"
        },
        {
         "hoverinfo": "text",
         "marker": {
          "color": "rgb(61,153,112)"
         },
         "mode": "lines",
         "type": "scatter",
         "x": [
          4.892684651113141,
          8.33724249335741,
          8.33724249335741,
          5.9998114352838945
         ],
         "xaxis": "x",
         "y": [
          -3274.0625,
          -3274.0625,
          -3647.373046875,
          -3647.373046875
         ],
         "yaxis": "y"
        },
        {
         "hoverinfo": "text",
         "marker": {
          "color": "rgb(255,65,54)"
         },
         "mode": "lines",
         "type": "scatter",
         "x": [
          0,
          0.9242202234217468,
          0.9242202234217468,
          0
         ],
         "xaxis": "x",
         "y": [
          -4475,
          -4475,
          -4485,
          -4485
         ],
         "yaxis": "y"
        },
        {
         "hoverinfo": "text",
         "marker": {
          "color": "rgb(255,65,54)"
         },
         "mode": "lines",
         "type": "scatter",
         "x": [
          0,
          1.2234279605246834,
          1.2234279605246834,
          0.9242202234217468
         ],
         "xaxis": "x",
         "y": [
          -4465,
          -4465,
          -4480,
          -4480
         ],
         "yaxis": "y"
        },
        {
         "hoverinfo": "text",
         "marker": {
          "color": "rgb(255,65,54)"
         },
         "mode": "lines",
         "type": "scatter",
         "x": [
          0,
          2.3947803409087554,
          2.3947803409087554,
          1.2234279605246834
         ],
         "xaxis": "x",
         "y": [
          -4455,
          -4455,
          -4472.5,
          -4472.5
         ],
         "yaxis": "y"
        },
        {
         "hoverinfo": "text",
         "marker": {
          "color": "rgb(255,65,54)"
         },
         "mode": "lines",
         "type": "scatter",
         "x": [
          0,
          2.4325625453809177,
          2.4325625453809177,
          2.3947803409087554
         ],
         "xaxis": "x",
         "y": [
          -4445,
          -4445,
          -4463.75,
          -4463.75
         ],
         "yaxis": "y"
        },
        {
         "hoverinfo": "text",
         "marker": {
          "color": "rgb(255,65,54)"
         },
         "mode": "lines",
         "type": "scatter",
         "x": [
          0,
          0.3642474142357159,
          0.3642474142357159,
          0
         ],
         "xaxis": "x",
         "y": [
          -4495,
          -4495,
          -4505,
          -4505
         ],
         "yaxis": "y"
        },
        {
         "hoverinfo": "text",
         "marker": {
          "color": "rgb(255,65,54)"
         },
         "mode": "lines",
         "type": "scatter",
         "x": [
          0,
          0.5795410696428445,
          0.5795410696428445,
          0
         ],
         "xaxis": "x",
         "y": [
          -4525,
          -4525,
          -4535,
          -4535
         ],
         "yaxis": "y"
        },
        {
         "hoverinfo": "text",
         "marker": {
          "color": "rgb(255,65,54)"
         },
         "mode": "lines",
         "type": "scatter",
         "x": [
          0,
          0.8625275461480324,
          0.8625275461480324,
          0.5795410696428445
         ],
         "xaxis": "x",
         "y": [
          -4515,
          -4515,
          -4530,
          -4530
         ],
         "yaxis": "y"
        },
        {
         "hoverinfo": "text",
         "marker": {
          "color": "rgb(255,65,54)"
         },
         "mode": "lines",
         "type": "scatter",
         "x": [
          0.3642474142357159,
          1.3902389366853685,
          1.3902389366853685,
          0.8625275461480324
         ],
         "xaxis": "x",
         "y": [
          -4500,
          -4500,
          -4522.5,
          -4522.5
         ],
         "yaxis": "y"
        },
        {
         "hoverinfo": "text",
         "marker": {
          "color": "rgb(255,65,54)"
         },
         "mode": "lines",
         "type": "scatter",
         "x": [
          0,
          0.07931389692037223,
          0.07931389692037223,
          0
         ],
         "xaxis": "x",
         "y": [
          -4575,
          -4575,
          -4585,
          -4585
         ],
         "yaxis": "y"
        },
        {
         "hoverinfo": "text",
         "marker": {
          "color": "rgb(255,65,54)"
         },
         "mode": "lines",
         "type": "scatter",
         "x": [
          0,
          0.34435953237743,
          0.34435953237743,
          0.07931389692037223
         ],
         "xaxis": "x",
         "y": [
          -4565,
          -4565,
          -4580,
          -4580
         ],
         "yaxis": "y"
        },
        {
         "hoverinfo": "text",
         "marker": {
          "color": "rgb(255,65,54)"
         },
         "mode": "lines",
         "type": "scatter",
         "x": [
          0,
          0.5539759012978076,
          0.5539759012978076,
          0.34435953237743
         ],
         "xaxis": "x",
         "y": [
          -4555,
          -4555,
          -4572.5,
          -4572.5
         ],
         "yaxis": "y"
        },
        {
         "hoverinfo": "text",
         "marker": {
          "color": "rgb(255,65,54)"
         },
         "mode": "lines",
         "type": "scatter",
         "x": [
          0,
          0.9376241076188377,
          0.9376241076188377,
          0.5539759012978076
         ],
         "xaxis": "x",
         "y": [
          -4545,
          -4545,
          -4563.75,
          -4563.75
         ],
         "yaxis": "y"
        },
        {
         "hoverinfo": "text",
         "marker": {
          "color": "rgb(255,65,54)"
         },
         "mode": "lines",
         "type": "scatter",
         "x": [
          0,
          0.2914743685207238,
          0.2914743685207238,
          0
         ],
         "xaxis": "x",
         "y": [
          -4595,
          -4595,
          -4605,
          -4605
         ],
         "yaxis": "y"
        },
        {
         "hoverinfo": "text",
         "marker": {
          "color": "rgb(255,65,54)"
         },
         "mode": "lines",
         "type": "scatter",
         "x": [
          0,
          0.490752375413674,
          0.490752375413674,
          0
         ],
         "xaxis": "x",
         "y": [
          -4615,
          -4615,
          -4625,
          -4625
         ],
         "yaxis": "y"
        },
        {
         "hoverinfo": "text",
         "marker": {
          "color": "rgb(255,65,54)"
         },
         "mode": "lines",
         "type": "scatter",
         "x": [
          0.2914743685207238,
          0.6756338947439656,
          0.6756338947439656,
          0.490752375413674
         ],
         "xaxis": "x",
         "y": [
          -4600,
          -4600,
          -4620,
          -4620
         ],
         "yaxis": "y"
        },
        {
         "hoverinfo": "text",
         "marker": {
          "color": "rgb(255,65,54)"
         },
         "mode": "lines",
         "type": "scatter",
         "x": [
          0,
          0.7587770013673829,
          0.7587770013673829,
          0
         ],
         "xaxis": "x",
         "y": [
          -4635,
          -4635,
          -4645,
          -4645
         ],
         "yaxis": "y"
        },
        {
         "hoverinfo": "text",
         "marker": {
          "color": "rgb(255,65,54)"
         },
         "mode": "lines",
         "type": "scatter",
         "x": [
          0.6756338947439656,
          1.0982284229313346,
          1.0982284229313346,
          0.7587770013673829
         ],
         "xaxis": "x",
         "y": [
          -4610,
          -4610,
          -4640,
          -4640
         ],
         "yaxis": "y"
        },
        {
         "hoverinfo": "text",
         "marker": {
          "color": "rgb(255,65,54)"
         },
         "mode": "lines",
         "type": "scatter",
         "x": [
          0.9376241076188377,
          1.6991912662012119,
          1.6991912662012119,
          1.0982284229313346
         ],
         "xaxis": "x",
         "y": [
          -4554.375,
          -4554.375,
          -4625,
          -4625
         ],
         "yaxis": "y"
        },
        {
         "hoverinfo": "text",
         "marker": {
          "color": "rgb(255,65,54)"
         },
         "mode": "lines",
         "type": "scatter",
         "x": [
          1.3902389366853685,
          2.046985008958401,
          2.046985008958401,
          1.6991912662012119
         ],
         "xaxis": "x",
         "y": [
          -4511.25,
          -4511.25,
          -4589.6875,
          -4589.6875
         ],
         "yaxis": "y"
        },
        {
         "hoverinfo": "text",
         "marker": {
          "color": "rgb(255,65,54)"
         },
         "mode": "lines",
         "type": "scatter",
         "x": [
          0,
          0.6637009536793963,
          0.6637009536793963,
          0
         ],
         "xaxis": "x",
         "y": [
          -4655,
          -4655,
          -4665,
          -4665
         ],
         "yaxis": "y"
        },
        {
         "hoverinfo": "text",
         "marker": {
          "color": "rgb(255,65,54)"
         },
         "mode": "lines",
         "type": "scatter",
         "x": [
          0,
          0.11294600580829785,
          0.11294600580829785,
          0
         ],
         "xaxis": "x",
         "y": [
          -4675,
          -4675,
          -4685,
          -4685
         ],
         "yaxis": "y"
        },
        {
         "hoverinfo": "text",
         "marker": {
          "color": "rgb(255,65,54)"
         },
         "mode": "lines",
         "type": "scatter",
         "x": [
          0,
          0.32015060177491456,
          0.32015060177491456,
          0
         ],
         "xaxis": "x",
         "y": [
          -4695,
          -4695,
          -4705,
          -4705
         ],
         "yaxis": "y"
        },
        {
         "hoverinfo": "text",
         "marker": {
          "color": "rgb(255,65,54)"
         },
         "mode": "lines",
         "type": "scatter",
         "x": [
          0.11294600580829785,
          0.714178262747886,
          0.714178262747886,
          0.32015060177491456
         ],
         "xaxis": "x",
         "y": [
          -4680,
          -4680,
          -4700,
          -4700
         ],
         "yaxis": "y"
        },
        {
         "hoverinfo": "text",
         "marker": {
          "color": "rgb(255,65,54)"
         },
         "mode": "lines",
         "type": "scatter",
         "x": [
          0.6637009536793963,
          1.348587059858924,
          1.348587059858924,
          0.714178262747886
         ],
         "xaxis": "x",
         "y": [
          -4660,
          -4660,
          -4690,
          -4690
         ],
         "yaxis": "y"
        },
        {
         "hoverinfo": "text",
         "marker": {
          "color": "rgb(255,65,54)"
         },
         "mode": "lines",
         "type": "scatter",
         "x": [
          0,
          0.7124560987232095,
          0.7124560987232095,
          0
         ],
         "xaxis": "x",
         "y": [
          -4715,
          -4715,
          -4725,
          -4725
         ],
         "yaxis": "y"
        },
        {
         "hoverinfo": "text",
         "marker": {
          "color": "rgb(255,65,54)"
         },
         "mode": "lines",
         "type": "scatter",
         "x": [
          0,
          0.5035510205211199,
          0.5035510205211199,
          0
         ],
         "xaxis": "x",
         "y": [
          -4745,
          -4745,
          -4755,
          -4755
         ],
         "yaxis": "y"
        },
        {
         "hoverinfo": "text",
         "marker": {
          "color": "rgb(255,65,54)"
         },
         "mode": "lines",
         "type": "scatter",
         "x": [
          0,
          1.2105807593006985,
          1.2105807593006985,
          0.5035510205211199
         ],
         "xaxis": "x",
         "y": [
          -4735,
          -4735,
          -4750,
          -4750
         ],
         "yaxis": "y"
        },
        {
         "hoverinfo": "text",
         "marker": {
          "color": "rgb(255,65,54)"
         },
         "mode": "lines",
         "type": "scatter",
         "x": [
          0.7124560987232095,
          1.614859758870057,
          1.614859758870057,
          1.2105807593006985
         ],
         "xaxis": "x",
         "y": [
          -4720,
          -4720,
          -4742.5,
          -4742.5
         ],
         "yaxis": "y"
        },
        {
         "hoverinfo": "text",
         "marker": {
          "color": "rgb(255,65,54)"
         },
         "mode": "lines",
         "type": "scatter",
         "x": [
          1.348587059858924,
          2.5548096573788452,
          2.5548096573788452,
          1.614859758870057
         ],
         "xaxis": "x",
         "y": [
          -4675,
          -4675,
          -4731.25,
          -4731.25
         ],
         "yaxis": "y"
        },
        {
         "hoverinfo": "text",
         "marker": {
          "color": "rgb(255,65,54)"
         },
         "mode": "lines",
         "type": "scatter",
         "x": [
          2.046985008958401,
          2.8188865036128057,
          2.8188865036128057,
          2.5548096573788452
         ],
         "xaxis": "x",
         "y": [
          -4550.46875,
          -4550.46875,
          -4703.125,
          -4703.125
         ],
         "yaxis": "y"
        },
        {
         "hoverinfo": "text",
         "marker": {
          "color": "rgb(255,65,54)"
         },
         "mode": "lines",
         "type": "scatter",
         "x": [
          0,
          0.5664569938494364,
          0.5664569938494364,
          0
         ],
         "xaxis": "x",
         "y": [
          -4775,
          -4775,
          -4785,
          -4785
         ],
         "yaxis": "y"
        },
        {
         "hoverinfo": "text",
         "marker": {
          "color": "rgb(255,65,54)"
         },
         "mode": "lines",
         "type": "scatter",
         "x": [
          0,
          0.7503616563204862,
          0.7503616563204862,
          0.5664569938494364
         ],
         "xaxis": "x",
         "y": [
          -4765,
          -4765,
          -4780,
          -4780
         ],
         "yaxis": "y"
        },
        {
         "hoverinfo": "text",
         "marker": {
          "color": "rgb(255,65,54)"
         },
         "mode": "lines",
         "type": "scatter",
         "x": [
          0,
          0.3217673057773847,
          0.3217673057773847,
          0
         ],
         "xaxis": "x",
         "y": [
          -4815,
          -4815,
          -4825,
          -4825
         ],
         "yaxis": "y"
        },
        {
         "hoverinfo": "text",
         "marker": {
          "color": "rgb(255,65,54)"
         },
         "mode": "lines",
         "type": "scatter",
         "x": [
          0,
          0.6145605993913767,
          0.6145605993913767,
          0.3217673057773847
         ],
         "xaxis": "x",
         "y": [
          -4805,
          -4805,
          -4820,
          -4820
         ],
         "yaxis": "y"
        },
        {
         "hoverinfo": "text",
         "marker": {
          "color": "rgb(255,65,54)"
         },
         "mode": "lines",
         "type": "scatter",
         "x": [
          0,
          0.8727909535051122,
          0.8727909535051122,
          0.6145605993913767
         ],
         "xaxis": "x",
         "y": [
          -4795,
          -4795,
          -4812.5,
          -4812.5
         ],
         "yaxis": "y"
        },
        {
         "hoverinfo": "text",
         "marker": {
          "color": "rgb(255,65,54)"
         },
         "mode": "lines",
         "type": "scatter",
         "x": [
          0,
          1.1002095393850715,
          1.1002095393850715,
          0
         ],
         "xaxis": "x",
         "y": [
          -4835,
          -4835,
          -4845,
          -4845
         ],
         "yaxis": "y"
        },
        {
         "hoverinfo": "text",
         "marker": {
          "color": "rgb(255,65,54)"
         },
         "mode": "lines",
         "type": "scatter",
         "x": [
          0.8727909535051122,
          1.973663430530585,
          1.973663430530585,
          1.1002095393850715
         ],
         "xaxis": "x",
         "y": [
          -4803.75,
          -4803.75,
          -4840,
          -4840
         ],
         "yaxis": "y"
        },
        {
         "hoverinfo": "text",
         "marker": {
          "color": "rgb(255,65,54)"
         },
         "mode": "lines",
         "type": "scatter",
         "x": [
          0.7503616563204862,
          2.245785696661362,
          2.245785696661362,
          1.973663430530585
         ],
         "xaxis": "x",
         "y": [
          -4772.5,
          -4772.5,
          -4821.875,
          -4821.875
         ],
         "yaxis": "y"
        },
        {
         "hoverinfo": "text",
         "marker": {
          "color": "rgb(255,65,54)"
         },
         "mode": "lines",
         "type": "scatter",
         "x": [
          0,
          0.5198404269511789,
          0.5198404269511789,
          0
         ],
         "xaxis": "x",
         "y": [
          -4865,
          -4865,
          -4875,
          -4875
         ],
         "yaxis": "y"
        },
        {
         "hoverinfo": "text",
         "marker": {
          "color": "rgb(255,65,54)"
         },
         "mode": "lines",
         "type": "scatter",
         "x": [
          0,
          0.7996255998017686,
          0.7996255998017686,
          0.5198404269511789
         ],
         "xaxis": "x",
         "y": [
          -4855,
          -4855,
          -4870,
          -4870
         ],
         "yaxis": "y"
        },
        {
         "hoverinfo": "text",
         "marker": {
          "color": "rgb(255,65,54)"
         },
         "mode": "lines",
         "type": "scatter",
         "x": [
          0,
          0.5471828376780898,
          0.5471828376780898,
          0
         ],
         "xaxis": "x",
         "y": [
          -4895,
          -4895,
          -4905,
          -4905
         ],
         "yaxis": "y"
        },
        {
         "hoverinfo": "text",
         "marker": {
          "color": "rgb(255,65,54)"
         },
         "mode": "lines",
         "type": "scatter",
         "x": [
          0,
          1.1359444357740494,
          1.1359444357740494,
          0.5471828376780898
         ],
         "xaxis": "x",
         "y": [
          -4885,
          -4885,
          -4900,
          -4900
         ],
         "yaxis": "y"
        },
        {
         "hoverinfo": "text",
         "marker": {
          "color": "rgb(255,65,54)"
         },
         "mode": "lines",
         "type": "scatter",
         "x": [
          0.7996255998017686,
          2.1960567580167494,
          2.1960567580167494,
          1.1359444357740494
         ],
         "xaxis": "x",
         "y": [
          -4862.5,
          -4862.5,
          -4892.5,
          -4892.5
         ],
         "yaxis": "y"
        },
        {
         "hoverinfo": "text",
         "marker": {
          "color": "rgb(255,65,54)"
         },
         "mode": "lines",
         "type": "scatter",
         "x": [
          0,
          0.5923735566855078,
          0.5923735566855078,
          0
         ],
         "xaxis": "x",
         "y": [
          -4925,
          -4925,
          -4935,
          -4935
         ],
         "yaxis": "y"
        },
        {
         "hoverinfo": "text",
         "marker": {
          "color": "rgb(255,65,54)"
         },
         "mode": "lines",
         "type": "scatter",
         "x": [
          0,
          1.1502963767247376,
          1.1502963767247376,
          0.5923735566855078
         ],
         "xaxis": "x",
         "y": [
          -4915,
          -4915,
          -4930,
          -4930
         ],
         "yaxis": "y"
        },
        {
         "hoverinfo": "text",
         "marker": {
          "color": "rgb(255,65,54)"
         },
         "mode": "lines",
         "type": "scatter",
         "x": [
          0,
          0.5763246426462085,
          0.5763246426462085,
          0
         ],
         "xaxis": "x",
         "y": [
          -4955,
          -4955,
          -4965,
          -4965
         ],
         "yaxis": "y"
        },
        {
         "hoverinfo": "text",
         "marker": {
          "color": "rgb(255,65,54)"
         },
         "mode": "lines",
         "type": "scatter",
         "x": [
          0,
          1.662245118178466,
          1.662245118178466,
          0.5763246426462085
         ],
         "xaxis": "x",
         "y": [
          -4945,
          -4945,
          -4960,
          -4960
         ],
         "yaxis": "y"
        },
        {
         "hoverinfo": "text",
         "marker": {
          "color": "rgb(255,65,54)"
         },
         "mode": "lines",
         "type": "scatter",
         "x": [
          1.1502963767247376,
          2.280624806316691,
          2.280624806316691,
          1.662245118178466
         ],
         "xaxis": "x",
         "y": [
          -4922.5,
          -4922.5,
          -4952.5,
          -4952.5
         ],
         "yaxis": "y"
        },
        {
         "hoverinfo": "text",
         "marker": {
          "color": "rgb(255,65,54)"
         },
         "mode": "lines",
         "type": "scatter",
         "x": [
          2.1960567580167494,
          3.341365461477779,
          3.341365461477779,
          2.280624806316691
         ],
         "xaxis": "x",
         "y": [
          -4877.5,
          -4877.5,
          -4937.5,
          -4937.5
         ],
         "yaxis": "y"
        },
        {
         "hoverinfo": "text",
         "marker": {
          "color": "rgb(255,65,54)"
         },
         "mode": "lines",
         "type": "scatter",
         "x": [
          2.245785696661362,
          3.9658187519344335,
          3.9658187519344335,
          3.341365461477779
         ],
         "xaxis": "x",
         "y": [
          -4797.1875,
          -4797.1875,
          -4907.5,
          -4907.5
         ],
         "yaxis": "y"
        },
        {
         "hoverinfo": "text",
         "marker": {
          "color": "rgb(255,65,54)"
         },
         "mode": "lines",
         "type": "scatter",
         "x": [
          0,
          0.6462589245557564,
          0.6462589245557564,
          0
         ],
         "xaxis": "x",
         "y": [
          -4985,
          -4985,
          -4995,
          -4995
         ],
         "yaxis": "y"
        },
        {
         "hoverinfo": "text",
         "marker": {
          "color": "rgb(255,65,54)"
         },
         "mode": "lines",
         "type": "scatter",
         "x": [
          0,
          1.1389387528692363,
          1.1389387528692363,
          0.6462589245557564
         ],
         "xaxis": "x",
         "y": [
          -4975,
          -4975,
          -4990,
          -4990
         ],
         "yaxis": "y"
        },
        {
         "hoverinfo": "text",
         "marker": {
          "color": "rgb(255,65,54)"
         },
         "mode": "lines",
         "type": "scatter",
         "x": [
          0,
          0.22927962351022985,
          0.22927962351022985,
          0
         ],
         "xaxis": "x",
         "y": [
          -5005,
          -5005,
          -5015,
          -5015
         ],
         "yaxis": "y"
        },
        {
         "hoverinfo": "text",
         "marker": {
          "color": "rgb(255,65,54)"
         },
         "mode": "lines",
         "type": "scatter",
         "x": [
          0,
          0.2507999410022014,
          0.2507999410022014,
          0
         ],
         "xaxis": "x",
         "y": [
          -5025,
          -5025,
          -5035,
          -5035
         ],
         "yaxis": "y"
        },
        {
         "hoverinfo": "text",
         "marker": {
          "color": "rgb(255,65,54)"
         },
         "mode": "lines",
         "type": "scatter",
         "x": [
          0,
          0.1630889309071156,
          0.1630889309071156,
          0
         ],
         "xaxis": "x",
         "y": [
          -5065,
          -5065,
          -5075,
          -5075
         ],
         "yaxis": "y"
        },
        {
         "hoverinfo": "text",
         "marker": {
          "color": "rgb(255,65,54)"
         },
         "mode": "lines",
         "type": "scatter",
         "x": [
          0,
          0.3011517982950959,
          0.3011517982950959,
          0.1630889309071156
         ],
         "xaxis": "x",
         "y": [
          -5055,
          -5055,
          -5070,
          -5070
         ],
         "yaxis": "y"
        },
        {
         "hoverinfo": "text",
         "marker": {
          "color": "rgb(255,65,54)"
         },
         "mode": "lines",
         "type": "scatter",
         "x": [
          0,
          0.5908463884759075,
          0.5908463884759075,
          0.3011517982950959
         ],
         "xaxis": "x",
         "y": [
          -5045,
          -5045,
          -5062.5,
          -5062.5
         ],
         "yaxis": "y"
        },
        {
         "hoverinfo": "text",
         "marker": {
          "color": "rgb(255,65,54)"
         },
         "mode": "lines",
         "type": "scatter",
         "x": [
          0.2507999410022014,
          0.8660504734951691,
          0.8660504734951691,
          0.5908463884759075
         ],
         "xaxis": "x",
         "y": [
          -5030,
          -5030,
          -5053.75,
          -5053.75
         ],
         "yaxis": "y"
        },
        {
         "hoverinfo": "text",
         "marker": {
          "color": "rgb(255,65,54)"
         },
         "mode": "lines",
         "type": "scatter",
         "x": [
          0.22927962351022985,
          1.344521370649813,
          1.344521370649813,
          0.8660504734951691
         ],
         "xaxis": "x",
         "y": [
          -5010,
          -5010,
          -5041.875,
          -5041.875
         ],
         "yaxis": "y"
        },
        {
         "hoverinfo": "text",
         "marker": {
          "color": "rgb(255,65,54)"
         },
         "mode": "lines",
         "type": "scatter",
         "x": [
          0,
          0.46533127463458324,
          0.46533127463458324,
          0
         ],
         "xaxis": "x",
         "y": [
          -5085,
          -5085,
          -5095,
          -5095
         ],
         "yaxis": "y"
        },
        {
         "hoverinfo": "text",
         "marker": {
          "color": "rgb(255,65,54)"
         },
         "mode": "lines",
         "type": "scatter",
         "x": [
          0,
          0.5416324899156535,
          0.5416324899156535,
          0
         ],
         "xaxis": "x",
         "y": [
          -5115,
          -5115,
          -5125,
          -5125
         ],
         "yaxis": "y"
        },
        {
         "hoverinfo": "text",
         "marker": {
          "color": "rgb(255,65,54)"
         },
         "mode": "lines",
         "type": "scatter",
         "x": [
          0,
          1.0172948474453458,
          1.0172948474453458,
          0.5416324899156535
         ],
         "xaxis": "x",
         "y": [
          -5105,
          -5105,
          -5120,
          -5120
         ],
         "yaxis": "y"
        },
        {
         "hoverinfo": "text",
         "marker": {
          "color": "rgb(255,65,54)"
         },
         "mode": "lines",
         "type": "scatter",
         "x": [
          0.46533127463458324,
          1.48866740476989,
          1.48866740476989,
          1.0172948474453458
         ],
         "xaxis": "x",
         "y": [
          -5090,
          -5090,
          -5112.5,
          -5112.5
         ],
         "yaxis": "y"
        },
        {
         "hoverinfo": "text",
         "marker": {
          "color": "rgb(255,65,54)"
         },
         "mode": "lines",
         "type": "scatter",
         "x": [
          1.344521370649813,
          1.983621168221351,
          1.983621168221351,
          1.48866740476989
         ],
         "xaxis": "x",
         "y": [
          -5025.9375,
          -5025.9375,
          -5101.25,
          -5101.25
         ],
         "yaxis": "y"
        },
        {
         "hoverinfo": "text",
         "marker": {
          "color": "rgb(255,65,54)"
         },
         "mode": "lines",
         "type": "scatter",
         "x": [
          1.1389387528692363,
          2.4268445085890393,
          2.4268445085890393,
          1.983621168221351
         ],
         "xaxis": "x",
         "y": [
          -4982.5,
          -4982.5,
          -5063.59375,
          -5063.59375
         ],
         "yaxis": "y"
        },
        {
         "hoverinfo": "text",
         "marker": {
          "color": "rgb(255,65,54)"
         },
         "mode": "lines",
         "type": "scatter",
         "x": [
          0,
          0.1901582163250249,
          0.1901582163250249,
          0
         ],
         "xaxis": "x",
         "y": [
          -5145,
          -5145,
          -5155,
          -5155
         ],
         "yaxis": "y"
        },
        {
         "hoverinfo": "text",
         "marker": {
          "color": "rgb(255,65,54)"
         },
         "mode": "lines",
         "type": "scatter",
         "x": [
          0,
          0.48887465876152164,
          0.48887465876152164,
          0.1901582163250249
         ],
         "xaxis": "x",
         "y": [
          -5135,
          -5135,
          -5150,
          -5150
         ],
         "yaxis": "y"
        },
        {
         "hoverinfo": "text",
         "marker": {
          "color": "rgb(255,65,54)"
         },
         "mode": "lines",
         "type": "scatter",
         "x": [
          0,
          0.5561056946604394,
          0.5561056946604394,
          0
         ],
         "xaxis": "x",
         "y": [
          -5175,
          -5175,
          -5185,
          -5185
         ],
         "yaxis": "y"
        },
        {
         "hoverinfo": "text",
         "marker": {
          "color": "rgb(255,65,54)"
         },
         "mode": "lines",
         "type": "scatter",
         "x": [
          0,
          1.5627958746766986,
          1.5627958746766986,
          0.5561056946604394
         ],
         "xaxis": "x",
         "y": [
          -5165,
          -5165,
          -5180,
          -5180
         ],
         "yaxis": "y"
        },
        {
         "hoverinfo": "text",
         "marker": {
          "color": "rgb(255,65,54)"
         },
         "mode": "lines",
         "type": "scatter",
         "x": [
          0.48887465876152164,
          2.1071197574004,
          2.1071197574004,
          1.5627958746766986
         ],
         "xaxis": "x",
         "y": [
          -5142.5,
          -5142.5,
          -5172.5,
          -5172.5
         ],
         "yaxis": "y"
        },
        {
         "hoverinfo": "text",
         "marker": {
          "color": "rgb(255,65,54)"
         },
         "mode": "lines",
         "type": "scatter",
         "x": [
          0,
          0.5750714488537242,
          0.5750714488537242,
          0
         ],
         "xaxis": "x",
         "y": [
          -5195,
          -5195,
          -5205,
          -5205
         ],
         "yaxis": "y"
        },
        {
         "hoverinfo": "text",
         "marker": {
          "color": "rgb(255,65,54)"
         },
         "mode": "lines",
         "type": "scatter",
         "x": [
          0,
          0.44059834184306745,
          0.44059834184306745,
          0
         ],
         "xaxis": "x",
         "y": [
          -5225,
          -5225,
          -5235,
          -5235
         ],
         "yaxis": "y"
        },
        {
         "hoverinfo": "text",
         "marker": {
          "color": "rgb(255,65,54)"
         },
         "mode": "lines",
         "type": "scatter",
         "x": [
          0,
          0.8026492115108389,
          0.8026492115108389,
          0.44059834184306745
         ],
         "xaxis": "x",
         "y": [
          -5215,
          -5215,
          -5230,
          -5230
         ],
         "yaxis": "y"
        },
        {
         "hoverinfo": "text",
         "marker": {
          "color": "rgb(255,65,54)"
         },
         "mode": "lines",
         "type": "scatter",
         "x": [
          0.5750714488537242,
          1.432931575270879,
          1.432931575270879,
          0.8026492115108389
         ],
         "xaxis": "x",
         "y": [
          -5200,
          -5200,
          -5222.5,
          -5222.5
         ],
         "yaxis": "y"
        },
        {
         "hoverinfo": "text",
         "marker": {
          "color": "rgb(255,65,54)"
         },
         "mode": "lines",
         "type": "scatter",
         "x": [
          0,
          0.47926118834442355,
          0.47926118834442355,
          0
         ],
         "xaxis": "x",
         "y": [
          -5255,
          -5255,
          -5265,
          -5265
         ],
         "yaxis": "y"
        },
        {
         "hoverinfo": "text",
         "marker": {
          "color": "rgb(255,65,54)"
         },
         "mode": "lines",
         "type": "scatter",
         "x": [
          0,
          0.9592542579821143,
          0.9592542579821143,
          0.47926118834442355
         ],
         "xaxis": "x",
         "y": [
          -5245,
          -5245,
          -5260,
          -5260
         ],
         "yaxis": "y"
        },
        {
         "hoverinfo": "text",
         "marker": {
          "color": "rgb(255,65,54)"
         },
         "mode": "lines",
         "type": "scatter",
         "x": [
          0,
          1.1790316189527932,
          1.1790316189527932,
          0
         ],
         "xaxis": "x",
         "y": [
          -5275,
          -5275,
          -5285,
          -5285
         ],
         "yaxis": "y"
        },
        {
         "hoverinfo": "text",
         "marker": {
          "color": "rgb(255,65,54)"
         },
         "mode": "lines",
         "type": "scatter",
         "x": [
          0.9592542579821143,
          1.9666796612398014,
          1.9666796612398014,
          1.1790316189527932
         ],
         "xaxis": "x",
         "y": [
          -5252.5,
          -5252.5,
          -5280,
          -5280
         ],
         "yaxis": "y"
        },
        {
         "hoverinfo": "text",
         "marker": {
          "color": "rgb(255,65,54)"
         },
         "mode": "lines",
         "type": "scatter",
         "x": [
          1.432931575270879,
          2.531112907751265,
          2.531112907751265,
          1.9666796612398014
         ],
         "xaxis": "x",
         "y": [
          -5211.25,
          -5211.25,
          -5266.25,
          -5266.25
         ],
         "yaxis": "y"
        },
        {
         "hoverinfo": "text",
         "marker": {
          "color": "rgb(255,65,54)"
         },
         "mode": "lines",
         "type": "scatter",
         "x": [
          2.1071197574004,
          3.282556870557501,
          3.282556870557501,
          2.531112907751265
         ],
         "xaxis": "x",
         "y": [
          -5157.5,
          -5157.5,
          -5238.75,
          -5238.75
         ],
         "yaxis": "y"
        },
        {
         "hoverinfo": "text",
         "marker": {
          "color": "rgb(255,65,54)"
         },
         "mode": "lines",
         "type": "scatter",
         "x": [
          2.4268445085890393,
          4.641434227981344,
          4.641434227981344,
          3.282556870557501
         ],
         "xaxis": "x",
         "y": [
          -5023.046875,
          -5023.046875,
          -5198.125,
          -5198.125
         ],
         "yaxis": "y"
        },
        {
         "hoverinfo": "text",
         "marker": {
          "color": "rgb(255,65,54)"
         },
         "mode": "lines",
         "type": "scatter",
         "x": [
          3.9658187519344335,
          4.929293015369287,
          4.929293015369287,
          4.641434227981344
         ],
         "xaxis": "x",
         "y": [
          -4852.34375,
          -4852.34375,
          -5110.5859375,
          -5110.5859375
         ],
         "yaxis": "y"
        },
        {
         "hoverinfo": "text",
         "marker": {
          "color": "rgb(255,65,54)"
         },
         "mode": "lines",
         "type": "scatter",
         "x": [
          2.8188865036128057,
          5.77490281578608,
          5.77490281578608,
          4.929293015369287
         ],
         "xaxis": "x",
         "y": [
          -4626.796875,
          -4626.796875,
          -4981.46484375,
          -4981.46484375
         ],
         "yaxis": "y"
        },
        {
         "hoverinfo": "text",
         "marker": {
          "color": "rgb(255,65,54)"
         },
         "mode": "lines",
         "type": "scatter",
         "x": [
          2.4325625453809177,
          7.368338499399687,
          7.368338499399687,
          5.77490281578608
         ],
         "xaxis": "x",
         "y": [
          -4454.375,
          -4454.375,
          -4804.130859375,
          -4804.130859375
         ],
         "yaxis": "y"
        },
        {
         "hoverinfo": "text",
         "marker": {
          "color": "rgb(35,205,205)"
         },
         "mode": "lines",
         "type": "scatter",
         "x": [
          0,
          0.2518760799296078,
          0.2518760799296078,
          0
         ],
         "xaxis": "x",
         "y": [
          -5325,
          -5325,
          -5335,
          -5335
         ],
         "yaxis": "y"
        },
        {
         "hoverinfo": "text",
         "marker": {
          "color": "rgb(35,205,205)"
         },
         "mode": "lines",
         "type": "scatter",
         "x": [
          0,
          0.5583391377324036,
          0.5583391377324036,
          0.2518760799296078
         ],
         "xaxis": "x",
         "y": [
          -5315,
          -5315,
          -5330,
          -5330
         ],
         "yaxis": "y"
        },
        {
         "hoverinfo": "text",
         "marker": {
          "color": "rgb(35,205,205)"
         },
         "mode": "lines",
         "type": "scatter",
         "x": [
          0,
          0.7613535388894046,
          0.7613535388894046,
          0.5583391377324036
         ],
         "xaxis": "x",
         "y": [
          -5305,
          -5305,
          -5322.5,
          -5322.5
         ],
         "yaxis": "y"
        },
        {
         "hoverinfo": "text",
         "marker": {
          "color": "rgb(35,205,205)"
         },
         "mode": "lines",
         "type": "scatter",
         "x": [
          0,
          0.5450102021145045,
          0.5450102021145045,
          0
         ],
         "xaxis": "x",
         "y": [
          -5345,
          -5345,
          -5355,
          -5355
         ],
         "yaxis": "y"
        },
        {
         "hoverinfo": "text",
         "marker": {
          "color": "rgb(35,205,205)"
         },
         "mode": "lines",
         "type": "scatter",
         "x": [
          0,
          0.5608160924150731,
          0.5608160924150731,
          0
         ],
         "xaxis": "x",
         "y": [
          -5365,
          -5365,
          -5375,
          -5375
         ],
         "yaxis": "y"
        },
        {
         "hoverinfo": "text",
         "marker": {
          "color": "rgb(35,205,205)"
         },
         "mode": "lines",
         "type": "scatter",
         "x": [
          0.5450102021145045,
          1.0308182196347075,
          1.0308182196347075,
          0.5608160924150731
         ],
         "xaxis": "x",
         "y": [
          -5350,
          -5350,
          -5370,
          -5370
         ],
         "yaxis": "y"
        },
        {
         "hoverinfo": "text",
         "marker": {
          "color": "rgb(35,205,205)"
         },
         "mode": "lines",
         "type": "scatter",
         "x": [
          0.7613535388894046,
          1.4864040371910774,
          1.4864040371910774,
          1.0308182196347075
         ],
         "xaxis": "x",
         "y": [
          -5313.75,
          -5313.75,
          -5360,
          -5360
         ],
         "yaxis": "y"
        },
        {
         "hoverinfo": "text",
         "marker": {
          "color": "rgb(35,205,205)"
         },
         "mode": "lines",
         "type": "scatter",
         "x": [
          0,
          0.8839128586877141,
          0.8839128586877141,
          0
         ],
         "xaxis": "x",
         "y": [
          -5385,
          -5385,
          -5395,
          -5395
         ],
         "yaxis": "y"
        },
        {
         "hoverinfo": "text",
         "marker": {
          "color": "rgb(35,205,205)"
         },
         "mode": "lines",
         "type": "scatter",
         "x": [
          0,
          0.36261948845583,
          0.36261948845583,
          0
         ],
         "xaxis": "x",
         "y": [
          -5415,
          -5415,
          -5425,
          -5425
         ],
         "yaxis": "y"
        },
        {
         "hoverinfo": "text",
         "marker": {
          "color": "rgb(35,205,205)"
         },
         "mode": "lines",
         "type": "scatter",
         "x": [
          0,
          0.547339716733593,
          0.547339716733593,
          0.36261948845583
         ],
         "xaxis": "x",
         "y": [
          -5405,
          -5405,
          -5420,
          -5420
         ],
         "yaxis": "y"
        },
        {
         "hoverinfo": "text",
         "marker": {
          "color": "rgb(35,205,205)"
         },
         "mode": "lines",
         "type": "scatter",
         "x": [
          0,
          0.21518053013671332,
          0.21518053013671332,
          0
         ],
         "xaxis": "x",
         "y": [
          -5435,
          -5435,
          -5445,
          -5445
         ],
         "yaxis": "y"
        },
        {
         "hoverinfo": "text",
         "marker": {
          "color": "rgb(35,205,205)"
         },
         "mode": "lines",
         "type": "scatter",
         "x": [
          0,
          0.2364633114383245,
          0.2364633114383245,
          0
         ],
         "xaxis": "x",
         "y": [
          -5455,
          -5455,
          -5465,
          -5465
         ],
         "yaxis": "y"
        },
        {
         "hoverinfo": "text",
         "marker": {
          "color": "rgb(35,205,205)"
         },
         "mode": "lines",
         "type": "scatter",
         "x": [
          0.21518053013671332,
          0.5935603334581707,
          0.5935603334581707,
          0.2364633114383245
         ],
         "xaxis": "x",
         "y": [
          -5440,
          -5440,
          -5460,
          -5460
         ],
         "yaxis": "y"
        },
        {
         "hoverinfo": "text",
         "marker": {
          "color": "rgb(35,205,205)"
         },
         "mode": "lines",
         "type": "scatter",
         "x": [
          0.547339716733593,
          1.3025033200941993,
          1.3025033200941993,
          0.5935603334581707
         ],
         "xaxis": "x",
         "y": [
          -5412.5,
          -5412.5,
          -5450,
          -5450
         ],
         "yaxis": "y"
        },
        {
         "hoverinfo": "text",
         "marker": {
          "color": "rgb(35,205,205)"
         },
         "mode": "lines",
         "type": "scatter",
         "x": [
          0.8839128586877141,
          1.7700809408789668,
          1.7700809408789668,
          1.3025033200941993
         ],
         "xaxis": "x",
         "y": [
          -5390,
          -5390,
          -5431.25,
          -5431.25
         ],
         "yaxis": "y"
        },
        {
         "hoverinfo": "text",
         "marker": {
          "color": "rgb(35,205,205)"
         },
         "mode": "lines",
         "type": "scatter",
         "x": [
          1.4864040371910774,
          2.3537166265060137,
          2.3537166265060137,
          1.7700809408789668
         ],
         "xaxis": "x",
         "y": [
          -5336.875,
          -5336.875,
          -5410.625,
          -5410.625
         ],
         "yaxis": "y"
        },
        {
         "hoverinfo": "text",
         "marker": {
          "color": "rgb(35,205,205)"
         },
         "mode": "lines",
         "type": "scatter",
         "x": [
          0,
          0.4655678257780388,
          0.4655678257780388,
          0
         ],
         "xaxis": "x",
         "y": [
          -5485,
          -5485,
          -5495,
          -5495
         ],
         "yaxis": "y"
        },
        {
         "hoverinfo": "text",
         "marker": {
          "color": "rgb(35,205,205)"
         },
         "mode": "lines",
         "type": "scatter",
         "x": [
          0,
          1.0640017704661169,
          1.0640017704661169,
          0.4655678257780388
         ],
         "xaxis": "x",
         "y": [
          -5475,
          -5475,
          -5490,
          -5490
         ],
         "yaxis": "y"
        },
        {
         "hoverinfo": "text",
         "marker": {
          "color": "rgb(35,205,205)"
         },
         "mode": "lines",
         "type": "scatter",
         "x": [
          0,
          0.37143918588678737,
          0.37143918588678737,
          0
         ],
         "xaxis": "x",
         "y": [
          -5505,
          -5505,
          -5515,
          -5515
         ],
         "yaxis": "y"
        },
        {
         "hoverinfo": "text",
         "marker": {
          "color": "rgb(35,205,205)"
         },
         "mode": "lines",
         "type": "scatter",
         "x": [
          0,
          0.14946387798845331,
          0.14946387798845331,
          0
         ],
         "xaxis": "x",
         "y": [
          -5535,
          -5535,
          -5545,
          -5545
         ],
         "yaxis": "y"
        },
        {
         "hoverinfo": "text",
         "marker": {
          "color": "rgb(35,205,205)"
         },
         "mode": "lines",
         "type": "scatter",
         "x": [
          0,
          0.404449983051412,
          0.404449983051412,
          0.14946387798845331
         ],
         "xaxis": "x",
         "y": [
          -5525,
          -5525,
          -5540,
          -5540
         ],
         "yaxis": "y"
        },
        {
         "hoverinfo": "text",
         "marker": {
          "color": "rgb(35,205,205)"
         },
         "mode": "lines",
         "type": "scatter",
         "x": [
          0.37143918588678737,
          0.9192758515988173,
          0.9192758515988173,
          0.404449983051412
         ],
         "xaxis": "x",
         "y": [
          -5510,
          -5510,
          -5532.5,
          -5532.5
         ],
         "yaxis": "y"
        },
        {
         "hoverinfo": "text",
         "marker": {
          "color": "rgb(35,205,205)"
         },
         "mode": "lines",
         "type": "scatter",
         "x": [
          0,
          0.12921888273906454,
          0.12921888273906454,
          0
         ],
         "xaxis": "x",
         "y": [
          -5565,
          -5565,
          -5575,
          -5575
         ],
         "yaxis": "y"
        },
        {
         "hoverinfo": "text",
         "marker": {
          "color": "rgb(35,205,205)"
         },
         "mode": "lines",
         "type": "scatter",
         "x": [
          0,
          0.5514511295564903,
          0.5514511295564903,
          0.12921888273906454
         ],
         "xaxis": "x",
         "y": [
          -5555,
          -5555,
          -5570,
          -5570
         ],
         "yaxis": "y"
        },
        {
         "hoverinfo": "text",
         "marker": {
          "color": "rgb(35,205,205)"
         },
         "mode": "lines",
         "type": "scatter",
         "x": [
          0,
          0.23753039151821348,
          0.23753039151821348,
          0
         ],
         "xaxis": "x",
         "y": [
          -5595,
          -5595,
          -5605,
          -5605
         ],
         "yaxis": "y"
        },
        {
         "hoverinfo": "text",
         "marker": {
          "color": "rgb(35,205,205)"
         },
         "mode": "lines",
         "type": "scatter",
         "x": [
          0,
          0.6179512918509249,
          0.6179512918509249,
          0.23753039151821348
         ],
         "xaxis": "x",
         "y": [
          -5585,
          -5585,
          -5600,
          -5600
         ],
         "yaxis": "y"
        },
        {
         "hoverinfo": "text",
         "marker": {
          "color": "rgb(35,205,205)"
         },
         "mode": "lines",
         "type": "scatter",
         "x": [
          0.5514511295564903,
          1.0769790942021502,
          1.0769790942021502,
          0.6179512918509249
         ],
         "xaxis": "x",
         "y": [
          -5562.5,
          -5562.5,
          -5592.5,
          -5592.5
         ],
         "yaxis": "y"
        },
        {
         "hoverinfo": "text",
         "marker": {
          "color": "rgb(35,205,205)"
         },
         "mode": "lines",
         "type": "scatter",
         "x": [
          0.9192758515988173,
          1.6750287618742739,
          1.6750287618742739,
          1.0769790942021502
         ],
         "xaxis": "x",
         "y": [
          -5521.25,
          -5521.25,
          -5577.5,
          -5577.5
         ],
         "yaxis": "y"
        },
        {
         "hoverinfo": "text",
         "marker": {
          "color": "rgb(35,205,205)"
         },
         "mode": "lines",
         "type": "scatter",
         "x": [
          1.0640017704661169,
          1.9288122429011207,
          1.9288122429011207,
          1.6750287618742739
         ],
         "xaxis": "x",
         "y": [
          -5482.5,
          -5482.5,
          -5549.375,
          -5549.375
         ],
         "yaxis": "y"
        },
        {
         "hoverinfo": "text",
         "marker": {
          "color": "rgb(35,205,205)"
         },
         "mode": "lines",
         "type": "scatter",
         "x": [
          0,
          0.48493795255201905,
          0.48493795255201905,
          0
         ],
         "xaxis": "x",
         "y": [
          -5615,
          -5615,
          -5625,
          -5625
         ],
         "yaxis": "y"
        },
        {
         "hoverinfo": "text",
         "marker": {
          "color": "rgb(35,205,205)"
         },
         "mode": "lines",
         "type": "scatter",
         "x": [
          0,
          0.07580060963843865,
          0.07580060963843865,
          0
         ],
         "xaxis": "x",
         "y": [
          -5645,
          -5645,
          -5655,
          -5655
         ],
         "yaxis": "y"
        },
        {
         "hoverinfo": "text",
         "marker": {
          "color": "rgb(35,205,205)"
         },
         "mode": "lines",
         "type": "scatter",
         "x": [
          0,
          0.3910105815258913,
          0.3910105815258913,
          0.07580060963843865
         ],
         "xaxis": "x",
         "y": [
          -5635,
          -5635,
          -5650,
          -5650
         ],
         "yaxis": "y"
        },
        {
         "hoverinfo": "text",
         "marker": {
          "color": "rgb(35,205,205)"
         },
         "mode": "lines",
         "type": "scatter",
         "x": [
          0,
          0.4209186602005319,
          0.4209186602005319,
          0
         ],
         "xaxis": "x",
         "y": [
          -5665,
          -5665,
          -5675,
          -5675
         ],
         "yaxis": "y"
        },
        {
         "hoverinfo": "text",
         "marker": {
          "color": "rgb(35,205,205)"
         },
         "mode": "lines",
         "type": "scatter",
         "x": [
          0.3910105815258913,
          0.8367002545129837,
          0.8367002545129837,
          0.4209186602005319
         ],
         "xaxis": "x",
         "y": [
          -5642.5,
          -5642.5,
          -5670,
          -5670
         ],
         "yaxis": "y"
        },
        {
         "hoverinfo": "text",
         "marker": {
          "color": "rgb(35,205,205)"
         },
         "mode": "lines",
         "type": "scatter",
         "x": [
          0.48493795255201905,
          0.9438203865643243,
          0.9438203865643243,
          0.8367002545129837
         ],
         "xaxis": "x",
         "y": [
          -5620,
          -5620,
          -5656.25,
          -5656.25
         ],
         "yaxis": "y"
        },
        {
         "hoverinfo": "text",
         "marker": {
          "color": "rgb(35,205,205)"
         },
         "mode": "lines",
         "type": "scatter",
         "x": [
          0,
          0.61182096867302,
          0.61182096867302,
          0
         ],
         "xaxis": "x",
         "y": [
          -5685,
          -5685,
          -5695,
          -5695
         ],
         "yaxis": "y"
        },
        {
         "hoverinfo": "text",
         "marker": {
          "color": "rgb(35,205,205)"
         },
         "mode": "lines",
         "type": "scatter",
         "x": [
          0,
          0.2898803773192356,
          0.2898803773192356,
          0
         ],
         "xaxis": "x",
         "y": [
          -5705,
          -5705,
          -5715,
          -5715
         ],
         "yaxis": "y"
        },
        {
         "hoverinfo": "text",
         "marker": {
          "color": "rgb(35,205,205)"
         },
         "mode": "lines",
         "type": "scatter",
         "x": [
          0,
          0.38535045935455836,
          0.38535045935455836,
          0
         ],
         "xaxis": "x",
         "y": [
          -5725,
          -5725,
          -5735,
          -5735
         ],
         "yaxis": "y"
        },
        {
         "hoverinfo": "text",
         "marker": {
          "color": "rgb(35,205,205)"
         },
         "mode": "lines",
         "type": "scatter",
         "x": [
          0.2898803773192356,
          1.1388001578639346,
          1.1388001578639346,
          0.38535045935455836
         ],
         "xaxis": "x",
         "y": [
          -5710,
          -5710,
          -5730,
          -5730
         ],
         "yaxis": "y"
        },
        {
         "hoverinfo": "text",
         "marker": {
          "color": "rgb(35,205,205)"
         },
         "mode": "lines",
         "type": "scatter",
         "x": [
          0.61182096867302,
          1.3475814092870084,
          1.3475814092870084,
          1.1388001578639346
         ],
         "xaxis": "x",
         "y": [
          -5690,
          -5690,
          -5720,
          -5720
         ],
         "yaxis": "y"
        },
        {
         "hoverinfo": "text",
         "marker": {
          "color": "rgb(35,205,205)"
         },
         "mode": "lines",
         "type": "scatter",
         "x": [
          0.9438203865643243,
          2.1435959183894444,
          2.1435959183894444,
          1.3475814092870084
         ],
         "xaxis": "x",
         "y": [
          -5638.125,
          -5638.125,
          -5705,
          -5705
         ],
         "yaxis": "y"
        },
        {
         "hoverinfo": "text",
         "marker": {
          "color": "rgb(35,205,205)"
         },
         "mode": "lines",
         "type": "scatter",
         "x": [
          1.9288122429011207,
          3.186166239980975,
          3.186166239980975,
          2.1435959183894444
         ],
         "xaxis": "x",
         "y": [
          -5515.9375,
          -5515.9375,
          -5671.5625,
          -5671.5625
         ],
         "yaxis": "y"
        },
        {
         "hoverinfo": "text",
         "marker": {
          "color": "rgb(35,205,205)"
         },
         "mode": "lines",
         "type": "scatter",
         "x": [
          2.3537166265060137,
          3.904686681298531,
          3.904686681298531,
          3.186166239980975
         ],
         "xaxis": "x",
         "y": [
          -5373.75,
          -5373.75,
          -5593.75,
          -5593.75
         ],
         "yaxis": "y"
        },
        {
         "hoverinfo": "text",
         "marker": {
          "color": "rgb(35,205,205)"
         },
         "mode": "lines",
         "type": "scatter",
         "x": [
          0,
          0.8178026832515699,
          0.8178026832515699,
          0
         ],
         "xaxis": "x",
         "y": [
          -5745,
          -5745,
          -5755,
          -5755
         ],
         "yaxis": "y"
        },
        {
         "hoverinfo": "text",
         "marker": {
          "color": "rgb(35,205,205)"
         },
         "mode": "lines",
         "type": "scatter",
         "x": [
          0,
          0.3467912524123025,
          0.3467912524123025,
          0
         ],
         "xaxis": "x",
         "y": [
          -5775,
          -5775,
          -5785,
          -5785
         ],
         "yaxis": "y"
        },
        {
         "hoverinfo": "text",
         "marker": {
          "color": "rgb(35,205,205)"
         },
         "mode": "lines",
         "type": "scatter",
         "x": [
          0,
          1.1908876760685065,
          1.1908876760685065,
          0.3467912524123025
         ],
         "xaxis": "x",
         "y": [
          -5765,
          -5765,
          -5780,
          -5780
         ],
         "yaxis": "y"
        },
        {
         "hoverinfo": "text",
         "marker": {
          "color": "rgb(35,205,205)"
         },
         "mode": "lines",
         "type": "scatter",
         "x": [
          0.8178026832515699,
          2.3331261456306422,
          2.3331261456306422,
          1.1908876760685065
         ],
         "xaxis": "x",
         "y": [
          -5750,
          -5750,
          -5772.5,
          -5772.5
         ],
         "yaxis": "y"
        },
        {
         "hoverinfo": "text",
         "marker": {
          "color": "rgb(35,205,205)"
         },
         "mode": "lines",
         "type": "scatter",
         "x": [
          0,
          0.2415362847294113,
          0.2415362847294113,
          0
         ],
         "xaxis": "x",
         "y": [
          -5805,
          -5805,
          -5815,
          -5815
         ],
         "yaxis": "y"
        },
        {
         "hoverinfo": "text",
         "marker": {
          "color": "rgb(35,205,205)"
         },
         "mode": "lines",
         "type": "scatter",
         "x": [
          0,
          0.7431128999061447,
          0.7431128999061447,
          0.2415362847294113
         ],
         "xaxis": "x",
         "y": [
          -5795,
          -5795,
          -5810,
          -5810
         ],
         "yaxis": "y"
        },
        {
         "hoverinfo": "text",
         "marker": {
          "color": "rgb(35,205,205)"
         },
         "mode": "lines",
         "type": "scatter",
         "x": [
          0,
          0.18451712976474843,
          0.18451712976474843,
          0
         ],
         "xaxis": "x",
         "y": [
          -5845,
          -5845,
          -5855,
          -5855
         ],
         "yaxis": "y"
        },
        {
         "hoverinfo": "text",
         "marker": {
          "color": "rgb(35,205,205)"
         },
         "mode": "lines",
         "type": "scatter",
         "x": [
          0,
          0.4702217635651824,
          0.4702217635651824,
          0.18451712976474843
         ],
         "xaxis": "x",
         "y": [
          -5835,
          -5835,
          -5850,
          -5850
         ],
         "yaxis": "y"
        },
        {
         "hoverinfo": "text",
         "marker": {
          "color": "rgb(35,205,205)"
         },
         "mode": "lines",
         "type": "scatter",
         "x": [
          0,
          0.8683202424788874,
          0.8683202424788874,
          0.4702217635651824
         ],
         "xaxis": "x",
         "y": [
          -5825,
          -5825,
          -5842.5,
          -5842.5
         ],
         "yaxis": "y"
        },
        {
         "hoverinfo": "text",
         "marker": {
          "color": "rgb(35,205,205)"
         },
         "mode": "lines",
         "type": "scatter",
         "x": [
          0.7431128999061447,
          1.6384676439228933,
          1.6384676439228933,
          0.8683202424788874
         ],
         "xaxis": "x",
         "y": [
          -5802.5,
          -5802.5,
          -5833.75,
          -5833.75
         ],
         "yaxis": "y"
        },
        {
         "hoverinfo": "text",
         "marker": {
          "color": "rgb(35,205,205)"
         },
         "mode": "lines",
         "type": "scatter",
         "x": [
          0,
          0.26145194985583114,
          0.26145194985583114,
          0
         ],
         "xaxis": "x",
         "y": [
          -5865,
          -5865,
          -5875,
          -5875
         ],
         "yaxis": "y"
        },
        {
         "hoverinfo": "text",
         "marker": {
          "color": "rgb(35,205,205)"
         },
         "mode": "lines",
         "type": "scatter",
         "x": [
          0,
          0.3451138222770118,
          0.3451138222770118,
          0
         ],
         "xaxis": "x",
         "y": [
          -5885,
          -5885,
          -5895,
          -5895
         ],
         "yaxis": "y"
        },
        {
         "hoverinfo": "text",
         "marker": {
          "color": "rgb(35,205,205)"
         },
         "mode": "lines",
         "type": "scatter",
         "x": [
          0.26145194985583114,
          0.4767621990688566,
          0.4767621990688566,
          0.3451138222770118
         ],
         "xaxis": "x",
         "y": [
          -5870,
          -5870,
          -5890,
          -5890
         ],
         "yaxis": "y"
        },
        {
         "hoverinfo": "text",
         "marker": {
          "color": "rgb(35,205,205)"
         },
         "mode": "lines",
         "type": "scatter",
         "x": [
          0,
          0.18551743731313836,
          0.18551743731313836,
          0
         ],
         "xaxis": "x",
         "y": [
          -5925,
          -5925,
          -5935,
          -5935
         ],
         "yaxis": "y"
        },
        {
         "hoverinfo": "text",
         "marker": {
          "color": "rgb(35,205,205)"
         },
         "mode": "lines",
         "type": "scatter",
         "x": [
          0,
          0.2722573213485657,
          0.2722573213485657,
          0.18551743731313836
         ],
         "xaxis": "x",
         "y": [
          -5915,
          -5915,
          -5930,
          -5930
         ],
         "yaxis": "y"
        },
        {
         "hoverinfo": "text",
         "marker": {
          "color": "rgb(35,205,205)"
         },
         "mode": "lines",
         "type": "scatter",
         "x": [
          0,
          0.5573775362043492,
          0.5573775362043492,
          0.2722573213485657
         ],
         "xaxis": "x",
         "y": [
          -5905,
          -5905,
          -5922.5,
          -5922.5
         ],
         "yaxis": "y"
        },
        {
         "hoverinfo": "text",
         "marker": {
          "color": "rgb(35,205,205)"
         },
         "mode": "lines",
         "type": "scatter",
         "x": [
          0.4767621990688566,
          1.1010836293985646,
          1.1010836293985646,
          0.5573775362043492
         ],
         "xaxis": "x",
         "y": [
          -5880,
          -5880,
          -5913.75,
          -5913.75
         ],
         "yaxis": "y"
        },
        {
         "hoverinfo": "text",
         "marker": {
          "color": "rgb(35,205,205)"
         },
         "mode": "lines",
         "type": "scatter",
         "x": [
          0,
          0.2715218459981563,
          0.2715218459981563,
          0
         ],
         "xaxis": "x",
         "y": [
          -5945,
          -5945,
          -5955,
          -5955
         ],
         "yaxis": "y"
        },
        {
         "hoverinfo": "text",
         "marker": {
          "color": "rgb(35,205,205)"
         },
         "mode": "lines",
         "type": "scatter",
         "x": [
          0,
          0.5709486521773771,
          0.5709486521773771,
          0
         ],
         "xaxis": "x",
         "y": [
          -5965,
          -5965,
          -5975,
          -5975
         ],
         "yaxis": "y"
        },
        {
         "hoverinfo": "text",
         "marker": {
          "color": "rgb(35,205,205)"
         },
         "mode": "lines",
         "type": "scatter",
         "x": [
          0.2715218459981563,
          0.9530473279659606,
          0.9530473279659606,
          0.5709486521773771
         ],
         "xaxis": "x",
         "y": [
          -5950,
          -5950,
          -5970,
          -5970
         ],
         "yaxis": "y"
        },
        {
         "hoverinfo": "text",
         "marker": {
          "color": "rgb(35,205,205)"
         },
         "mode": "lines",
         "type": "scatter",
         "x": [
          0,
          0.5907001189470772,
          0.5907001189470772,
          0
         ],
         "xaxis": "x",
         "y": [
          -5985,
          -5985,
          -5995,
          -5995
         ],
         "yaxis": "y"
        },
        {
         "hoverinfo": "text",
         "marker": {
          "color": "rgb(35,205,205)"
         },
         "mode": "lines",
         "type": "scatter",
         "x": [
          0,
          0.19912840788040115,
          0.19912840788040115,
          0
         ],
         "xaxis": "x",
         "y": [
          -6005,
          -6005,
          -6015,
          -6015
         ],
         "yaxis": "y"
        },
        {
         "hoverinfo": "text",
         "marker": {
          "color": "rgb(35,205,205)"
         },
         "mode": "lines",
         "type": "scatter",
         "x": [
          0,
          0.4410600356288388,
          0.4410600356288388,
          0
         ],
         "xaxis": "x",
         "y": [
          -6025,
          -6025,
          -6035,
          -6035
         ],
         "yaxis": "y"
        },
        {
         "hoverinfo": "text",
         "marker": {
          "color": "rgb(35,205,205)"
         },
         "mode": "lines",
         "type": "scatter",
         "x": [
          0.19912840788040115,
          0.8413106604489524,
          0.8413106604489524,
          0.4410600356288388
         ],
         "xaxis": "x",
         "y": [
          -6010,
          -6010,
          -6030,
          -6030
         ],
         "yaxis": "y"
        },
        {
         "hoverinfo": "text",
         "marker": {
          "color": "rgb(35,205,205)"
         },
         "mode": "lines",
         "type": "scatter",
         "x": [
          0.5907001189470772,
          1.1920805427050516,
          1.1920805427050516,
          0.8413106604489524
         ],
         "xaxis": "x",
         "y": [
          -5990,
          -5990,
          -6020,
          -6020
         ],
         "yaxis": "y"
        },
        {
         "hoverinfo": "text",
         "marker": {
          "color": "rgb(35,205,205)"
         },
         "mode": "lines",
         "type": "scatter",
         "x": [
          0.9530473279659606,
          1.6666744113024858,
          1.6666744113024858,
          1.1920805427050516
         ],
         "xaxis": "x",
         "y": [
          -5960,
          -5960,
          -6005,
          -6005
         ],
         "yaxis": "y"
        },
        {
         "hoverinfo": "text",
         "marker": {
          "color": "rgb(35,205,205)"
         },
         "mode": "lines",
         "type": "scatter",
         "x": [
          1.1010836293985646,
          1.9925690209120148,
          1.9925690209120148,
          1.6666744113024858
         ],
         "xaxis": "x",
         "y": [
          -5896.875,
          -5896.875,
          -5982.5,
          -5982.5
         ],
         "yaxis": "y"
        },
        {
         "hoverinfo": "text",
         "marker": {
          "color": "rgb(35,205,205)"
         },
         "mode": "lines",
         "type": "scatter",
         "x": [
          1.6384676439228933,
          2.7587866816552644,
          2.7587866816552644,
          1.9925690209120148
         ],
         "xaxis": "x",
         "y": [
          -5818.125,
          -5818.125,
          -5939.6875,
          -5939.6875
         ],
         "yaxis": "y"
        },
        {
         "hoverinfo": "text",
         "marker": {
          "color": "rgb(35,205,205)"
         },
         "mode": "lines",
         "type": "scatter",
         "x": [
          2.3331261456306422,
          4.171265092167583,
          4.171265092167583,
          2.7587866816552644
         ],
         "xaxis": "x",
         "y": [
          -5761.25,
          -5761.25,
          -5878.90625,
          -5878.90625
         ],
         "yaxis": "y"
        },
        {
         "hoverinfo": "text",
         "marker": {
          "color": "rgb(35,205,205)"
         },
         "mode": "lines",
         "type": "scatter",
         "x": [
          3.904686681298531,
          5.945600834631479,
          5.945600834631479,
          4.171265092167583
         ],
         "xaxis": "x",
         "y": [
          -5483.75,
          -5483.75,
          -5820.078125,
          -5820.078125
         ],
         "yaxis": "y"
        },
        {
         "hoverinfo": "text",
         "marker": {
          "color": "rgb(35,205,205)"
         },
         "mode": "lines",
         "type": "scatter",
         "x": [
          0,
          7.962895015415673,
          7.962895015415673,
          5.945600834631479
         ],
         "xaxis": "x",
         "y": [
          -5295,
          -5295,
          -5651.9140625,
          -5651.9140625
         ],
         "yaxis": "y"
        },
        {
         "hoverinfo": "text",
         "marker": {
          "color": "rgb(0,116,217)"
         },
         "mode": "lines",
         "type": "scatter",
         "x": [
          7.368338499399687,
          10.178153566751968,
          10.178153566751968,
          7.962895015415673
         ],
         "xaxis": "x",
         "y": [
          -4629.2529296875,
          -4629.2529296875,
          -5473.45703125,
          -5473.45703125
         ],
         "yaxis": "y"
        },
        {
         "hoverinfo": "text",
         "marker": {
          "color": "rgb(0,116,217)"
         },
         "mode": "lines",
         "type": "scatter",
         "x": [
          8.33724249335741,
          12.664956024839215,
          12.664956024839215,
          10.178153566751968
         ],
         "xaxis": "x",
         "y": [
          -3460.7177734375,
          -3460.7177734375,
          -5051.35498046875,
          -5051.35498046875
         ],
         "yaxis": "y"
        },
        {
         "hoverinfo": "text",
         "marker": {
          "color": "rgb(0,116,217)"
         },
         "mode": "lines",
         "type": "scatter",
         "x": [
          6.811167640153109,
          16.945677388138165,
          16.945677388138165,
          12.664956024839215
         ],
         "xaxis": "x",
         "y": [
          -2772.65625,
          -2772.65625,
          -4256.036376953125,
          -4256.036376953125
         ],
         "yaxis": "y"
        },
        {
         "hoverinfo": "text",
         "marker": {
          "color": "rgb(0,116,217)"
         },
         "mode": "lines",
         "type": "scatter",
         "x": [
          14.313946461308074,
          26.375225117522696,
          26.375225117522696,
          16.945677388138165
         ],
         "xaxis": "x",
         "y": [
          -1875.23681640625,
          -1875.23681640625,
          -3514.3463134765625,
          -3514.3463134765625
         ],
         "yaxis": "y"
        },
        {
         "hoverinfo": "text",
         "marker": {
          "color": "rgb(0,116,217)"
         },
         "mode": "lines",
         "type": "scatter",
         "x": [
          18.93826960299054,
          33.436544378867865,
          33.436544378867865,
          26.375225117522696
         ],
         "xaxis": "x",
         "y": [
          -66.71875,
          -66.71875,
          -2694.7915649414062,
          -2694.7915649414062
         ],
         "yaxis": "y"
        },
        {
         "hoverinfo": "text",
         "marker": {
          "color": "rgb(0,116,217)"
         },
         "mode": "lines",
         "type": "scatter",
         "x": [
          12.807126922147685,
          45.612498287201944,
          45.612498287201944,
          33.436544378867865
         ],
         "xaxis": "x",
         "y": [
          -20,
          -20,
          -1380.7551574707031,
          -1380.7551574707031
         ],
         "yaxis": "y"
        }
       ],
       "layout": {
        "autosize": false,
        "height": null,
        "hovermode": "closest",
        "showlegend": false,
        "template": {
         "data": {
          "bar": [
           {
            "error_x": {
             "color": "#2a3f5f"
            },
            "error_y": {
             "color": "#2a3f5f"
            },
            "marker": {
             "line": {
              "color": "#E5ECF6",
              "width": 0.5
             },
             "pattern": {
              "fillmode": "overlay",
              "size": 10,
              "solidity": 0.2
             }
            },
            "type": "bar"
           }
          ],
          "barpolar": [
           {
            "marker": {
             "line": {
              "color": "#E5ECF6",
              "width": 0.5
             },
             "pattern": {
              "fillmode": "overlay",
              "size": 10,
              "solidity": 0.2
             }
            },
            "type": "barpolar"
           }
          ],
          "carpet": [
           {
            "aaxis": {
             "endlinecolor": "#2a3f5f",
             "gridcolor": "white",
             "linecolor": "white",
             "minorgridcolor": "white",
             "startlinecolor": "#2a3f5f"
            },
            "baxis": {
             "endlinecolor": "#2a3f5f",
             "gridcolor": "white",
             "linecolor": "white",
             "minorgridcolor": "white",
             "startlinecolor": "#2a3f5f"
            },
            "type": "carpet"
           }
          ],
          "choropleth": [
           {
            "colorbar": {
             "outlinewidth": 0,
             "ticks": ""
            },
            "type": "choropleth"
           }
          ],
          "contour": [
           {
            "colorbar": {
             "outlinewidth": 0,
             "ticks": ""
            },
            "colorscale": [
             [
              0,
              "#0d0887"
             ],
             [
              0.1111111111111111,
              "#46039f"
             ],
             [
              0.2222222222222222,
              "#7201a8"
             ],
             [
              0.3333333333333333,
              "#9c179e"
             ],
             [
              0.4444444444444444,
              "#bd3786"
             ],
             [
              0.5555555555555556,
              "#d8576b"
             ],
             [
              0.6666666666666666,
              "#ed7953"
             ],
             [
              0.7777777777777778,
              "#fb9f3a"
             ],
             [
              0.8888888888888888,
              "#fdca26"
             ],
             [
              1,
              "#f0f921"
             ]
            ],
            "type": "contour"
           }
          ],
          "contourcarpet": [
           {
            "colorbar": {
             "outlinewidth": 0,
             "ticks": ""
            },
            "type": "contourcarpet"
           }
          ],
          "heatmap": [
           {
            "colorbar": {
             "outlinewidth": 0,
             "ticks": ""
            },
            "colorscale": [
             [
              0,
              "#0d0887"
             ],
             [
              0.1111111111111111,
              "#46039f"
             ],
             [
              0.2222222222222222,
              "#7201a8"
             ],
             [
              0.3333333333333333,
              "#9c179e"
             ],
             [
              0.4444444444444444,
              "#bd3786"
             ],
             [
              0.5555555555555556,
              "#d8576b"
             ],
             [
              0.6666666666666666,
              "#ed7953"
             ],
             [
              0.7777777777777778,
              "#fb9f3a"
             ],
             [
              0.8888888888888888,
              "#fdca26"
             ],
             [
              1,
              "#f0f921"
             ]
            ],
            "type": "heatmap"
           }
          ],
          "heatmapgl": [
           {
            "colorbar": {
             "outlinewidth": 0,
             "ticks": ""
            },
            "colorscale": [
             [
              0,
              "#0d0887"
             ],
             [
              0.1111111111111111,
              "#46039f"
             ],
             [
              0.2222222222222222,
              "#7201a8"
             ],
             [
              0.3333333333333333,
              "#9c179e"
             ],
             [
              0.4444444444444444,
              "#bd3786"
             ],
             [
              0.5555555555555556,
              "#d8576b"
             ],
             [
              0.6666666666666666,
              "#ed7953"
             ],
             [
              0.7777777777777778,
              "#fb9f3a"
             ],
             [
              0.8888888888888888,
              "#fdca26"
             ],
             [
              1,
              "#f0f921"
             ]
            ],
            "type": "heatmapgl"
           }
          ],
          "histogram": [
           {
            "marker": {
             "pattern": {
              "fillmode": "overlay",
              "size": 10,
              "solidity": 0.2
             }
            },
            "type": "histogram"
           }
          ],
          "histogram2d": [
           {
            "colorbar": {
             "outlinewidth": 0,
             "ticks": ""
            },
            "colorscale": [
             [
              0,
              "#0d0887"
             ],
             [
              0.1111111111111111,
              "#46039f"
             ],
             [
              0.2222222222222222,
              "#7201a8"
             ],
             [
              0.3333333333333333,
              "#9c179e"
             ],
             [
              0.4444444444444444,
              "#bd3786"
             ],
             [
              0.5555555555555556,
              "#d8576b"
             ],
             [
              0.6666666666666666,
              "#ed7953"
             ],
             [
              0.7777777777777778,
              "#fb9f3a"
             ],
             [
              0.8888888888888888,
              "#fdca26"
             ],
             [
              1,
              "#f0f921"
             ]
            ],
            "type": "histogram2d"
           }
          ],
          "histogram2dcontour": [
           {
            "colorbar": {
             "outlinewidth": 0,
             "ticks": ""
            },
            "colorscale": [
             [
              0,
              "#0d0887"
             ],
             [
              0.1111111111111111,
              "#46039f"
             ],
             [
              0.2222222222222222,
              "#7201a8"
             ],
             [
              0.3333333333333333,
              "#9c179e"
             ],
             [
              0.4444444444444444,
              "#bd3786"
             ],
             [
              0.5555555555555556,
              "#d8576b"
             ],
             [
              0.6666666666666666,
              "#ed7953"
             ],
             [
              0.7777777777777778,
              "#fb9f3a"
             ],
             [
              0.8888888888888888,
              "#fdca26"
             ],
             [
              1,
              "#f0f921"
             ]
            ],
            "type": "histogram2dcontour"
           }
          ],
          "mesh3d": [
           {
            "colorbar": {
             "outlinewidth": 0,
             "ticks": ""
            },
            "type": "mesh3d"
           }
          ],
          "parcoords": [
           {
            "line": {
             "colorbar": {
              "outlinewidth": 0,
              "ticks": ""
             }
            },
            "type": "parcoords"
           }
          ],
          "pie": [
           {
            "automargin": true,
            "type": "pie"
           }
          ],
          "scatter": [
           {
            "fillpattern": {
             "fillmode": "overlay",
             "size": 10,
             "solidity": 0.2
            },
            "type": "scatter"
           }
          ],
          "scatter3d": [
           {
            "line": {
             "colorbar": {
              "outlinewidth": 0,
              "ticks": ""
             }
            },
            "marker": {
             "colorbar": {
              "outlinewidth": 0,
              "ticks": ""
             }
            },
            "type": "scatter3d"
           }
          ],
          "scattercarpet": [
           {
            "marker": {
             "colorbar": {
              "outlinewidth": 0,
              "ticks": ""
             }
            },
            "type": "scattercarpet"
           }
          ],
          "scattergeo": [
           {
            "marker": {
             "colorbar": {
              "outlinewidth": 0,
              "ticks": ""
             }
            },
            "type": "scattergeo"
           }
          ],
          "scattergl": [
           {
            "marker": {
             "colorbar": {
              "outlinewidth": 0,
              "ticks": ""
             }
            },
            "type": "scattergl"
           }
          ],
          "scattermapbox": [
           {
            "marker": {
             "colorbar": {
              "outlinewidth": 0,
              "ticks": ""
             }
            },
            "type": "scattermapbox"
           }
          ],
          "scatterpolar": [
           {
            "marker": {
             "colorbar": {
              "outlinewidth": 0,
              "ticks": ""
             }
            },
            "type": "scatterpolar"
           }
          ],
          "scatterpolargl": [
           {
            "marker": {
             "colorbar": {
              "outlinewidth": 0,
              "ticks": ""
             }
            },
            "type": "scatterpolargl"
           }
          ],
          "scatterternary": [
           {
            "marker": {
             "colorbar": {
              "outlinewidth": 0,
              "ticks": ""
             }
            },
            "type": "scatterternary"
           }
          ],
          "surface": [
           {
            "colorbar": {
             "outlinewidth": 0,
             "ticks": ""
            },
            "colorscale": [
             [
              0,
              "#0d0887"
             ],
             [
              0.1111111111111111,
              "#46039f"
             ],
             [
              0.2222222222222222,
              "#7201a8"
             ],
             [
              0.3333333333333333,
              "#9c179e"
             ],
             [
              0.4444444444444444,
              "#bd3786"
             ],
             [
              0.5555555555555556,
              "#d8576b"
             ],
             [
              0.6666666666666666,
              "#ed7953"
             ],
             [
              0.7777777777777778,
              "#fb9f3a"
             ],
             [
              0.8888888888888888,
              "#fdca26"
             ],
             [
              1,
              "#f0f921"
             ]
            ],
            "type": "surface"
           }
          ],
          "table": [
           {
            "cells": {
             "fill": {
              "color": "#EBF0F8"
             },
             "line": {
              "color": "white"
             }
            },
            "header": {
             "fill": {
              "color": "#C8D4E3"
             },
             "line": {
              "color": "white"
             }
            },
            "type": "table"
           }
          ]
         },
         "layout": {
          "annotationdefaults": {
           "arrowcolor": "#2a3f5f",
           "arrowhead": 0,
           "arrowwidth": 1
          },
          "autotypenumbers": "strict",
          "coloraxis": {
           "colorbar": {
            "outlinewidth": 0,
            "ticks": ""
           }
          },
          "colorscale": {
           "diverging": [
            [
             0,
             "#8e0152"
            ],
            [
             0.1,
             "#c51b7d"
            ],
            [
             0.2,
             "#de77ae"
            ],
            [
             0.3,
             "#f1b6da"
            ],
            [
             0.4,
             "#fde0ef"
            ],
            [
             0.5,
             "#f7f7f7"
            ],
            [
             0.6,
             "#e6f5d0"
            ],
            [
             0.7,
             "#b8e186"
            ],
            [
             0.8,
             "#7fbc41"
            ],
            [
             0.9,
             "#4d9221"
            ],
            [
             1,
             "#276419"
            ]
           ],
           "sequential": [
            [
             0,
             "#0d0887"
            ],
            [
             0.1111111111111111,
             "#46039f"
            ],
            [
             0.2222222222222222,
             "#7201a8"
            ],
            [
             0.3333333333333333,
             "#9c179e"
            ],
            [
             0.4444444444444444,
             "#bd3786"
            ],
            [
             0.5555555555555556,
             "#d8576b"
            ],
            [
             0.6666666666666666,
             "#ed7953"
            ],
            [
             0.7777777777777778,
             "#fb9f3a"
            ],
            [
             0.8888888888888888,
             "#fdca26"
            ],
            [
             1,
             "#f0f921"
            ]
           ],
           "sequentialminus": [
            [
             0,
             "#0d0887"
            ],
            [
             0.1111111111111111,
             "#46039f"
            ],
            [
             0.2222222222222222,
             "#7201a8"
            ],
            [
             0.3333333333333333,
             "#9c179e"
            ],
            [
             0.4444444444444444,
             "#bd3786"
            ],
            [
             0.5555555555555556,
             "#d8576b"
            ],
            [
             0.6666666666666666,
             "#ed7953"
            ],
            [
             0.7777777777777778,
             "#fb9f3a"
            ],
            [
             0.8888888888888888,
             "#fdca26"
            ],
            [
             1,
             "#f0f921"
            ]
           ]
          },
          "colorway": [
           "#636efa",
           "#EF553B",
           "#00cc96",
           "#ab63fa",
           "#FFA15A",
           "#19d3f3",
           "#FF6692",
           "#B6E880",
           "#FF97FF",
           "#FECB52"
          ],
          "font": {
           "color": "#2a3f5f"
          },
          "geo": {
           "bgcolor": "white",
           "lakecolor": "white",
           "landcolor": "#E5ECF6",
           "showlakes": true,
           "showland": true,
           "subunitcolor": "white"
          },
          "hoverlabel": {
           "align": "left"
          },
          "hovermode": "closest",
          "mapbox": {
           "style": "light"
          },
          "paper_bgcolor": "white",
          "plot_bgcolor": "#E5ECF6",
          "polar": {
           "angularaxis": {
            "gridcolor": "white",
            "linecolor": "white",
            "ticks": ""
           },
           "bgcolor": "#E5ECF6",
           "radialaxis": {
            "gridcolor": "white",
            "linecolor": "white",
            "ticks": ""
           }
          },
          "scene": {
           "xaxis": {
            "backgroundcolor": "#E5ECF6",
            "gridcolor": "white",
            "gridwidth": 2,
            "linecolor": "white",
            "showbackground": true,
            "ticks": "",
            "zerolinecolor": "white"
           },
           "yaxis": {
            "backgroundcolor": "#E5ECF6",
            "gridcolor": "white",
            "gridwidth": 2,
            "linecolor": "white",
            "showbackground": true,
            "ticks": "",
            "zerolinecolor": "white"
           },
           "zaxis": {
            "backgroundcolor": "#E5ECF6",
            "gridcolor": "white",
            "gridwidth": 2,
            "linecolor": "white",
            "showbackground": true,
            "ticks": "",
            "zerolinecolor": "white"
           }
          },
          "shapedefaults": {
           "line": {
            "color": "#2a3f5f"
           }
          },
          "ternary": {
           "aaxis": {
            "gridcolor": "white",
            "linecolor": "white",
            "ticks": ""
           },
           "baxis": {
            "gridcolor": "white",
            "linecolor": "white",
            "ticks": ""
           },
           "bgcolor": "#E5ECF6",
           "caxis": {
            "gridcolor": "white",
            "linecolor": "white",
            "ticks": ""
           }
          },
          "title": {
           "x": 0.05
          },
          "xaxis": {
           "automargin": true,
           "gridcolor": "white",
           "linecolor": "white",
           "ticks": "",
           "title": {
            "standoff": 15
           },
           "zerolinecolor": "white",
           "zerolinewidth": 2
          },
          "yaxis": {
           "automargin": true,
           "gridcolor": "white",
           "linecolor": "white",
           "ticks": "",
           "title": {
            "standoff": 15
           },
           "zerolinecolor": "white",
           "zerolinewidth": 2
          }
         }
        },
        "width": null,
        "xaxis": {
         "mirror": "allticks",
         "range": [
          0,
          15
         ],
         "rangemode": "tozero",
         "showgrid": false,
         "showline": true,
         "showticklabels": true,
         "ticks": "outside",
         "type": "linear",
         "zeroline": false
        },
        "yaxis": {
         "mirror": "allticks",
         "range": [
          -1915,
          -2065
         ],
         "rangemode": "tozero",
         "showgrid": false,
         "showline": true,
         "showticklabels": true,
         "tickmode": "array",
         "ticks": "outside",
         "ticktext": [
          "Anthony Brown",
          "Vince Edwards",
          "James Michael",
          "Zach Lofton",
          "Okaro White",
          "Erik McCree",
          "Derrick Williams",
          "Melvin Frazier",
          "Naz Mitrou-Long",
          "Jaylen Adams",
          "Josh McRoberts",
          "Jared Dudley",
          "Travis Wear",
          "Yuta Watanabe",
          "Jordan Loyd",
          "Reggie Hearn",
          "Luka Dončić",
          "Marc Gasol",
          "Jamal Murray",
          "Kevin Love",
          "C.J. Williams",
          "Gary Harris",
          "Josh Richardson",
          "Ricky Rubio",
          "Avery Bradley",
          "Jake Layman",
          "Damion Lee",
          "Wayne Selden",
          "Reggie Jackson",
          "Evan Fournier",
          "Justin Jackson",
          "Isaiah Canaan",
          "Courtney Lee",
          "D'Angelo Russell",
          "Buddy Hield",
          "Solomon Hill",
          "Jerian Grant",
          "Marcus Morris",
          "Frank Ntilikina",
          "Joe Young",
          "Bojan Bogdanović",
          "Devin Booker",
          "Lauri Markkanen",
          "Nemanja Bjelica",
          "Kent Bazemore",
          "Omari Spellman",
          "Johnny O'Bryant",
          "Frank Kaminsky",
          "J.J. Barea",
          "Mario Chalmers",
          "Tim Frazier",
          "Rodney Hood",
          "Tyler Ulis",
          "Joe Harris",
          "Mike Scott",
          "Cory Joseph",
          "Tyler Cavanaugh",
          "Maxi Kleber",
          "Bradley Beal",
          "D.J. Augustin",
          "Aaron Harrison",
          "Vince Carter",
          "José Calderón",
          "Wesley Johnson",
          "Malcolm Miller",
          "Paul Zipser",
          "Nicolas Batum",
          "Carmelo Anthony",
          "Dragan Bender",
          "Jae Crowder",
          "Reggie Bullock",
          "Ryan Arcidiacono",
          "Kyle Lowry",
          "Antonius Cleveland",
          "Wesley Matthews",
          "Malcolm Delaney",
          "Doug McDermott",
          "Džanan Musa",
          "Ben McLemore",
          "Jonas Jerebko",
          "Mikal Bridges",
          "Xavier Rathan-Mayes",
          "Gary Trent",
          "Chris Boucher",
          "Pat Connaughton",
          "Tyler Dorsey",
          "Fred VanVleet",
          "Malik Beasley",
          "Bruno Caboclo",
          "Norman Powell",
          "Guerschon Yabusele",
          "Joe Johnson",
          "Larry Drew",
          "Shabazz Napier",
          "Ty Lawson",
          "Damian Lillard",
          "Garrett Temple",
          "Lonzo Ball",
          "Denzel Valentine",
          "Taurean Prince",
          "Nik Stauskas",
          "Josh Hart",
          "Terry Rozier",
          "Donte DiVincenzo",
          "P.J. Tucker",
          "Stephen Curry",
          "Davon Reed",
          "James Nunnally",
          "Raymond Felton",
          "Jodie Meeks",
          "Shake Milton",
          "Yogi Ferrell",
          "Bryn Forbes",
          "Ron Baker",
          "Jerome Robinson",
          "Malachi Richardson",
          "Svi Mykhailiuk",
          "Rodney Purvis",
          "Tim Quarterman",
          "Luke Kornet",
          "Marcus Paige",
          "Mike Muscala",
          "Terrance Ferguson",
          "Andre Ingram",
          "Jameer Nelson",
          "Andrew White",
          "James Young",
          "Alec Peters",
          "Grayson Allen",
          "Marvin Williams",
          "Nikola Mirotić",
          "Darrell Arthur",
          "Lance Thomas",
          "Arron Afflalo",
          "Nigel Hayes",
          "Kadeem Allen",
          "Josh Huestis",
          "Daniel Hamilton",
          "Theo Pinson",
          "Jonathan Gibson",
          "Timothé Luwawu-Cabarrot",
          "Jordan McRae",
          "Lou Williams",
          "Tyus Jones",
          "Darrun Hilliard",
          "Sean Kilpatrick",
          "Brad Wanamaker",
          "Antonio Blakeney",
          "Henry Ellenson",
          "Landry Shamet",
          "Marreese Speights",
          "Darius Miller",
          "Jason Terry",
          "Jamal Crawford",
          "Dirk Nowitzki",
          "Langston Galloway",
          "Ryan Anderson",
          "Justin Holiday",
          "Marco Belinelli",
          "Josh Magette",
          "Allen Crabbe",
          "J.R. Smith",
          "Iman Shumpert",
          "J.J. Redick",
          "Jordan Crawford",
          "Quincy Acy",
          "Ryan Broekhoff",
          "Gerald Green",
          "Nick Young",
          "Thomas Welsh",
          "Álex Abrines",
          "Troy Daniels",
          "Wayne Ellington",
          "Miloš Teodosić",
          "Charles Cooke",
          "Patty Mills",
          "Kyle Korver",
          "Brandon Knight",
          "Xavier Silas",
          "Jevon Carter",
          "Semi Ojeleye",
          "Devin Harris",
          "Damyean Dotson",
          "Quinn Cook",
          "Malik Monk",
          "Georges Niang",
          "John Holland",
          "David Stockton",
          "Furkan Korkmaz",
          "Chandler Parsons",
          "Tony Snell",
          "Damien Wilkins",
          "Robert Covington",
          "Klay Thompson",
          "Brandon Jennings",
          "Patrick Beverley",
          "Tim Hardaway",
          "Eric Gordon",
          "Chris Paul",
          "Luke Kennard",
          "Seth Curry",
          "Aaron Holiday",
          "Marcus Derrickson",
          "Khyri Thomas",
          "Anthony Tolliver",
          "C.J. Miles",
          "Terrence Ross",
          "Matthew Dellavedova",
          "R.J. Hunter",
          "Channing Frye",
          "Dāvis Bertāns",
          "Danny Green",
          "Patrick Patterson",
          "Rashad Vaughn",
          "Trevor Ariza",
          "Omari Johnson",
          "Udonis Haslem",
          "Marcus Smart",
          "Jerryd Bayless",
          "Kevin Huerter",
          "Brook Lopez",
          "Joe Ingles",
          "Kentavious Caldwell-Pope",
          "Gordon Hayward",
          "Paul George",
          "DeMarre Carroll",
          "Khris Middleton",
          "Otto Porter",
          "James Harden",
          "Kevin Durant",
          "Bogdan Bogdanović",
          "Kemba Walker",
          "Al-Farouq Aminu",
          "Tyler Johnson",
          "Markel Brown",
          "James Webb",
          "Keita Bates-Diop",
          "Vander Blue",
          "Derrick Walton",
          "Jarell Eddie",
          "Duncan Robinson",
          "Luke Babbitt",
          "Gary Clark",
          "Julyan Stone",
          "Scotty Hopson",
          "Luis Montero",
          "Tyler Davis",
          "Mitchell Robinson",
          "Ömer Aşık",
          "Andre Roberson",
          "Clint Capela",
          "Rudy Gobert",
          "Amile Jefferson",
          "DeAndre Jordan",
          "Tyson Chandler",
          "Jeremy Evans",
          "Matt Costello",
          "D.J. Stephens",
          "Marshall Plumlee",
          "Tony Bradley",
          "Jakob Poeltl",
          "Robert Williams",
          "Mangok Mathiang",
          "Nick Collison",
          "Ante Žižić",
          "Tarik Black",
          "Kendrick Perkins",
          "Timofey Mozgov",
          "Damian Jones",
          "Ekpe Udoh",
          "Ivica Zubac",
          "Joffrey Lauvergne",
          "Kenneth Faried",
          "Montrezl Harrell",
          "Salah Mejri",
          "Ed Davis",
          "Mason Plumlee",
          "Greg Monroe",
          "Eric Moreland",
          "Ian Mahinmi",
          "Nenê made",
          "Steven Adams",
          "Miles Plumlee",
          "Andre Drummond",
          "Jarrett Allen",
          "Bismack Biyombo",
          "Enes Freedom",
          "JaVale McGee",
          "Tristan Thompson",
          "Brandan Wright",
          "Jahlil Okafor",
          "Richaun Holmes",
          "Johnathan Williams",
          "Emeka Okafor",
          "Marcin Gortat",
          "Alan Williams",
          "Cody Zeller",
          "Jusuf Nurkić",
          "Hassan Whiteside",
          "Isaiah Hartenstein",
          "Kosta Koufos",
          "Willie Cauley-Stein",
          "Ben Simmons",
          "Kevon Looney",
          "Dwight Howard",
          "Zaza Pachulia",
          "Jack Cooley",
          "Dakari Johnson",
          "Devin Robinson",
          "Tyler Zeller",
          "Willie Reed",
          "Khem Birch",
          "Boban Marjanović",
          "Bam Adebayo",
          "Joakim Noah",
          "Deyonta Davis",
          "Domantas Sabonis",
          "Willy Hernangómez",
          "Jameel Warney",
          "Cole Aldrich",
          "Cristiano Felício",
          "Cheick Diallo",
          "Nerlens Noel",
          "Walt Lemon",
          "Alize Johnson",
          "Isaiah Whitehead",
          "DeVaughn Akoon-Purcell",
          "PJ Dozier",
          "Jonah Bolden",
          "Mike James",
          "Jacob Evans",
          "DeAndre Liggins",
          "Kay Felder",
          "James Johnson",
          "Zach Randolph",
          "Briante Weber",
          "Jimmy Butler",
          "Raul Neto",
          "Luol Deng",
          "Troy Williams",
          "Wade Baldwin",
          "Ike Anigbogu",
          "Zhou Qi",
          "Kenrich Williams",
          "T.J. McConnell",
          "Dennis Smith",
          "Marquis Teague",
          "Alfonzo McKinnie",
          "Moritz Wagner",
          "Meyers Leonard",
          "Andrew Harrison",
          "Lorenzo Brown",
          "Chasson Randle",
          "Brandon Goodwin",
          "Trey Burke",
          "Ian Clark",
          "Jamel Artis",
          "Elie Okobo",
          "Mario Hezonja",
          "Milton Doyle",
          "Aaron Brooks",
          "Austin Rivers",
          "Victor Oladipo",
          "George Hill",
          "Rodney McGruder",
          "Jaron Blossomgame",
          "Cedi Osman",
          "Dorian Finney-Smith",
          "Tyler Lydon",
          "Justin Anderson",
          "Jordan Clarkson",
          "Kelly Oubre",
          "Sterling Brown",
          "Alex Caruso",
          "Miles Bridges",
          "Derrick White",
          "Jalen Brunson",
          "Jalen Jones",
          "Zach Collins",
          "Jeremy Lin",
          "Troy Caupain",
          "Jason Smith",
          "D.J. Wilson",
          "Edmond Sumner",
          "Eric Bledsoe",
          "Monte Morris",
          "Dennis Schröder",
          "Shelvin Mack",
          "Ersan İlyasova",
          "MarShon Brooks",
          "Donovan Mitchell",
          "Manu Ginóbili",
          "Kawhi Leonard",
          "Shane Larkin",
          "Trae Young",
          "Al Horford",
          "Jeff Green",
          "Mo Bamba",
          "Kelly Olynyk",
          "Mike Conley",
          "Devonte' Graham",
          "Jared Terrell",
          "Spencer Dinwiddie",
          "Darren Collison",
          "De'Anthony Melton",
          "Danilo Gallinari",
          "Isaiah Thomas",
          "Juancho Hernangómez",
          "Frank Jackson",
          "Danuel House",
          "Myke Henry",
          "Stanley Johnson",
          "Thon Maker",
          "Treveon Graham",
          "Luc Mbah",
          "Tyreke Evans",
          "Wilson Chandler",
          "Collin Sexton",
          "Dante Cunningham",
          "Tobias Harris",
          "Jonathan Isaac",
          "Markieff Morris",
          "OG Anunoby",
          "CJ McCollum",
          "Harrison Barnes",
          "Andre Iguodala",
          "Kyle Kuzma",
          "Dewayne Dedmon",
          "James Ennis",
          "Jarrett Jack",
          "Jayson Tatum",
          "Dillon Brooks",
          "Myles Turner",
          "Lance Stephenson",
          "Xavier Munford",
          "Thabo Sefolosha",
          "Josh Okogie",
          "London Perrantes",
          "Dario Šarić",
          "Kristaps Porziņģis",
          "Cameron Payne",
          "Glenn Robinson",
          "Kevin Knox",
          "Kyrie Irving",
          "Rawle Alkins",
          "Drew Eubanks",
          "Justin Patton",
          "David Nwaba",
          "Isaac Bonga",
          "Robin Lopez",
          "Thomas Bryant",
          "JaKarr Sampson",
          "Michael Kidd-Gilchrist",
          "Tyrone Wallace",
          "Marvin Bagley",
          "Jonas Valančiūnas",
          "Johnathan Motley",
          "Derrick Favors",
          "John Collins",
          "Ivan Rabb",
          "Pascal Siakam",
          "Dwight Powell",
          "Omri Casspi",
          "Chinanu Onuaku",
          "Trevor Booker",
          "Hamidou Diallo",
          "Sam Dekker",
          "John Henson",
          "Julius Randle",
          "Deandre Ayton",
          "Taj Gibson",
          "Isaiah Hicks",
          "Jabari Bird",
          "Nenê missed",
          "Alex Len",
          "Jordan Bell",
          "Alex Poythress",
          "Chimezie Metu",
          "Christian Wood",
          "Jordan Mickey",
          "Sindarius Thornwell",
          "Chandler Hutchison",
          "Isaiah Taylor",
          "Corey Brewer",
          "Marcus Georges-Hunt",
          "LaMarcus Aldridge",
          "Anthony Davis",
          "Jaren Jackson",
          "Wendell Carter",
          "Caleb Swanigan",
          "Derrick Jones",
          "Giannis Antetokounmpo",
          "Dejounte Murray",
          "Thaddeus Young",
          "Shabazz Muhammad",
          "Al Jefferson",
          "Richard Jefferson",
          "Brice Johnson",
          "Dante Exum",
          "Kyle Singler",
          "Kyle Anderson",
          "Markelle Fultz",
          "Harry Giles",
          "Jon Leuer",
          "Kyle O'Quinn",
          "Kyle Collinsworth",
          "Lucas Nogueira",
          "Shaquille Harrison",
          "Georgios Papagiannis",
          "Larry Nance",
          "Amir Johnson",
          "Elfrid Payton",
          "Rondae Hollis-Jefferson",
          "Jerami Grant",
          "David West",
          "Michael Beasley",
          "Paul Millsap",
          "Aron Baynes",
          "Pau Gasol",
          "Ramon Sessions",
          "Skal Labissière",
          "Brandon Ingram",
          "Kobi Simmons",
          "T.J. Warren",
          "Jawun Evans",
          "Daniel Theis",
          "DeAndre' Bembry",
          "Bruce Brown",
          "Shaun Livingston",
          "Aaron Jackson",
          "Blake Griffin",
          "Jeremy Lamb",
          "Aaron Gordon",
          "Andrew Wiggins",
          "Serge Ibaka",
          "Will Barton",
          "E'Twaun Moore",
          "Emmanuel Mudiay",
          "Gorgui Dieng",
          "Trey Lyles",
          "Jeff Teague",
          "LeBron James",
          "Nikola Vučević",
          "Josh Gray",
          "Noah Vonleh",
          "Jabari Parker",
          "Maurice Harkless",
          "Evan Turner",
          "Kris Dunn",
          "Tomáš Satoranský",
          "Goran Dragić",
          "John Wall",
          "Torrey Craig",
          "Jaylen Brown",
          "Rudy Gay",
          "Jarell Martin",
          "Marquese Chriss",
          "Royce O'Neale",
          "Ish Smith",
          "Bobby Portis",
          "Patrick McCaw",
          "JaMychal Green",
          "Shai Gilgeous-Alexander",
          "Jrue Holiday",
          "Joel Embiid",
          "Nikola Jokić",
          "Josh Jackson",
          "Rajon Rondo",
          "Karl-Anthony Towns",
          "Tony Parker",
          "Malcolm Brogdon",
          "Russell Westbrook",
          "Caris LeVert",
          "Justise Winslow",
          "Deonte Burton",
          "Jaylen Morris",
          "De'Aaron Fox",
          "Chris McCullough",
          "Dwyane Wade",
          "T.J. Leaf",
          "DeMarcus Cousins",
          "Rodions Kurucs",
          "Wes Iwundu",
          "Delon Wright",
          "Brandon Paul",
          "Tyler Ennis",
          "Isaiah Briscoe",
          "Troy Brown",
          "Derrick Rose",
          "Gary Payton",
          "Quincy Pondexter",
          "Demetrius Jackson",
          "Allonzo Trier",
          "Michael Carter-Williams",
          "Draymond Green",
          "Jonathon Simmons",
          "DeMar DeRozan",
          "Zach LaVine",
          "Dwight Buycks",
          "Frank Mason",
          "Abdel Nader",
          "Dwayne Bacon",
          "Alec Burks",
          "Anfernee Simons"
         ],
         "tickvals": [
          -5,
          -15,
          -25,
          -35,
          -45,
          -55,
          -65,
          -75,
          -85,
          -95,
          -105,
          -115,
          -125,
          -135,
          -145,
          -155,
          -165,
          -175,
          -185,
          -195,
          -205,
          -215,
          -225,
          -235,
          -245,
          -255,
          -265,
          -275,
          -285,
          -295,
          -305,
          -315,
          -325,
          -335,
          -345,
          -355,
          -365,
          -375,
          -385,
          -395,
          -405,
          -415,
          -425,
          -435,
          -445,
          -455,
          -465,
          -475,
          -485,
          -495,
          -505,
          -515,
          -525,
          -535,
          -545,
          -555,
          -565,
          -575,
          -585,
          -595,
          -605,
          -615,
          -625,
          -635,
          -645,
          -655,
          -665,
          -675,
          -685,
          -695,
          -705,
          -715,
          -725,
          -735,
          -745,
          -755,
          -765,
          -775,
          -785,
          -795,
          -805,
          -815,
          -825,
          -835,
          -845,
          -855,
          -865,
          -875,
          -885,
          -895,
          -905,
          -915,
          -925,
          -935,
          -945,
          -955,
          -965,
          -975,
          -985,
          -995,
          -1005,
          -1015,
          -1025,
          -1035,
          -1045,
          -1055,
          -1065,
          -1075,
          -1085,
          -1095,
          -1105,
          -1115,
          -1125,
          -1135,
          -1145,
          -1155,
          -1165,
          -1175,
          -1185,
          -1195,
          -1205,
          -1215,
          -1225,
          -1235,
          -1245,
          -1255,
          -1265,
          -1275,
          -1285,
          -1295,
          -1305,
          -1315,
          -1325,
          -1335,
          -1345,
          -1355,
          -1365,
          -1375,
          -1385,
          -1395,
          -1405,
          -1415,
          -1425,
          -1435,
          -1445,
          -1455,
          -1465,
          -1475,
          -1485,
          -1495,
          -1505,
          -1515,
          -1525,
          -1535,
          -1545,
          -1555,
          -1565,
          -1575,
          -1585,
          -1595,
          -1605,
          -1615,
          -1625,
          -1635,
          -1645,
          -1655,
          -1665,
          -1675,
          -1685,
          -1695,
          -1705,
          -1715,
          -1725,
          -1735,
          -1745,
          -1755,
          -1765,
          -1775,
          -1785,
          -1795,
          -1805,
          -1815,
          -1825,
          -1835,
          -1845,
          -1855,
          -1865,
          -1875,
          -1885,
          -1895,
          -1905,
          -1915,
          -1925,
          -1935,
          -1945,
          -1955,
          -1965,
          -1975,
          -1985,
          -1995,
          -2005,
          -2015,
          -2025,
          -2035,
          -2045,
          -2055,
          -2065,
          -2075,
          -2085,
          -2095,
          -2105,
          -2115,
          -2125,
          -2135,
          -2145,
          -2155,
          -2165,
          -2175,
          -2185,
          -2195,
          -2205,
          -2215,
          -2225,
          -2235,
          -2245,
          -2255,
          -2265,
          -2275,
          -2285,
          -2295,
          -2305,
          -2315,
          -2325,
          -2335,
          -2345,
          -2355,
          -2365,
          -2375,
          -2385,
          -2395,
          -2405,
          -2415,
          -2425,
          -2435,
          -2445,
          -2455,
          -2465,
          -2475,
          -2485,
          -2495,
          -2505,
          -2515,
          -2525,
          -2535,
          -2545,
          -2555,
          -2565,
          -2575,
          -2585,
          -2595,
          -2605,
          -2615,
          -2625,
          -2635,
          -2645,
          -2655,
          -2665,
          -2675,
          -2685,
          -2695,
          -2705,
          -2715,
          -2725,
          -2735,
          -2745,
          -2755,
          -2765,
          -2775,
          -2785,
          -2795,
          -2805,
          -2815,
          -2825,
          -2835,
          -2845,
          -2855,
          -2865,
          -2875,
          -2885,
          -2895,
          -2905,
          -2915,
          -2925,
          -2935,
          -2945,
          -2955,
          -2965,
          -2975,
          -2985,
          -2995,
          -3005,
          -3015,
          -3025,
          -3035,
          -3045,
          -3055,
          -3065,
          -3075,
          -3085,
          -3095,
          -3105,
          -3115,
          -3125,
          -3135,
          -3145,
          -3155,
          -3165,
          -3175,
          -3185,
          -3195,
          -3205,
          -3215,
          -3225,
          -3235,
          -3245,
          -3255,
          -3265,
          -3275,
          -3285,
          -3295,
          -3305,
          -3315,
          -3325,
          -3335,
          -3345,
          -3355,
          -3365,
          -3375,
          -3385,
          -3395,
          -3405,
          -3415,
          -3425,
          -3435,
          -3445,
          -3455,
          -3465,
          -3475,
          -3485,
          -3495,
          -3505,
          -3515,
          -3525,
          -3535,
          -3545,
          -3555,
          -3565,
          -3575,
          -3585,
          -3595,
          -3605,
          -3615,
          -3625,
          -3635,
          -3645,
          -3655,
          -3665,
          -3675,
          -3685,
          -3695,
          -3705,
          -3715,
          -3725,
          -3735,
          -3745,
          -3755,
          -3765,
          -3775,
          -3785,
          -3795,
          -3805,
          -3815,
          -3825,
          -3835,
          -3845,
          -3855,
          -3865,
          -3875,
          -3885,
          -3895,
          -3905,
          -3915,
          -3925,
          -3935,
          -3945,
          -3955,
          -3965,
          -3975,
          -3985,
          -3995,
          -4005,
          -4015,
          -4025,
          -4035,
          -4045,
          -4055,
          -4065,
          -4075,
          -4085,
          -4095,
          -4105,
          -4115,
          -4125,
          -4135,
          -4145,
          -4155,
          -4165,
          -4175,
          -4185,
          -4195,
          -4205,
          -4215,
          -4225,
          -4235,
          -4245,
          -4255,
          -4265,
          -4275,
          -4285,
          -4295,
          -4305,
          -4315,
          -4325,
          -4335,
          -4345,
          -4355,
          -4365,
          -4375,
          -4385,
          -4395,
          -4405,
          -4415,
          -4425,
          -4435,
          -4445,
          -4455,
          -4465,
          -4475,
          -4485,
          -4495,
          -4505,
          -4515,
          -4525,
          -4535,
          -4545,
          -4555,
          -4565,
          -4575,
          -4585,
          -4595,
          -4605,
          -4615,
          -4625,
          -4635,
          -4645,
          -4655,
          -4665,
          -4675,
          -4685,
          -4695,
          -4705,
          -4715,
          -4725,
          -4735,
          -4745,
          -4755,
          -4765,
          -4775,
          -4785,
          -4795,
          -4805,
          -4815,
          -4825,
          -4835,
          -4845,
          -4855,
          -4865,
          -4875,
          -4885,
          -4895,
          -4905,
          -4915,
          -4925,
          -4935,
          -4945,
          -4955,
          -4965,
          -4975,
          -4985,
          -4995,
          -5005,
          -5015,
          -5025,
          -5035,
          -5045,
          -5055,
          -5065,
          -5075,
          -5085,
          -5095,
          -5105,
          -5115,
          -5125,
          -5135,
          -5145,
          -5155,
          -5165,
          -5175,
          -5185,
          -5195,
          -5205,
          -5215,
          -5225,
          -5235,
          -5245,
          -5255,
          -5265,
          -5275,
          -5285,
          -5295,
          -5305,
          -5315,
          -5325,
          -5335,
          -5345,
          -5355,
          -5365,
          -5375,
          -5385,
          -5395,
          -5405,
          -5415,
          -5425,
          -5435,
          -5445,
          -5455,
          -5465,
          -5475,
          -5485,
          -5495,
          -5505,
          -5515,
          -5525,
          -5535,
          -5545,
          -5555,
          -5565,
          -5575,
          -5585,
          -5595,
          -5605,
          -5615,
          -5625,
          -5635,
          -5645,
          -5655,
          -5665,
          -5675,
          -5685,
          -5695,
          -5705,
          -5715,
          -5725,
          -5735,
          -5745,
          -5755,
          -5765,
          -5775,
          -5785,
          -5795,
          -5805,
          -5815,
          -5825,
          -5835,
          -5845,
          -5855,
          -5865,
          -5875,
          -5885,
          -5895,
          -5905,
          -5915,
          -5925,
          -5935,
          -5945,
          -5955,
          -5965,
          -5975,
          -5985,
          -5995,
          -6005,
          -6015,
          -6025,
          -6035
         ],
         "type": "linear",
         "zeroline": false
        }
       }
      }
     },
     "metadata": {},
     "output_type": "display_data"
    }
   ],
   "source": [
    "fig2 = create_dendrogram(X, labels=y, color_threshold=10, orientation='left')\n",
    "\n",
    "target_player = 'Chris Paul'\n",
    "tick_idx = np.argwhere(fig2.layout.yaxis.ticktext == target_player)[0][0]\n",
    "# tick_val = fig2.layout.xaxis.tickvals[tick_idx]\n",
    "\n",
    "zoomed_y_axis = [fig2.layout.yaxis.tickvals[tick_idx - 7], fig2.layout.yaxis.tickvals[tick_idx + 8]]\n",
    "zoomed_x_axis = [0, 15]\n",
    "\n",
    "fig2.update_xaxes(range=zoomed_x_axis)#, rangeslider=dict(visible=True))\n",
    "fig2.update_yaxes(range=zoomed_y_axis)\n",
    "fig2.show()"
   ]
  }
 ],
 "metadata": {
  "kernelspec": {
   "display_name": ".venv",
   "language": "python",
   "name": "python3"
  },
  "language_info": {
   "codemirror_mode": {
    "name": "ipython",
    "version": 3
   },
   "file_extension": ".py",
   "mimetype": "text/x-python",
   "name": "python",
   "nbconvert_exporter": "python",
   "pygments_lexer": "ipython3",
   "version": "3.11.3"
  }
 },
 "nbformat": 4,
 "nbformat_minor": 2
}
